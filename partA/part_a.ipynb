{
  "cells": [
    {
      "cell_type": "markdown",
      "metadata": {
        "id": "F0eD_rT4g1EX"
      },
      "source": [
        "## A. IMPORT STATEMENTS"
      ]
    },
    {
      "cell_type": "code",
      "execution_count": 1,
      "metadata": {
        "id": "C2L86wiMuNqa"
      },
      "outputs": [],
      "source": [
        "# Import Statements\n",
        "import torch\n",
        "import torchvision\n",
        "import torchvision.transforms as transforms\n",
        "import torch.nn as nn\n",
        "import torch.nn.functional as F\n",
        "import torch.optim as optim\n",
        "import numpy as np\n",
        "from sklearn.model_selection import train_test_split\n",
        "from tqdm import tqdm\n",
        "import wandb\n",
        "import random"
      ]
    },
    {
      "cell_type": "markdown",
      "metadata": {
        "id": "o3qnmtUIg6Oi"
      },
      "source": [
        "## B. SET UP FOR DEVICE AGNOSTIC CODE"
      ]
    },
    {
      "cell_type": "code",
      "execution_count": 2,
      "metadata": {
        "colab": {
          "base_uri": "https://localhost:8080/"
        },
        "id": "cNYFc8XTuNqc",
        "outputId": "28514ac4-012b-4d81-da48-0c1b76238508"
      },
      "outputs": [
        {
          "data": {
            "text/plain": [
              "True"
            ]
          },
          "execution_count": 2,
          "metadata": {},
          "output_type": "execute_result"
        }
      ],
      "source": [
        "# Check if GPU is available\n",
        "torch.cuda.is_available()"
      ]
    },
    {
      "cell_type": "code",
      "execution_count": 3,
      "metadata": {
        "colab": {
          "base_uri": "https://localhost:8080/",
          "height": 36
        },
        "id": "c042a_rtuNqd",
        "outputId": "d20f4afa-f68b-4065-872b-f6ce046757aa"
      },
      "outputs": [
        {
          "data": {
            "application/vnd.google.colaboratory.intrinsic+json": {
              "type": "string"
            },
            "text/plain": [
              "'cuda:0'"
            ]
          },
          "execution_count": 3,
          "metadata": {},
          "output_type": "execute_result"
        }
      ],
      "source": [
        "# Setup device agnostic code\n",
        "device = \"cuda:0\" if torch.cuda.is_available() else \"cpu\"\n",
        "device"
      ]
    },
    {
      "cell_type": "markdown",
      "metadata": {
        "id": "vU4fWvW1hA73"
      },
      "source": [
        "## C. DATA LOADING AND PREPROCESSING STEPS\n",
        "### NOTE:- I have unzipped the inaturalist_12K dataset and uploaded to the Google Drive for easier access."
      ]
    },
    {
      "cell_type": "code",
      "execution_count": 4,
      "metadata": {
        "colab": {
          "base_uri": "https://localhost:8080/"
        },
        "id": "zKCZWjF3uNqd",
        "outputId": "779d4907-d9bb-4947-b856-480ecb4e37db"
      },
      "outputs": [
        {
          "name": "stdout",
          "output_type": "stream",
          "text": [
            "Mounted at /content/drive\n"
          ]
        }
      ],
      "source": [
        "# Mount the google drive (RUN ONLY IN COLAB)\n",
        "from google.colab import drive\n",
        "drive.mount(\"/content/drive\")"
      ]
    },
    {
      "cell_type": "code",
      "execution_count": 5,
      "metadata": {
        "id": "jwfQBJ0MuNqd"
      },
      "outputs": [],
      "source": [
        "# Set up data directory path\n",
        "TRAIN_DATA_DIR = \"/content/drive/My Drive/Data/inaturalist_12K/train\"\n",
        "TEST_DATA_DIR = \"/content/drive/My Drive/Data/inaturalist_12K/val\""
      ]
    },
    {
      "cell_type": "code",
      "execution_count": null,
      "metadata": {
        "id": "cebH2ID5hgX_"
      },
      "outputs": [],
      "source": [
        "def data_transformations(image_size=(224, 224), data_augment=False):\n",
        "\n",
        "  \"\"\"This function returns data transformations for the images data.\"\"\"\n",
        "\n",
        "  # Define transformations to be applied (Base Transformations)\n",
        "  transformations = [\n",
        "    transforms.Resize(image_size),\n",
        "    transforms.ToTensor(),\n",
        "    transforms.Normalize(mean = [0.485, 0.456, 0.406], std = [0.229, 0.224, 0.225]) # NOTE:- I am planning to use EfficientNetV2 for part B of the assignment so using the same values as used for that network\n",
        "  ]\n",
        "\n",
        "  # If Augmentation is needed, add them to transform list\n",
        "  if data_augment:\n",
        "    transformations += [\n",
        "      transforms.RandomHorizontalFlip(0.05),\n",
        "      transforms.RandomVerticalFlip(0.05),\n",
        "      transforms.RandomRotation(degrees=20),\n",
        "      transforms.RandomApply([transforms.ColorJitter(0.2, 0.2, 0.2, 0.2)], p=0.05),\n",
        "      transforms.RandomApply([transforms.GaussianBlur(3)], p=0.05)\n",
        "    ]\n",
        "\n",
        "  transformer = transforms.Compose(transformations)\n",
        "\n",
        "  return transformer\n",
        "\n",
        "\n",
        "def get_train_and_val_dataloaders(train_data_dir, image_size=(224, 224), data_augment=False, valset_size=0.2, batch_size=16):\n",
        "\n",
        "  \"\"\"This function returns the dataloader for trainset and validation set and classnames\"\"\"\n",
        "\n",
        "  transformer = data_transformations(image_size, data_augment)\n",
        "\n",
        "  # Dowload the total_train dataset\n",
        "  total_trainset = torchvision.datasets.ImageFolder(root = train_data_dir, transform=transformer)\n",
        "\n",
        "  # Get the classnames\n",
        "  classnames = total_trainset.classes\n",
        "\n",
        "  # Split the total_train data into train data and val data\n",
        "  labels = [label for _, label in total_trainset.samples]\n",
        "\n",
        "  if valset_size != 0:\n",
        "    train_indices, val_indices = train_test_split(\n",
        "                                    range(len(total_trainset)),\n",
        "                                    test_size=valset_size,\n",
        "                                    stratify=labels,\n",
        "                                    random_state=42\n",
        "                                    )\n",
        "  else:\n",
        "    train_indices = range(len(total_trainset))\n",
        "    val_indices = []\n",
        "\n",
        "  # Create the trainset and valset\n",
        "  trainset = torch.utils.data.Subset(total_trainset, train_indices)\n",
        "  valset = torch.utils.data.Subset(total_trainset, val_indices)\n",
        "\n",
        "  # Create the dataloaders\n",
        "  trainloader = torch.utils.data.DataLoader(trainset, batch_size=batch_size,\n",
        "                                            shuffle=True, num_workers=2)\n",
        "\n",
        "  valloader = torch.utils.data.DataLoader(valset, batch_size=batch_size,\n",
        "                                          shuffle=False, num_workers=2)\n",
        "\n",
        "  return trainloader, valloader, classnames\n",
        "\n",
        "\n",
        "\n",
        "def get_test_dataloader(test_data_dir, image_size=(224, 224), batch_size=16):\n",
        "\n",
        "  \"\"\"This function returns the test dataloader\"\"\"\n",
        "\n",
        "  transformer = data_transformations(image_size, False)\n",
        "\n",
        "  #Download the test data\n",
        "  testset = torchvision.datasets.ImageFolder(root=test_data_dir, transform=transformer)\n",
        "\n",
        "\n",
        "\n",
        "  testloader = torch.utils.data.DataLoader(testset, batch_size=batch_size,\n",
        "                                          shuffle=False, num_workers=2)\n",
        "\n",
        "  return testloader"
      ]
    },
    {
      "cell_type": "markdown",
      "metadata": {
        "id": "Ro7VkemAhJs8"
      },
      "source": [
        "## D. MODEL CLASS\n",
        "The model defined below is a CNN Model class with the help of PyTorch nn.Module.\n",
        "Model Specifications:-\n",
        "1. 5 Convolution Blocks\n",
        "2. 1 Fully connected layer\n",
        "3. 1 output layer\n",
        "4. Number of filters, kernel sizes, fully connected layer size, etc. are modular."
      ]
    },
    {
      "cell_type": "code",
      "execution_count": 8,
      "metadata": {
        "id": "C23aonrxuNqe"
      },
      "outputs": [],
      "source": [
        "class CNNModel(nn.Module):\n",
        "  def __init__(self, image_size, in_channels=3, num_classes=10,\n",
        "                num_filters=[64, 64, 64, 64, 64], kernel_size=[3, 3, 3, 3, 3],\n",
        "                activation_fn=nn.ReLU, fc_layer_size=2048,\n",
        "                batchnorm=False, dropout=0.0):\n",
        "\n",
        "    super().__init__()\n",
        "\n",
        "    h, w = image_size\n",
        "\n",
        "    # Block 1\n",
        "    self.conv1 = nn.Conv2d(in_channels=in_channels, out_channels=num_filters[0], kernel_size=kernel_size[0])\n",
        "    h, w = h - kernel_size[0] + 1, w - kernel_size[0] + 1\n",
        "    self.batchnorm1 = nn.BatchNorm2d(num_filters[0]) if batchnorm else nn.Identity()\n",
        "    self.activation1 = activation_fn()\n",
        "    self.dropout1 = nn.Dropout2d(dropout) if dropout!=0 else nn.Identity()\n",
        "    self.maxpool1 = nn.MaxPool2d(2, 2)\n",
        "    h, w = h//2, w//2\n",
        "\n",
        "    # Block 2\n",
        "    self.conv2 = nn.Conv2d(in_channels=num_filters[0], out_channels=num_filters[1], kernel_size=kernel_size[1])\n",
        "    h, w = h - kernel_size[1] + 1, w - kernel_size[1] + 1\n",
        "    self.batchnorm2 = nn.BatchNorm2d(num_filters[1]) if batchnorm else nn.Identity()\n",
        "    self.activation2 = activation_fn()\n",
        "    self.dropout2 = nn.Dropout2d(dropout) if dropout!=0 else nn.Identity()\n",
        "    self.maxpool2 = nn.MaxPool2d(2, 2)\n",
        "    h, w = h//2, w//2\n",
        "\n",
        "    # Block 3\n",
        "    self.conv3 = nn.Conv2d(in_channels=num_filters[1], out_channels=num_filters[2], kernel_size=kernel_size[2])\n",
        "    h, w = h - kernel_size[2] + 1, w - kernel_size[2] + 1\n",
        "    self.batchnorm3 = nn.BatchNorm2d(num_filters[2]) if batchnorm else nn.Identity()\n",
        "    self.activation3 = activation_fn()\n",
        "    self.dropout3 = nn.Dropout2d(dropout) if dropout!=0 else nn.Identity()\n",
        "    self.maxpool3 = nn.MaxPool2d(2, 2)\n",
        "    h, w = h//2, w//2\n",
        "\n",
        "    # Block 4\n",
        "    self.conv4 = nn.Conv2d(in_channels=num_filters[2], out_channels=num_filters[3], kernel_size=kernel_size[3])\n",
        "    h, w = h - kernel_size[3] + 1, w - kernel_size[3] + 1\n",
        "    self.batchnorm4 = nn.BatchNorm2d(num_filters[3]) if batchnorm else nn.Identity()\n",
        "    self.activation4 = activation_fn()\n",
        "    self.dropout4 = nn.Dropout2d(dropout) if dropout!=0 else nn.Identity()\n",
        "    self.maxpool4 = nn.MaxPool2d(2, 2)\n",
        "    h, w = h//2, w//2\n",
        "\n",
        "    # Block 5\n",
        "    self.conv5 = nn.Conv2d(in_channels=num_filters[3], out_channels=num_filters[4], kernel_size=kernel_size[4])\n",
        "    h, w = h - kernel_size[4] + 1, w - kernel_size[4] + 1\n",
        "    self.batchnorm5 = nn.BatchNorm2d(num_filters[4]) if batchnorm else nn.Identity()\n",
        "    self.activation5 = activation_fn()\n",
        "    self.dropout5 = nn.Dropout2d(dropout) if dropout!=0 else nn.Identity()\n",
        "    self.maxpool5 = nn.MaxPool2d(2, 2)\n",
        "    h, w = h//2, w//2\n",
        "\n",
        "    # Flattening layer\n",
        "    self.flatten = nn.Flatten()\n",
        "\n",
        "    # Fully connected layer\n",
        "    self.fc_layer = nn.Linear(in_features=num_filters[4] * h * w, out_features=fc_layer_size)\n",
        "    self.batchnorm_fc = nn.BatchNorm1d(fc_layer_size) if batchnorm else nn.Identity()\n",
        "    self.act_fc = activation_fn()\n",
        "    self.drop_fc = nn.Dropout(dropout) if dropout!=0 else nn.Identity()\n",
        "\n",
        "    # Output layer\n",
        "    self.out = nn.Linear(in_features=fc_layer_size, out_features=num_classes)\n",
        "\n",
        "  def forward(self, x):\n",
        "    # Block 1\n",
        "    x = self.conv1(x)\n",
        "    x = self.batchnorm1(x)\n",
        "    x = self.activation1(x)\n",
        "    x = self.dropout1(x)\n",
        "    x = self.maxpool1(x)\n",
        "\n",
        "    # Block 2\n",
        "    x = self.conv2(x)\n",
        "    x = self.batchnorm2(x)\n",
        "    x = self.activation2(x)\n",
        "    x = self.dropout2(x)\n",
        "    x = self.maxpool2(x)\n",
        "\n",
        "    # Block 3\n",
        "    x = self.conv3(x)\n",
        "    x = self.batchnorm3(x)\n",
        "    x = self.activation3(x)\n",
        "    x = self.dropout3(x)\n",
        "    x = self.maxpool3(x)\n",
        "\n",
        "    # Block 4\n",
        "    x = self.conv4(x)\n",
        "    x = self.batchnorm4(x)\n",
        "    x = self.activation4(x)\n",
        "    x = self.dropout4(x)\n",
        "    x = self.maxpool4(x)\n",
        "\n",
        "    # Block 5\n",
        "    x = self.conv5(x)\n",
        "    x = self.batchnorm5(x)\n",
        "    x = self.activation5(x)\n",
        "    x = self.dropout5(x)\n",
        "    x = self.maxpool5(x)\n",
        "\n",
        "    # Flatten\n",
        "    x = self.flatten(x)\n",
        "\n",
        "    # Fully connected layers\n",
        "    x = self.fc_layer(x)\n",
        "    x = self.batchnorm_fc(x)\n",
        "    x = self.act_fc(x)\n",
        "    x = self.drop_fc(x)\n",
        "\n",
        "    # Output layer\n",
        "    x = self.out(x)\n",
        "\n",
        "    return x"
      ]
    },
    {
      "cell_type": "markdown",
      "metadata": {
        "id": "9lilMWgu5hXo"
      },
      "source": [
        "## E. MODEL TRAINING\n",
        "The \"train_model\" method defined below trains the model on the trainloader and then evaluate on valloader for the specified number of epochs."
      ]
    },
    {
      "cell_type": "code",
      "execution_count": 9,
      "metadata": {
        "id": "7i9viVI9y1V5"
      },
      "outputs": [],
      "source": [
        "def train_model(model, trainloader, valloader, criterion, optimizer, device, epochs=10):\n",
        "\n",
        "  \"\"\"This function trains and evaluates the model for the specified number of epochs.\"\"\"\n",
        "\n",
        "  # Metrics to keep track of\n",
        "  train_epoch_losses = []\n",
        "  train_epoch_accuracies = []\n",
        "  val_epoch_losses = []\n",
        "  val_epoch_accuracies = []\n",
        "\n",
        "  for epoch in range(epochs):\n",
        "\n",
        "    # Set the model in train mode\n",
        "    model.train()\n",
        "\n",
        "    # Epoch Metrics\n",
        "    train_running_loss = 0\n",
        "    train_correct = 0\n",
        "    train_total = 0\n",
        "\n",
        "    for data in tqdm(trainloader):\n",
        "\n",
        "      inputs, labels = data[0].to(device), data[1].to(device)\n",
        "\n",
        "      optimizer.zero_grad()\n",
        "\n",
        "      outputs = model(inputs)\n",
        "\n",
        "      loss = criterion(outputs, labels)\n",
        "\n",
        "      loss.backward()\n",
        "      optimizer.step()\n",
        "\n",
        "      # Update metrics\n",
        "      train_running_loss += loss.item() * inputs.size(0)\n",
        "      train_total += inputs.size(0)\n",
        "      train_correct += torch.sum(labels == torch.argmax(outputs, dim=1)).item()\n",
        "\n",
        "    train_epoch_loss = train_running_loss / train_total\n",
        "    train_epoch_accuracy = 100 * train_correct / train_total\n",
        "\n",
        "    train_epoch_losses.append(train_epoch_loss)\n",
        "    train_epoch_accuracies.append(train_epoch_accuracy)\n",
        "\n",
        "    # Set the model to evaluation mode\n",
        "    model.eval()\n",
        "\n",
        "    # Epoch Metrics\n",
        "    val_running_loss = 0\n",
        "    val_correct = 0\n",
        "    val_total = 0\n",
        "\n",
        "    with torch.no_grad():\n",
        "      for data in tqdm(valloader):\n",
        "\n",
        "        inputs, labels = data[0].to(device), data[1].to(device)\n",
        "        outputs = model(inputs)\n",
        "        loss = criterion(outputs, labels)\n",
        "\n",
        "        # Update Metrics\n",
        "        val_running_loss += loss.item() * inputs.size(0)\n",
        "        val_total += inputs.size(0)\n",
        "        val_correct += torch.sum(labels == torch.argmax(outputs, dim=1)).item()\n",
        "\n",
        "    val_epoch_loss = val_running_loss / val_total\n",
        "    val_epoch_accuracy = 100 * val_correct / val_total\n",
        "\n",
        "    val_epoch_losses.append(val_epoch_loss)\n",
        "    val_epoch_accuracies.append(val_epoch_accuracy)\n",
        "\n",
        "    print(f\"Epoch {epoch+1}/{epochs}, Train Loss: {train_epoch_loss:.3f}, Train Acc: {train_epoch_accuracy:.2f}%, Val Loss: {val_epoch_loss:.3f}, Val Acc: {val_epoch_accuracy:.2f}%\")\n",
        "\n",
        "  return train_epoch_losses, train_epoch_accuracies, val_epoch_losses, val_epoch_accuracies"
      ]
    },
    {
      "cell_type": "markdown",
      "metadata": {
        "id": "A2rTocgt8OdC"
      },
      "source": [
        "## F. TRIAL RUN"
      ]
    },
    {
      "cell_type": "code",
      "execution_count": 7,
      "metadata": {
        "id": "DgHxrVhWrkqX"
      },
      "outputs": [],
      "source": [
        "# Image dimension\n",
        "image_size = (224, 224)"
      ]
    },
    {
      "cell_type": "code",
      "execution_count": null,
      "metadata": {
        "id": "PSFemsbKK2Ze"
      },
      "outputs": [],
      "source": [
        "# Get the trainloader, valloader and classnames\n",
        "trainloader, valloader, classnames = get_train_and_val_dataloaders(TRAIN_DATA_DIR, image_size=image_size)"
      ]
    },
    {
      "cell_type": "code",
      "execution_count": null,
      "metadata": {
        "colab": {
          "base_uri": "https://localhost:8080/"
        },
        "id": "f_P6yuhaCuiS",
        "outputId": "da196805-47d4-43d4-ee94-c9986a3e880d"
      },
      "outputs": [
        {
          "data": {
            "text/plain": [
              "CNNModel(\n",
              "  (conv1): Conv2d(3, 64, kernel_size=(3, 3), stride=(1, 1))\n",
              "  (batchnorm1): Identity()\n",
              "  (activation1): ReLU()\n",
              "  (dropout1): Identity()\n",
              "  (maxpool1): MaxPool2d(kernel_size=2, stride=2, padding=0, dilation=1, ceil_mode=False)\n",
              "  (conv2): Conv2d(64, 64, kernel_size=(3, 3), stride=(1, 1))\n",
              "  (batchnorm2): Identity()\n",
              "  (activation2): ReLU()\n",
              "  (dropout2): Identity()\n",
              "  (maxpool2): MaxPool2d(kernel_size=2, stride=2, padding=0, dilation=1, ceil_mode=False)\n",
              "  (conv3): Conv2d(64, 64, kernel_size=(3, 3), stride=(1, 1))\n",
              "  (batchnorm3): Identity()\n",
              "  (activation3): ReLU()\n",
              "  (dropout3): Identity()\n",
              "  (maxpool3): MaxPool2d(kernel_size=2, stride=2, padding=0, dilation=1, ceil_mode=False)\n",
              "  (conv4): Conv2d(64, 64, kernel_size=(3, 3), stride=(1, 1))\n",
              "  (batchnorm4): Identity()\n",
              "  (activation4): ReLU()\n",
              "  (dropout4): Identity()\n",
              "  (maxpool4): MaxPool2d(kernel_size=2, stride=2, padding=0, dilation=1, ceil_mode=False)\n",
              "  (conv5): Conv2d(64, 64, kernel_size=(3, 3), stride=(1, 1))\n",
              "  (batchnorm5): Identity()\n",
              "  (activation5): ReLU()\n",
              "  (dropout5): Identity()\n",
              "  (maxpool5): MaxPool2d(kernel_size=2, stride=2, padding=0, dilation=1, ceil_mode=False)\n",
              "  (flatten): Flatten(start_dim=1, end_dim=-1)\n",
              "  (fc_layer): Linear(in_features=1600, out_features=2048, bias=True)\n",
              "  (batchnorm_fc): Identity()\n",
              "  (act_fc): ReLU()\n",
              "  (drop_fc): Identity()\n",
              "  (out): Linear(in_features=2048, out_features=10, bias=True)\n",
              ")"
            ]
          },
          "execution_count": 10,
          "metadata": {},
          "output_type": "execute_result"
        }
      ],
      "source": [
        "# Define a basic model and move to the device being used\n",
        "model = CNNModel(image_size)\n",
        "model.to(device)"
      ]
    },
    {
      "cell_type": "code",
      "execution_count": null,
      "metadata": {
        "id": "Jqu27K8IztHK"
      },
      "outputs": [],
      "source": [
        "# Define the criterion and optimizer to be used in training\n",
        "criterion = nn.CrossEntropyLoss()\n",
        "optimizer = optim.Adam(model.parameters(), lr=0.005)"
      ]
    },
    {
      "cell_type": "code",
      "execution_count": null,
      "metadata": {
        "colab": {
          "base_uri": "https://localhost:8080/"
        },
        "id": "zkSyQxQdov8W",
        "outputId": "4627958e-850e-4922-d149-73e09af4843b"
      },
      "outputs": [
        {
          "name": "stderr",
          "output_type": "stream",
          "text": [
            "100%|██████████| 501/501 [06:49<00:00,  1.22it/s]\n",
            "100%|██████████| 126/126 [05:55<00:00,  2.82s/it]\n"
          ]
        },
        {
          "name": "stdout",
          "output_type": "stream",
          "text": [
            "Epoch 1/10, Train Loss: 2.304, Train Acc: 9.49%, Val Loss: 2.303, Val Acc: 10.09%\n"
          ]
        },
        {
          "name": "stderr",
          "output_type": "stream",
          "text": [
            "100%|██████████| 501/501 [01:46<00:00,  4.68it/s]\n",
            "100%|██████████| 126/126 [00:25<00:00,  4.93it/s]\n"
          ]
        },
        {
          "name": "stdout",
          "output_type": "stream",
          "text": [
            "Epoch 2/10, Train Loss: 2.304, Train Acc: 9.49%, Val Loss: 2.303, Val Acc: 9.99%\n"
          ]
        },
        {
          "name": "stderr",
          "output_type": "stream",
          "text": [
            "100%|██████████| 501/501 [01:45<00:00,  4.77it/s]\n",
            "100%|██████████| 126/126 [00:23<00:00,  5.27it/s]\n"
          ]
        },
        {
          "name": "stdout",
          "output_type": "stream",
          "text": [
            "Epoch 3/10, Train Loss: 2.304, Train Acc: 9.33%, Val Loss: 2.303, Val Acc: 9.99%\n"
          ]
        },
        {
          "name": "stderr",
          "output_type": "stream",
          "text": [
            "100%|██████████| 501/501 [01:46<00:00,  4.71it/s]\n",
            "100%|██████████| 126/126 [00:25<00:00,  4.92it/s]\n"
          ]
        },
        {
          "name": "stdout",
          "output_type": "stream",
          "text": [
            "Epoch 4/10, Train Loss: 2.304, Train Acc: 9.42%, Val Loss: 2.303, Val Acc: 9.99%\n"
          ]
        },
        {
          "name": "stderr",
          "output_type": "stream",
          "text": [
            "100%|██████████| 501/501 [01:45<00:00,  4.75it/s]\n",
            "100%|██████████| 126/126 [00:25<00:00,  4.97it/s]\n"
          ]
        },
        {
          "name": "stdout",
          "output_type": "stream",
          "text": [
            "Epoch 5/10, Train Loss: 2.304, Train Acc: 9.38%, Val Loss: 2.303, Val Acc: 9.99%\n"
          ]
        },
        {
          "name": "stderr",
          "output_type": "stream",
          "text": [
            "100%|██████████| 501/501 [01:45<00:00,  4.73it/s]\n",
            "100%|██████████| 126/126 [00:24<00:00,  5.14it/s]\n"
          ]
        },
        {
          "name": "stdout",
          "output_type": "stream",
          "text": [
            "Epoch 6/10, Train Loss: 2.304, Train Acc: 9.31%, Val Loss: 2.303, Val Acc: 9.99%\n"
          ]
        },
        {
          "name": "stderr",
          "output_type": "stream",
          "text": [
            "100%|██████████| 501/501 [01:45<00:00,  4.76it/s]\n",
            "100%|██████████| 126/126 [00:25<00:00,  5.00it/s]\n"
          ]
        },
        {
          "name": "stdout",
          "output_type": "stream",
          "text": [
            "Epoch 7/10, Train Loss: 2.304, Train Acc: 10.04%, Val Loss: 2.303, Val Acc: 10.09%\n"
          ]
        },
        {
          "name": "stderr",
          "output_type": "stream",
          "text": [
            "100%|██████████| 501/501 [01:45<00:00,  4.74it/s]\n",
            "100%|██████████| 126/126 [00:24<00:00,  5.08it/s]\n"
          ]
        },
        {
          "name": "stdout",
          "output_type": "stream",
          "text": [
            "Epoch 8/10, Train Loss: 2.304, Train Acc: 9.77%, Val Loss: 2.303, Val Acc: 9.99%\n"
          ]
        },
        {
          "name": "stderr",
          "output_type": "stream",
          "text": [
            "100%|██████████| 501/501 [01:44<00:00,  4.81it/s]\n",
            "100%|██████████| 126/126 [00:25<00:00,  5.02it/s]\n"
          ]
        },
        {
          "name": "stdout",
          "output_type": "stream",
          "text": [
            "Epoch 9/10, Train Loss: 2.304, Train Acc: 9.27%, Val Loss: 2.303, Val Acc: 9.99%\n"
          ]
        },
        {
          "name": "stderr",
          "output_type": "stream",
          "text": [
            "100%|██████████| 501/501 [01:44<00:00,  4.79it/s]\n",
            "100%|██████████| 126/126 [00:26<00:00,  4.79it/s]"
          ]
        },
        {
          "name": "stdout",
          "output_type": "stream",
          "text": [
            "Epoch 10/10, Train Loss: 2.304, Train Acc: 9.87%, Val Loss: 2.303, Val Acc: 9.99%\n"
          ]
        },
        {
          "name": "stderr",
          "output_type": "stream",
          "text": [
            "\n"
          ]
        },
        {
          "data": {
            "text/plain": [
              "([2.3038672651018826,\n",
              "  2.3038257285710606,\n",
              "  2.3040455661652657,\n",
              "  2.3039399892605457,\n",
              "  2.303906606252033,\n",
              "  2.3039464572355683,\n",
              "  2.30354961865311,\n",
              "  2.3036965939690703,\n",
              "  2.3040666415219064,\n",
              "  2.3037933534960016],\n",
              " [9.492880339745192,\n",
              "  9.492880339745192,\n",
              "  9.330502123407445,\n",
              "  9.417936547589308,\n",
              "  9.380464651511366,\n",
              "  9.305520859355484,\n",
              "  10.042468148888334,\n",
              "  9.767674244316762,\n",
              "  9.268048963277542,\n",
              "  9.867599300524606],\n",
              " [2.303045203754833,\n",
              "  2.302984376530071,\n",
              "  2.302938708058604,\n",
              "  2.3029538615719303,\n",
              "  2.302663381759461,\n",
              "  2.303031295924992,\n",
              "  2.303070899847147,\n",
              "  2.3033623700137142,\n",
              "  2.302898993144383,\n",
              "  2.3032914591835927],\n",
              " [10.08991008991009,\n",
              "  9.99000999000999,\n",
              "  9.99000999000999,\n",
              "  9.99000999000999,\n",
              "  9.99000999000999,\n",
              "  9.99000999000999,\n",
              "  10.08991008991009,\n",
              "  9.99000999000999,\n",
              "  9.99000999000999,\n",
              "  9.99000999000999])"
            ]
          },
          "execution_count": 15,
          "metadata": {},
          "output_type": "execute_result"
        }
      ],
      "source": [
        "# Train the model\n",
        "train_model(model, trainloader, valloader, criterion, optimizer, device, 10)"
      ]
    },
    {
      "cell_type": "markdown",
      "metadata": {
        "id": "Hwl84Owm8yhq"
      },
      "source": [
        "### **OBSERVATIONS:-** For the trial run the model didn't perform well, giving the accuracy of ~10% for a train class classification, which is as good as random guessing."
      ]
    },
    {
      "cell_type": "markdown",
      "metadata": {
        "id": "Qfublc1c9VAU"
      },
      "source": [
        "## G. SOME HELPER FUNCTIONS"
      ]
    },
    {
      "cell_type": "code",
      "execution_count": 1,
      "metadata": {
        "id": "oXz_7fC8Hbv7"
      },
      "outputs": [],
      "source": [
        "def get_activation_function(name):\n",
        "\n",
        "  \"\"\"This function returns the activation function based on the name passed\"\"\"\n",
        "\n",
        "  if name == \"leaky_relu\":\n",
        "    return nn.LeakyReLU\n",
        "  elif name == \"parametric_relu\":\n",
        "    return nn.PReLU\n",
        "  elif name == \"gelu\":\n",
        "    return nn.GELU\n",
        "  elif name == \"silu\":\n",
        "    return nn.SiLU\n",
        "  elif name == \"mish\":\n",
        "    return nn.Mish\n",
        "  return nn.ReLU\n",
        "\n",
        "\n",
        "\n",
        "def get_num_filters(name):\n",
        "\n",
        "  \"\"\"This function is a helper function for the hyper parameter sweep.\n",
        "     As we need different filter sizes for the model to perform the sweep.\"\"\"\n",
        "\n",
        "  if name == \"equal16\":\n",
        "    return [16, 16, 16, 16, 16]\n",
        "  elif name == \"equal32\":\n",
        "    return [32, 32, 32, 32, 32]\n",
        "  elif name == \"equal64\":\n",
        "    return [64, 64, 64, 64, 64]\n",
        "  elif name == \"doubling16\":\n",
        "    return [16, 32, 64, 128, 256]\n",
        "  elif name == \"doubling32\":\n",
        "    return [32, 64, 128, 256, 512]\n",
        "  elif name == \"halving256\":\n",
        "    return [256, 128, 64, 32, 16]\n",
        "  else:\n",
        "    return [100, 80, 50, 80, 100]\n",
        "\n",
        "\n",
        "\n",
        "def get_kernel_size(name):\n",
        "\n",
        "  \"\"\"This function is a helper function for the hyper parameter sweep.\n",
        "     As we need different kernel sizes for the model to perform the sweep.\"\"\"\n",
        "\n",
        "  if name == \"constant5\":\n",
        "    return [5, 5, 5, 5, 5]\n",
        "  elif name == \"constant7\":\n",
        "    return [7, 7, 7, 7, 7]\n",
        "  elif name == \"decreasing\":\n",
        "    return [5, 5, 3, 3, 1]\n",
        "  elif name == \"increasing\":\n",
        "    return [1, 3, 3, 5, 5]\n",
        "  return [3, 3, 3, 3, 3]\n",
        "\n"
      ]
    },
    {
      "cell_type": "markdown",
      "metadata": {
        "id": "Kk7o_fRXCtNA"
      },
      "source": [
        "## H. WANDB HYPERPARAMETER SWEEP"
      ]
    },
    {
      "cell_type": "code",
      "execution_count": null,
      "metadata": {
        "id": "SX-FuJvrDzJU"
      },
      "outputs": [],
      "source": [
        "def sweep_hyperparameters(config=None):\n",
        "\n",
        "  with wandb.init(config=config):\n",
        "\n",
        "    config = wandb.config\n",
        "    wandb.run.name = f\"activation_{str(config.activation)}_filters_{str(config.num_filters)}_lr_{config.learning_rate}_kernel_{config.kernel_size}_fc_size_{config.fc_layer_size}\"\n",
        "\n",
        "    # Log in my details\n",
        "    wandb.config.update({\"NAME\": \"SIDDHANT BARANWAL\", \"ROLL NO.\": \"DA24M021\"})\n",
        "\n",
        "    image_size=(224, 224)\n",
        "\n",
        "    TRAIN_DATA_DIR = \"/content/drive/My Drive/Data/inaturalist_12K/train\"\n",
        "    trainloader, valloader, classnames = get_train_and_val_dataloaders(TRAIN_DATA_DIR, image_size=image_size, data_augment=config.data_augment, valset_size=0.2, batch_size=config.batch_size)\n",
        "\n",
        "\n",
        "    model = CNNModel(image_size, num_filters=get_num_filters(config.num_filters), kernel_size=get_kernel_size(config.kernel_size),\n",
        "                     activation_fn=get_activation_function(config.activation), batchnorm=config.batch_norm, dropout=config.dropout,\n",
        "                     fc_layer_size=config.fc_layer_size)\n",
        "    model.to(device)\n",
        "\n",
        "    criterion = nn.CrossEntropyLoss()\n",
        "    optimizer = optim.Adam(model.parameters(), lr=config.learning_rate)\n",
        "\n",
        "    train_losses, train_accuracies, val_losses, val_accuracies = train_model(model, trainloader, valloader, criterion, optimizer, device, epochs=10)\n",
        "\n",
        "    # Log the evaluation metrics\n",
        "\n",
        "    for epoch in range(len(train_losses)):\n",
        "      wandb.log({\n",
        "          \"epoch\": epoch,\n",
        "          \"train_loss\": train_losses[epoch],\n",
        "          \"train_accuracy\": train_accuracies[epoch],\n",
        "          \"validation_loss\": val_losses[epoch],\n",
        "          \"validation_accuracy\": val_accuracies[epoch]\n",
        "      })\n",
        "\n",
        "    wandb.log({\n",
        "        \"val_accuracy\": val_accuracies[-1]\n",
        "    })"
      ]
    },
    {
      "cell_type": "code",
      "execution_count": null,
      "metadata": {
        "colab": {
          "base_uri": "https://localhost:8080/",
          "height": 1000
        },
        "id": "ti-kX14lpXpt",
        "outputId": "a54868d4-3ab7-448b-c995-3e862f5bd503"
      },
      "outputs": [
        {
          "name": "stdout",
          "output_type": "stream",
          "text": [
            "Create sweep with ID: k2txx1xm\n",
            "Sweep URL: https://wandb.ai/da24m021-indian-institute-of-technology-madras/da24m021_da6401_assignment2/sweeps/k2txx1xm\n"
          ]
        },
        {
          "name": "stderr",
          "output_type": "stream",
          "text": [
            "\u001b[34m\u001b[1mwandb\u001b[0m: Agent Starting Run: cerulhgd with config:\n",
            "\u001b[34m\u001b[1mwandb\u001b[0m: \tactivation: leaky_relu\n",
            "\u001b[34m\u001b[1mwandb\u001b[0m: \tbatch_norm: False\n",
            "\u001b[34m\u001b[1mwandb\u001b[0m: \tbatch_size: 8\n",
            "\u001b[34m\u001b[1mwandb\u001b[0m: \tdata_augment: False\n",
            "\u001b[34m\u001b[1mwandb\u001b[0m: \tdropout: 0.2\n",
            "\u001b[34m\u001b[1mwandb\u001b[0m: \tfc_layer_size: 512\n",
            "\u001b[34m\u001b[1mwandb\u001b[0m: \tkernel_size: constant5\n",
            "\u001b[34m\u001b[1mwandb\u001b[0m: \tlearning_rate: 0.01\n",
            "\u001b[34m\u001b[1mwandb\u001b[0m: \tnum_filters: halving256\n"
          ]
        },
        {
          "data": {
            "text/html": [
              "Tracking run with wandb version 0.19.8"
            ],
            "text/plain": [
              "<IPython.core.display.HTML object>"
            ]
          },
          "metadata": {},
          "output_type": "display_data"
        },
        {
          "data": {
            "text/html": [
              "Run data is saved locally in <code>/content/wandb/run-20250402_182748-cerulhgd</code>"
            ],
            "text/plain": [
              "<IPython.core.display.HTML object>"
            ]
          },
          "metadata": {},
          "output_type": "display_data"
        },
        {
          "data": {
            "text/html": [
              "Syncing run <strong><a href='https://wandb.ai/da24m021-indian-institute-of-technology-madras/da24m021_da6401_assignment2/runs/cerulhgd' target=\"_blank\">lilac-sweep-1</a></strong> to <a href='https://wandb.ai/da24m021-indian-institute-of-technology-madras/da24m021_da6401_assignment2' target=\"_blank\">Weights & Biases</a> (<a href='https://wandb.me/developer-guide' target=\"_blank\">docs</a>)<br>Sweep page: <a href='https://wandb.ai/da24m021-indian-institute-of-technology-madras/da24m021_da6401_assignment2/sweeps/k2txx1xm' target=\"_blank\">https://wandb.ai/da24m021-indian-institute-of-technology-madras/da24m021_da6401_assignment2/sweeps/k2txx1xm</a>"
            ],
            "text/plain": [
              "<IPython.core.display.HTML object>"
            ]
          },
          "metadata": {},
          "output_type": "display_data"
        },
        {
          "data": {
            "text/html": [
              " View project at <a href='https://wandb.ai/da24m021-indian-institute-of-technology-madras/da24m021_da6401_assignment2' target=\"_blank\">https://wandb.ai/da24m021-indian-institute-of-technology-madras/da24m021_da6401_assignment2</a>"
            ],
            "text/plain": [
              "<IPython.core.display.HTML object>"
            ]
          },
          "metadata": {},
          "output_type": "display_data"
        },
        {
          "data": {
            "text/html": [
              " View sweep at <a href='https://wandb.ai/da24m021-indian-institute-of-technology-madras/da24m021_da6401_assignment2/sweeps/k2txx1xm' target=\"_blank\">https://wandb.ai/da24m021-indian-institute-of-technology-madras/da24m021_da6401_assignment2/sweeps/k2txx1xm</a>"
            ],
            "text/plain": [
              "<IPython.core.display.HTML object>"
            ]
          },
          "metadata": {},
          "output_type": "display_data"
        },
        {
          "data": {
            "text/html": [
              " View run at <a href='https://wandb.ai/da24m021-indian-institute-of-technology-madras/da24m021_da6401_assignment2/runs/cerulhgd' target=\"_blank\">https://wandb.ai/da24m021-indian-institute-of-technology-madras/da24m021_da6401_assignment2/runs/cerulhgd</a>"
            ],
            "text/plain": [
              "<IPython.core.display.HTML object>"
            ]
          },
          "metadata": {},
          "output_type": "display_data"
        },
        {
          "name": "stderr",
          "output_type": "stream",
          "text": [
            "100%|██████████| 1001/1001 [02:21<00:00,  7.08it/s]\n",
            "100%|██████████| 251/251 [00:27<00:00,  8.99it/s]\n"
          ]
        },
        {
          "name": "stdout",
          "output_type": "stream",
          "text": [
            "Epoch 1/10, Train Loss: 107038537.954, Train Acc: 10.30%, Val Loss: 2349336.981, Val Acc: 10.69%\n"
          ]
        },
        {
          "name": "stderr",
          "output_type": "stream",
          "text": [
            "100%|██████████| 1001/1001 [02:15<00:00,  7.41it/s]\n",
            "100%|██████████| 251/251 [00:28<00:00,  8.85it/s]\n"
          ]
        },
        {
          "name": "stdout",
          "output_type": "stream",
          "text": [
            "Epoch 2/10, Train Loss: 47263346.942, Train Acc: 9.36%, Val Loss: 2651705.043, Val Acc: 10.04%\n"
          ]
        },
        {
          "name": "stderr",
          "output_type": "stream",
          "text": [
            "100%|██████████| 1001/1001 [02:13<00:00,  7.52it/s]\n",
            "100%|██████████| 251/251 [00:27<00:00,  8.99it/s]\n"
          ]
        },
        {
          "name": "stdout",
          "output_type": "stream",
          "text": [
            "Epoch 3/10, Train Loss: 10797584.519, Train Acc: 10.17%, Val Loss: 2360685.813, Val Acc: 9.94%\n"
          ]
        },
        {
          "name": "stderr",
          "output_type": "stream",
          "text": [
            "100%|██████████| 1001/1001 [02:14<00:00,  7.42it/s]\n",
            "100%|██████████| 251/251 [00:28<00:00,  8.90it/s]\n"
          ]
        },
        {
          "name": "stdout",
          "output_type": "stream",
          "text": [
            "Epoch 4/10, Train Loss: 5648114.842, Train Acc: 10.68%, Val Loss: 2271509.495, Val Acc: 9.99%\n"
          ]
        },
        {
          "name": "stderr",
          "output_type": "stream",
          "text": [
            "100%|██████████| 1001/1001 [02:13<00:00,  7.51it/s]\n",
            "100%|██████████| 251/251 [00:29<00:00,  8.37it/s]\n"
          ]
        },
        {
          "name": "stdout",
          "output_type": "stream",
          "text": [
            "Epoch 5/10, Train Loss: 4120590.666, Train Acc: 9.53%, Val Loss: 1424813.879, Val Acc: 9.84%\n"
          ]
        },
        {
          "name": "stderr",
          "output_type": "stream",
          "text": [
            "100%|██████████| 1001/1001 [02:13<00:00,  7.50it/s]\n",
            "100%|██████████| 251/251 [00:28<00:00,  8.89it/s]\n"
          ]
        },
        {
          "name": "stdout",
          "output_type": "stream",
          "text": [
            "Epoch 6/10, Train Loss: 10002602.419, Train Acc: 9.91%, Val Loss: 2228866.012, Val Acc: 10.19%\n"
          ]
        },
        {
          "name": "stderr",
          "output_type": "stream",
          "text": [
            "100%|██████████| 1001/1001 [02:14<00:00,  7.42it/s]\n",
            "100%|██████████| 251/251 [00:28<00:00,  8.91it/s]\n"
          ]
        },
        {
          "name": "stdout",
          "output_type": "stream",
          "text": [
            "Epoch 7/10, Train Loss: 4329779.164, Train Acc: 10.34%, Val Loss: 1531243.208, Val Acc: 10.49%\n"
          ]
        },
        {
          "name": "stderr",
          "output_type": "stream",
          "text": [
            "100%|██████████| 1001/1001 [02:14<00:00,  7.44it/s]\n",
            "100%|██████████| 251/251 [00:28<00:00,  8.96it/s]\n"
          ]
        },
        {
          "name": "stdout",
          "output_type": "stream",
          "text": [
            "Epoch 8/10, Train Loss: 14684807.763, Train Acc: 10.13%, Val Loss: 2647371.340, Val Acc: 10.44%\n"
          ]
        },
        {
          "name": "stderr",
          "output_type": "stream",
          "text": [
            "100%|██████████| 1001/1001 [02:14<00:00,  7.44it/s]\n",
            "100%|██████████| 251/251 [00:28<00:00,  8.92it/s]\n"
          ]
        },
        {
          "name": "stdout",
          "output_type": "stream",
          "text": [
            "Epoch 9/10, Train Loss: 5983211.872, Train Acc: 10.32%, Val Loss: 2676980.992, Val Acc: 10.04%\n"
          ]
        },
        {
          "name": "stderr",
          "output_type": "stream",
          "text": [
            "100%|██████████| 1001/1001 [02:14<00:00,  7.44it/s]\n",
            "100%|██████████| 251/251 [00:28<00:00,  8.94it/s]"
          ]
        },
        {
          "name": "stdout",
          "output_type": "stream",
          "text": [
            "Epoch 10/10, Train Loss: 4200109.973, Train Acc: 10.03%, Val Loss: 1622379.387, Val Acc: 10.04%\n"
          ]
        },
        {
          "name": "stderr",
          "output_type": "stream",
          "text": [
            "\n"
          ]
        },
        {
          "data": {
            "text/html": [],
            "text/plain": [
              "<IPython.core.display.HTML object>"
            ]
          },
          "metadata": {},
          "output_type": "display_data"
        },
        {
          "data": {
            "text/html": [
              "<br>    <style><br>        .wandb-row {<br>            display: flex;<br>            flex-direction: row;<br>            flex-wrap: wrap;<br>            justify-content: flex-start;<br>            width: 100%;<br>        }<br>        .wandb-col {<br>            display: flex;<br>            flex-direction: column;<br>            flex-basis: 100%;<br>            flex: 1;<br>            padding: 10px;<br>        }<br>    </style><br><div class=\"wandb-row\"><div class=\"wandb-col\"><h3>Run history:</h3><br/><table class=\"wandb\"><tr><td>epoch</td><td>▁▂▃▃▄▅▆▆▇█</td></tr><tr><td>train_accuracy</td><td>▆▁▅█▂▄▆▅▆▅</td></tr><tr><td>train_loss</td><td>█▄▁▁▁▁▁▂▁▁</td></tr><tr><td>val_accuracy</td><td>▁</td></tr><tr><td>validation_accuracy</td><td>█▃▂▂▁▄▆▆▃▃</td></tr><tr><td>validation_loss</td><td>▆█▆▆▁▅▂██▂</td></tr></table><br/></div><div class=\"wandb-col\"><h3>Run summary:</h3><br/><table class=\"wandb\"><tr><td>epoch</td><td>9</td></tr><tr><td>train_accuracy</td><td>10.02998</td></tr><tr><td>train_loss</td><td>4200109.9728</td></tr><tr><td>val_accuracy</td><td>10.03996</td></tr><tr><td>validation_accuracy</td><td>10.03996</td></tr><tr><td>validation_loss</td><td>1622379.38711</td></tr></table><br/></div></div>"
            ],
            "text/plain": [
              "<IPython.core.display.HTML object>"
            ]
          },
          "metadata": {},
          "output_type": "display_data"
        },
        {
          "data": {
            "text/html": [
              " View run <strong style=\"color:#cdcd00\">activation_leaky_relu_filters_halving256_lr_0.01_kernel_constant5_fc_size_512</strong> at: <a href='https://wandb.ai/da24m021-indian-institute-of-technology-madras/da24m021_da6401_assignment2/runs/cerulhgd' target=\"_blank\">https://wandb.ai/da24m021-indian-institute-of-technology-madras/da24m021_da6401_assignment2/runs/cerulhgd</a><br> View project at: <a href='https://wandb.ai/da24m021-indian-institute-of-technology-madras/da24m021_da6401_assignment2' target=\"_blank\">https://wandb.ai/da24m021-indian-institute-of-technology-madras/da24m021_da6401_assignment2</a><br>Synced 5 W&B file(s), 0 media file(s), 0 artifact file(s) and 0 other file(s)"
            ],
            "text/plain": [
              "<IPython.core.display.HTML object>"
            ]
          },
          "metadata": {},
          "output_type": "display_data"
        },
        {
          "data": {
            "text/html": [
              "Find logs at: <code>./wandb/run-20250402_182748-cerulhgd/logs</code>"
            ],
            "text/plain": [
              "<IPython.core.display.HTML object>"
            ]
          },
          "metadata": {},
          "output_type": "display_data"
        },
        {
          "name": "stderr",
          "output_type": "stream",
          "text": [
            "\u001b[34m\u001b[1mwandb\u001b[0m: Sweep Agent: Waiting for job.\n",
            "\u001b[34m\u001b[1mwandb\u001b[0m: Job received.\n",
            "\u001b[34m\u001b[1mwandb\u001b[0m: Agent Starting Run: xpuhnbdk with config:\n",
            "\u001b[34m\u001b[1mwandb\u001b[0m: \tactivation: mish\n",
            "\u001b[34m\u001b[1mwandb\u001b[0m: \tbatch_norm: True\n",
            "\u001b[34m\u001b[1mwandb\u001b[0m: \tbatch_size: 8\n",
            "\u001b[34m\u001b[1mwandb\u001b[0m: \tdata_augment: False\n",
            "\u001b[34m\u001b[1mwandb\u001b[0m: \tdropout: 0.2\n",
            "\u001b[34m\u001b[1mwandb\u001b[0m: \tfc_layer_size: 2048\n",
            "\u001b[34m\u001b[1mwandb\u001b[0m: \tkernel_size: decreasing\n",
            "\u001b[34m\u001b[1mwandb\u001b[0m: \tlearning_rate: 0.0001\n",
            "\u001b[34m\u001b[1mwandb\u001b[0m: \tnum_filters: halving256\n"
          ]
        },
        {
          "data": {
            "text/html": [
              "Tracking run with wandb version 0.19.8"
            ],
            "text/plain": [
              "<IPython.core.display.HTML object>"
            ]
          },
          "metadata": {},
          "output_type": "display_data"
        },
        {
          "data": {
            "text/html": [
              "Run data is saved locally in <code>/content/wandb/run-20250402_185517-xpuhnbdk</code>"
            ],
            "text/plain": [
              "<IPython.core.display.HTML object>"
            ]
          },
          "metadata": {},
          "output_type": "display_data"
        },
        {
          "data": {
            "text/html": [
              "Syncing run <strong><a href='https://wandb.ai/da24m021-indian-institute-of-technology-madras/da24m021_da6401_assignment2/runs/xpuhnbdk' target=\"_blank\">swift-sweep-2</a></strong> to <a href='https://wandb.ai/da24m021-indian-institute-of-technology-madras/da24m021_da6401_assignment2' target=\"_blank\">Weights & Biases</a> (<a href='https://wandb.me/developer-guide' target=\"_blank\">docs</a>)<br>Sweep page: <a href='https://wandb.ai/da24m021-indian-institute-of-technology-madras/da24m021_da6401_assignment2/sweeps/k2txx1xm' target=\"_blank\">https://wandb.ai/da24m021-indian-institute-of-technology-madras/da24m021_da6401_assignment2/sweeps/k2txx1xm</a>"
            ],
            "text/plain": [
              "<IPython.core.display.HTML object>"
            ]
          },
          "metadata": {},
          "output_type": "display_data"
        },
        {
          "data": {
            "text/html": [
              " View project at <a href='https://wandb.ai/da24m021-indian-institute-of-technology-madras/da24m021_da6401_assignment2' target=\"_blank\">https://wandb.ai/da24m021-indian-institute-of-technology-madras/da24m021_da6401_assignment2</a>"
            ],
            "text/plain": [
              "<IPython.core.display.HTML object>"
            ]
          },
          "metadata": {},
          "output_type": "display_data"
        },
        {
          "data": {
            "text/html": [
              " View sweep at <a href='https://wandb.ai/da24m021-indian-institute-of-technology-madras/da24m021_da6401_assignment2/sweeps/k2txx1xm' target=\"_blank\">https://wandb.ai/da24m021-indian-institute-of-technology-madras/da24m021_da6401_assignment2/sweeps/k2txx1xm</a>"
            ],
            "text/plain": [
              "<IPython.core.display.HTML object>"
            ]
          },
          "metadata": {},
          "output_type": "display_data"
        },
        {
          "data": {
            "text/html": [
              " View run at <a href='https://wandb.ai/da24m021-indian-institute-of-technology-madras/da24m021_da6401_assignment2/runs/xpuhnbdk' target=\"_blank\">https://wandb.ai/da24m021-indian-institute-of-technology-madras/da24m021_da6401_assignment2/runs/xpuhnbdk</a>"
            ],
            "text/plain": [
              "<IPython.core.display.HTML object>"
            ]
          },
          "metadata": {},
          "output_type": "display_data"
        },
        {
          "name": "stderr",
          "output_type": "stream",
          "text": [
            "100%|██████████| 1001/1001 [02:25<00:00,  6.88it/s]\n",
            "100%|██████████| 251/251 [00:28<00:00,  8.88it/s]\n"
          ]
        },
        {
          "name": "stdout",
          "output_type": "stream",
          "text": [
            "Epoch 1/10, Train Loss: 2.226, Train Acc: 18.82%, Val Loss: 2.057, Val Acc: 27.17%\n"
          ]
        },
        {
          "name": "stderr",
          "output_type": "stream",
          "text": [
            "100%|██████████| 1001/1001 [02:21<00:00,  7.06it/s]\n",
            "100%|██████████| 251/251 [00:27<00:00,  8.98it/s]\n"
          ]
        },
        {
          "name": "stdout",
          "output_type": "stream",
          "text": [
            "Epoch 2/10, Train Loss: 2.120, Train Acc: 23.26%, Val Loss: 1.982, Val Acc: 29.72%\n"
          ]
        },
        {
          "name": "stderr",
          "output_type": "stream",
          "text": [
            "100%|██████████| 1001/1001 [02:21<00:00,  7.06it/s]\n",
            "100%|██████████| 251/251 [00:28<00:00,  8.79it/s]\n"
          ]
        },
        {
          "name": "stdout",
          "output_type": "stream",
          "text": [
            "Epoch 3/10, Train Loss: 2.072, Train Acc: 26.90%, Val Loss: 1.981, Val Acc: 29.62%\n"
          ]
        },
        {
          "name": "stderr",
          "output_type": "stream",
          "text": [
            "100%|██████████| 1001/1001 [02:21<00:00,  7.10it/s]\n",
            "100%|██████████| 251/251 [00:28<00:00,  8.89it/s]\n"
          ]
        },
        {
          "name": "stdout",
          "output_type": "stream",
          "text": [
            "Epoch 4/10, Train Loss: 2.051, Train Acc: 26.70%, Val Loss: 1.945, Val Acc: 31.72%\n"
          ]
        },
        {
          "name": "stderr",
          "output_type": "stream",
          "text": [
            "100%|██████████| 1001/1001 [02:23<00:00,  6.95it/s]\n",
            "100%|██████████| 251/251 [00:27<00:00,  9.09it/s]\n"
          ]
        },
        {
          "name": "stdout",
          "output_type": "stream",
          "text": [
            "Epoch 5/10, Train Loss: 2.032, Train Acc: 27.87%, Val Loss: 1.911, Val Acc: 31.97%\n"
          ]
        },
        {
          "name": "stderr",
          "output_type": "stream",
          "text": [
            "100%|██████████| 1001/1001 [02:22<00:00,  7.03it/s]\n",
            "100%|██████████| 251/251 [00:28<00:00,  8.92it/s]\n"
          ]
        },
        {
          "name": "stdout",
          "output_type": "stream",
          "text": [
            "Epoch 6/10, Train Loss: 2.014, Train Acc: 28.65%, Val Loss: 1.920, Val Acc: 33.22%\n"
          ]
        },
        {
          "name": "stderr",
          "output_type": "stream",
          "text": [
            "100%|██████████| 1001/1001 [02:20<00:00,  7.13it/s]\n",
            "100%|██████████| 251/251 [00:27<00:00,  8.98it/s]\n"
          ]
        },
        {
          "name": "stdout",
          "output_type": "stream",
          "text": [
            "Epoch 7/10, Train Loss: 1.981, Train Acc: 29.54%, Val Loss: 1.897, Val Acc: 33.97%\n"
          ]
        },
        {
          "name": "stderr",
          "output_type": "stream",
          "text": [
            "100%|██████████| 1001/1001 [02:21<00:00,  7.06it/s]\n",
            "100%|██████████| 251/251 [00:28<00:00,  8.90it/s]\n"
          ]
        },
        {
          "name": "stdout",
          "output_type": "stream",
          "text": [
            "Epoch 8/10, Train Loss: 1.969, Train Acc: 29.99%, Val Loss: 1.892, Val Acc: 32.92%\n"
          ]
        },
        {
          "name": "stderr",
          "output_type": "stream",
          "text": [
            "100%|██████████| 1001/1001 [02:22<00:00,  7.00it/s]\n",
            "100%|██████████| 251/251 [00:28<00:00,  8.87it/s]\n"
          ]
        },
        {
          "name": "stdout",
          "output_type": "stream",
          "text": [
            "Epoch 9/10, Train Loss: 1.969, Train Acc: 29.72%, Val Loss: 1.869, Val Acc: 35.31%\n"
          ]
        },
        {
          "name": "stderr",
          "output_type": "stream",
          "text": [
            "100%|██████████| 1001/1001 [02:19<00:00,  7.19it/s]\n",
            "100%|██████████| 251/251 [00:28<00:00,  8.90it/s]"
          ]
        },
        {
          "name": "stdout",
          "output_type": "stream",
          "text": [
            "Epoch 10/10, Train Loss: 1.945, Train Acc: 31.59%, Val Loss: 1.881, Val Acc: 33.77%\n"
          ]
        },
        {
          "name": "stderr",
          "output_type": "stream",
          "text": [
            "\n"
          ]
        },
        {
          "data": {
            "text/html": [],
            "text/plain": [
              "<IPython.core.display.HTML object>"
            ]
          },
          "metadata": {},
          "output_type": "display_data"
        },
        {
          "data": {
            "text/html": [
              "<br>    <style><br>        .wandb-row {<br>            display: flex;<br>            flex-direction: row;<br>            flex-wrap: wrap;<br>            justify-content: flex-start;<br>            width: 100%;<br>        }<br>        .wandb-col {<br>            display: flex;<br>            flex-direction: column;<br>            flex-basis: 100%;<br>            flex: 1;<br>            padding: 10px;<br>        }<br>    </style><br><div class=\"wandb-row\"><div class=\"wandb-col\"><h3>Run history:</h3><br/><table class=\"wandb\"><tr><td>epoch</td><td>▁▂▃▃▄▅▆▆▇█</td></tr><tr><td>train_accuracy</td><td>▁▃▅▅▆▆▇▇▇█</td></tr><tr><td>train_loss</td><td>█▅▄▄▃▃▂▂▂▁</td></tr><tr><td>val_accuracy</td><td>▁</td></tr><tr><td>validation_accuracy</td><td>▁▃▃▅▅▆▇▆█▇</td></tr><tr><td>validation_loss</td><td>█▅▅▄▃▃▂▂▁▁</td></tr></table><br/></div><div class=\"wandb-col\"><h3>Run summary:</h3><br/><table class=\"wandb\"><tr><td>epoch</td><td>9</td></tr><tr><td>train_accuracy</td><td>31.58881</td></tr><tr><td>train_loss</td><td>1.9455</td></tr><tr><td>val_accuracy</td><td>33.76623</td></tr><tr><td>validation_accuracy</td><td>33.76623</td></tr><tr><td>validation_loss</td><td>1.88088</td></tr></table><br/></div></div>"
            ],
            "text/plain": [
              "<IPython.core.display.HTML object>"
            ]
          },
          "metadata": {},
          "output_type": "display_data"
        },
        {
          "data": {
            "text/html": [
              " View run <strong style=\"color:#cdcd00\">activation_mish_filters_halving256_lr_0.0001_kernel_decreasing_fc_size_2048</strong> at: <a href='https://wandb.ai/da24m021-indian-institute-of-technology-madras/da24m021_da6401_assignment2/runs/xpuhnbdk' target=\"_blank\">https://wandb.ai/da24m021-indian-institute-of-technology-madras/da24m021_da6401_assignment2/runs/xpuhnbdk</a><br> View project at: <a href='https://wandb.ai/da24m021-indian-institute-of-technology-madras/da24m021_da6401_assignment2' target=\"_blank\">https://wandb.ai/da24m021-indian-institute-of-technology-madras/da24m021_da6401_assignment2</a><br>Synced 5 W&B file(s), 0 media file(s), 0 artifact file(s) and 0 other file(s)"
            ],
            "text/plain": [
              "<IPython.core.display.HTML object>"
            ]
          },
          "metadata": {},
          "output_type": "display_data"
        },
        {
          "data": {
            "text/html": [
              "Find logs at: <code>./wandb/run-20250402_185517-xpuhnbdk/logs</code>"
            ],
            "text/plain": [
              "<IPython.core.display.HTML object>"
            ]
          },
          "metadata": {},
          "output_type": "display_data"
        },
        {
          "name": "stderr",
          "output_type": "stream",
          "text": [
            "\u001b[34m\u001b[1mwandb\u001b[0m: Agent Starting Run: l7bvact0 with config:\n",
            "\u001b[34m\u001b[1mwandb\u001b[0m: \tactivation: parametric_relu\n",
            "\u001b[34m\u001b[1mwandb\u001b[0m: \tbatch_norm: False\n",
            "\u001b[34m\u001b[1mwandb\u001b[0m: \tbatch_size: 16\n",
            "\u001b[34m\u001b[1mwandb\u001b[0m: \tdata_augment: False\n",
            "\u001b[34m\u001b[1mwandb\u001b[0m: \tdropout: 0\n",
            "\u001b[34m\u001b[1mwandb\u001b[0m: \tfc_layer_size: 2048\n",
            "\u001b[34m\u001b[1mwandb\u001b[0m: \tkernel_size: decreasing\n",
            "\u001b[34m\u001b[1mwandb\u001b[0m: \tlearning_rate: 0.0001\n",
            "\u001b[34m\u001b[1mwandb\u001b[0m: \tnum_filters: equal16\n"
          ]
        },
        {
          "data": {
            "text/html": [
              "Tracking run with wandb version 0.19.8"
            ],
            "text/plain": [
              "<IPython.core.display.HTML object>"
            ]
          },
          "metadata": {},
          "output_type": "display_data"
        },
        {
          "data": {
            "text/html": [
              "Run data is saved locally in <code>/content/wandb/run-20250402_192351-l7bvact0</code>"
            ],
            "text/plain": [
              "<IPython.core.display.HTML object>"
            ]
          },
          "metadata": {},
          "output_type": "display_data"
        },
        {
          "data": {
            "text/html": [
              "Syncing run <strong><a href='https://wandb.ai/da24m021-indian-institute-of-technology-madras/da24m021_da6401_assignment2/runs/l7bvact0' target=\"_blank\">worthy-sweep-3</a></strong> to <a href='https://wandb.ai/da24m021-indian-institute-of-technology-madras/da24m021_da6401_assignment2' target=\"_blank\">Weights & Biases</a> (<a href='https://wandb.me/developer-guide' target=\"_blank\">docs</a>)<br>Sweep page: <a href='https://wandb.ai/da24m021-indian-institute-of-technology-madras/da24m021_da6401_assignment2/sweeps/k2txx1xm' target=\"_blank\">https://wandb.ai/da24m021-indian-institute-of-technology-madras/da24m021_da6401_assignment2/sweeps/k2txx1xm</a>"
            ],
            "text/plain": [
              "<IPython.core.display.HTML object>"
            ]
          },
          "metadata": {},
          "output_type": "display_data"
        },
        {
          "data": {
            "text/html": [
              " View project at <a href='https://wandb.ai/da24m021-indian-institute-of-technology-madras/da24m021_da6401_assignment2' target=\"_blank\">https://wandb.ai/da24m021-indian-institute-of-technology-madras/da24m021_da6401_assignment2</a>"
            ],
            "text/plain": [
              "<IPython.core.display.HTML object>"
            ]
          },
          "metadata": {},
          "output_type": "display_data"
        },
        {
          "data": {
            "text/html": [
              " View sweep at <a href='https://wandb.ai/da24m021-indian-institute-of-technology-madras/da24m021_da6401_assignment2/sweeps/k2txx1xm' target=\"_blank\">https://wandb.ai/da24m021-indian-institute-of-technology-madras/da24m021_da6401_assignment2/sweeps/k2txx1xm</a>"
            ],
            "text/plain": [
              "<IPython.core.display.HTML object>"
            ]
          },
          "metadata": {},
          "output_type": "display_data"
        },
        {
          "data": {
            "text/html": [
              " View run at <a href='https://wandb.ai/da24m021-indian-institute-of-technology-madras/da24m021_da6401_assignment2/runs/l7bvact0' target=\"_blank\">https://wandb.ai/da24m021-indian-institute-of-technology-madras/da24m021_da6401_assignment2/runs/l7bvact0</a>"
            ],
            "text/plain": [
              "<IPython.core.display.HTML object>"
            ]
          },
          "metadata": {},
          "output_type": "display_data"
        },
        {
          "name": "stderr",
          "output_type": "stream",
          "text": [
            "100%|██████████| 501/501 [01:49<00:00,  4.57it/s]\n",
            "100%|██████████| 126/126 [00:25<00:00,  4.93it/s]\n"
          ]
        },
        {
          "name": "stdout",
          "output_type": "stream",
          "text": [
            "Epoch 1/10, Train Loss: 2.236, Train Acc: 16.75%, Val Loss: 2.126, Val Acc: 22.78%\n"
          ]
        },
        {
          "name": "stderr",
          "output_type": "stream",
          "text": [
            "100%|██████████| 501/501 [01:42<00:00,  4.90it/s]\n",
            "100%|██████████| 126/126 [00:25<00:00,  4.92it/s]\n"
          ]
        },
        {
          "name": "stdout",
          "output_type": "stream",
          "text": [
            "Epoch 2/10, Train Loss: 2.092, Train Acc: 23.98%, Val Loss: 2.046, Val Acc: 28.22%\n"
          ]
        },
        {
          "name": "stderr",
          "output_type": "stream",
          "text": [
            "100%|██████████| 501/501 [01:44<00:00,  4.80it/s]\n",
            "100%|██████████| 126/126 [00:25<00:00,  4.90it/s]\n"
          ]
        },
        {
          "name": "stdout",
          "output_type": "stream",
          "text": [
            "Epoch 3/10, Train Loss: 2.012, Train Acc: 28.17%, Val Loss: 1.980, Val Acc: 29.02%\n"
          ]
        },
        {
          "name": "stderr",
          "output_type": "stream",
          "text": [
            "100%|██████████| 501/501 [01:42<00:00,  4.91it/s]\n",
            "100%|██████████| 126/126 [00:25<00:00,  4.96it/s]\n"
          ]
        },
        {
          "name": "stdout",
          "output_type": "stream",
          "text": [
            "Epoch 4/10, Train Loss: 1.951, Train Acc: 30.38%, Val Loss: 1.958, Val Acc: 30.32%\n"
          ]
        },
        {
          "name": "stderr",
          "output_type": "stream",
          "text": [
            "100%|██████████| 501/501 [01:44<00:00,  4.80it/s]\n",
            "100%|██████████| 126/126 [00:25<00:00,  4.92it/s]\n"
          ]
        },
        {
          "name": "stdout",
          "output_type": "stream",
          "text": [
            "Epoch 5/10, Train Loss: 1.908, Train Acc: 32.50%, Val Loss: 1.952, Val Acc: 31.12%\n"
          ]
        },
        {
          "name": "stderr",
          "output_type": "stream",
          "text": [
            "100%|██████████| 501/501 [01:41<00:00,  4.92it/s]\n",
            "100%|██████████| 126/126 [00:25<00:00,  4.88it/s]\n"
          ]
        },
        {
          "name": "stdout",
          "output_type": "stream",
          "text": [
            "Epoch 6/10, Train Loss: 1.876, Train Acc: 33.42%, Val Loss: 1.932, Val Acc: 30.52%\n"
          ]
        },
        {
          "name": "stderr",
          "output_type": "stream",
          "text": [
            "100%|██████████| 501/501 [01:44<00:00,  4.81it/s]\n",
            "100%|██████████| 126/126 [00:25<00:00,  4.96it/s]\n"
          ]
        },
        {
          "name": "stdout",
          "output_type": "stream",
          "text": [
            "Epoch 7/10, Train Loss: 1.846, Train Acc: 34.61%, Val Loss: 1.912, Val Acc: 31.97%\n"
          ]
        },
        {
          "name": "stderr",
          "output_type": "stream",
          "text": [
            "100%|██████████| 501/501 [01:42<00:00,  4.91it/s]\n",
            "100%|██████████| 126/126 [00:26<00:00,  4.79it/s]\n"
          ]
        },
        {
          "name": "stdout",
          "output_type": "stream",
          "text": [
            "Epoch 8/10, Train Loss: 1.816, Train Acc: 36.07%, Val Loss: 1.920, Val Acc: 31.87%\n"
          ]
        },
        {
          "name": "stderr",
          "output_type": "stream",
          "text": [
            "100%|██████████| 501/501 [01:43<00:00,  4.83it/s]\n",
            "100%|██████████| 126/126 [00:23<00:00,  5.34it/s]\n"
          ]
        },
        {
          "name": "stdout",
          "output_type": "stream",
          "text": [
            "Epoch 9/10, Train Loss: 1.784, Train Acc: 36.73%, Val Loss: 1.917, Val Acc: 31.62%\n"
          ]
        },
        {
          "name": "stderr",
          "output_type": "stream",
          "text": [
            "100%|██████████| 501/501 [01:43<00:00,  4.86it/s]\n",
            "100%|██████████| 126/126 [00:26<00:00,  4.70it/s]"
          ]
        },
        {
          "name": "stdout",
          "output_type": "stream",
          "text": [
            "Epoch 10/10, Train Loss: 1.756, Train Acc: 38.15%, Val Loss: 1.915, Val Acc: 32.87%\n"
          ]
        },
        {
          "name": "stderr",
          "output_type": "stream",
          "text": [
            "\n"
          ]
        },
        {
          "data": {
            "text/html": [],
            "text/plain": [
              "<IPython.core.display.HTML object>"
            ]
          },
          "metadata": {},
          "output_type": "display_data"
        },
        {
          "data": {
            "text/html": [
              "<br>    <style><br>        .wandb-row {<br>            display: flex;<br>            flex-direction: row;<br>            flex-wrap: wrap;<br>            justify-content: flex-start;<br>            width: 100%;<br>        }<br>        .wandb-col {<br>            display: flex;<br>            flex-direction: column;<br>            flex-basis: 100%;<br>            flex: 1;<br>            padding: 10px;<br>        }<br>    </style><br><div class=\"wandb-row\"><div class=\"wandb-col\"><h3>Run history:</h3><br/><table class=\"wandb\"><tr><td>epoch</td><td>▁▂▃▃▄▅▆▆▇█</td></tr><tr><td>train_accuracy</td><td>▁▃▅▅▆▆▇▇██</td></tr><tr><td>train_loss</td><td>█▆▅▄▃▃▂▂▁▁</td></tr><tr><td>val_accuracy</td><td>▁</td></tr><tr><td>validation_accuracy</td><td>▁▅▅▆▇▆▇▇▇█</td></tr><tr><td>validation_loss</td><td>█▅▃▃▂▂▁▁▁▁</td></tr></table><br/></div><div class=\"wandb-col\"><h3>Run summary:</h3><br/><table class=\"wandb\"><tr><td>epoch</td><td>9</td></tr><tr><td>train_accuracy</td><td>38.14639</td></tr><tr><td>train_loss</td><td>1.75614</td></tr><tr><td>val_accuracy</td><td>32.86713</td></tr><tr><td>validation_accuracy</td><td>32.86713</td></tr><tr><td>validation_loss</td><td>1.91479</td></tr></table><br/></div></div>"
            ],
            "text/plain": [
              "<IPython.core.display.HTML object>"
            ]
          },
          "metadata": {},
          "output_type": "display_data"
        },
        {
          "data": {
            "text/html": [
              " View run <strong style=\"color:#cdcd00\">activation_parametric_relu_filters_equal16_lr_0.0001_kernel_decreasing_fc_size_2048</strong> at: <a href='https://wandb.ai/da24m021-indian-institute-of-technology-madras/da24m021_da6401_assignment2/runs/l7bvact0' target=\"_blank\">https://wandb.ai/da24m021-indian-institute-of-technology-madras/da24m021_da6401_assignment2/runs/l7bvact0</a><br> View project at: <a href='https://wandb.ai/da24m021-indian-institute-of-technology-madras/da24m021_da6401_assignment2' target=\"_blank\">https://wandb.ai/da24m021-indian-institute-of-technology-madras/da24m021_da6401_assignment2</a><br>Synced 5 W&B file(s), 0 media file(s), 0 artifact file(s) and 0 other file(s)"
            ],
            "text/plain": [
              "<IPython.core.display.HTML object>"
            ]
          },
          "metadata": {},
          "output_type": "display_data"
        },
        {
          "data": {
            "text/html": [
              "Find logs at: <code>./wandb/run-20250402_192351-l7bvact0/logs</code>"
            ],
            "text/plain": [
              "<IPython.core.display.HTML object>"
            ]
          },
          "metadata": {},
          "output_type": "display_data"
        },
        {
          "name": "stderr",
          "output_type": "stream",
          "text": [
            "\u001b[34m\u001b[1mwandb\u001b[0m: Sweep Agent: Waiting for job.\n",
            "\u001b[34m\u001b[1mwandb\u001b[0m: Job received.\n",
            "\u001b[34m\u001b[1mwandb\u001b[0m: Agent Starting Run: abtwupgs with config:\n",
            "\u001b[34m\u001b[1mwandb\u001b[0m: \tactivation: leaky_relu\n",
            "\u001b[34m\u001b[1mwandb\u001b[0m: \tbatch_norm: True\n",
            "\u001b[34m\u001b[1mwandb\u001b[0m: \tbatch_size: 32\n",
            "\u001b[34m\u001b[1mwandb\u001b[0m: \tdata_augment: False\n",
            "\u001b[34m\u001b[1mwandb\u001b[0m: \tdropout: 0.2\n",
            "\u001b[34m\u001b[1mwandb\u001b[0m: \tfc_layer_size: 2048\n",
            "\u001b[34m\u001b[1mwandb\u001b[0m: \tkernel_size: increasing\n",
            "\u001b[34m\u001b[1mwandb\u001b[0m: \tlearning_rate: 0.0001\n",
            "\u001b[34m\u001b[1mwandb\u001b[0m: \tnum_filters: equal16\n"
          ]
        },
        {
          "data": {
            "text/html": [
              "Tracking run with wandb version 0.19.8"
            ],
            "text/plain": [
              "<IPython.core.display.HTML object>"
            ]
          },
          "metadata": {},
          "output_type": "display_data"
        },
        {
          "data": {
            "text/html": [
              "Run data is saved locally in <code>/content/wandb/run-20250402_194545-abtwupgs</code>"
            ],
            "text/plain": [
              "<IPython.core.display.HTML object>"
            ]
          },
          "metadata": {},
          "output_type": "display_data"
        },
        {
          "data": {
            "text/html": [
              "Syncing run <strong><a href='https://wandb.ai/da24m021-indian-institute-of-technology-madras/da24m021_da6401_assignment2/runs/abtwupgs' target=\"_blank\">visionary-sweep-4</a></strong> to <a href='https://wandb.ai/da24m021-indian-institute-of-technology-madras/da24m021_da6401_assignment2' target=\"_blank\">Weights & Biases</a> (<a href='https://wandb.me/developer-guide' target=\"_blank\">docs</a>)<br>Sweep page: <a href='https://wandb.ai/da24m021-indian-institute-of-technology-madras/da24m021_da6401_assignment2/sweeps/k2txx1xm' target=\"_blank\">https://wandb.ai/da24m021-indian-institute-of-technology-madras/da24m021_da6401_assignment2/sweeps/k2txx1xm</a>"
            ],
            "text/plain": [
              "<IPython.core.display.HTML object>"
            ]
          },
          "metadata": {},
          "output_type": "display_data"
        },
        {
          "data": {
            "text/html": [
              " View project at <a href='https://wandb.ai/da24m021-indian-institute-of-technology-madras/da24m021_da6401_assignment2' target=\"_blank\">https://wandb.ai/da24m021-indian-institute-of-technology-madras/da24m021_da6401_assignment2</a>"
            ],
            "text/plain": [
              "<IPython.core.display.HTML object>"
            ]
          },
          "metadata": {},
          "output_type": "display_data"
        },
        {
          "data": {
            "text/html": [
              " View sweep at <a href='https://wandb.ai/da24m021-indian-institute-of-technology-madras/da24m021_da6401_assignment2/sweeps/k2txx1xm' target=\"_blank\">https://wandb.ai/da24m021-indian-institute-of-technology-madras/da24m021_da6401_assignment2/sweeps/k2txx1xm</a>"
            ],
            "text/plain": [
              "<IPython.core.display.HTML object>"
            ]
          },
          "metadata": {},
          "output_type": "display_data"
        },
        {
          "data": {
            "text/html": [
              " View run at <a href='https://wandb.ai/da24m021-indian-institute-of-technology-madras/da24m021_da6401_assignment2/runs/abtwupgs' target=\"_blank\">https://wandb.ai/da24m021-indian-institute-of-technology-madras/da24m021_da6401_assignment2/runs/abtwupgs</a>"
            ],
            "text/plain": [
              "<IPython.core.display.HTML object>"
            ]
          },
          "metadata": {},
          "output_type": "display_data"
        },
        {
          "name": "stderr",
          "output_type": "stream",
          "text": [
            "100%|██████████| 251/251 [01:46<00:00,  2.35it/s]\n",
            "100%|██████████| 63/63 [00:25<00:00,  2.51it/s]\n"
          ]
        },
        {
          "name": "stdout",
          "output_type": "stream",
          "text": [
            "Epoch 1/10, Train Loss: 2.309, Train Acc: 13.51%, Val Loss: 2.252, Val Acc: 12.94%\n"
          ]
        },
        {
          "name": "stderr",
          "output_type": "stream",
          "text": [
            "100%|██████████| 251/251 [01:42<00:00,  2.45it/s]\n",
            "100%|██████████| 63/63 [00:25<00:00,  2.45it/s]\n"
          ]
        },
        {
          "name": "stdout",
          "output_type": "stream",
          "text": [
            "Epoch 2/10, Train Loss: 2.247, Train Acc: 16.89%, Val Loss: 2.197, Val Acc: 17.93%\n"
          ]
        },
        {
          "name": "stderr",
          "output_type": "stream",
          "text": [
            "100%|██████████| 251/251 [01:42<00:00,  2.46it/s]\n",
            "100%|██████████| 63/63 [00:25<00:00,  2.50it/s]\n"
          ]
        },
        {
          "name": "stdout",
          "output_type": "stream",
          "text": [
            "Epoch 3/10, Train Loss: 2.212, Train Acc: 18.36%, Val Loss: 2.173, Val Acc: 18.83%\n"
          ]
        },
        {
          "name": "stderr",
          "output_type": "stream",
          "text": [
            "100%|██████████| 251/251 [01:42<00:00,  2.44it/s]\n",
            "100%|██████████| 63/63 [00:25<00:00,  2.49it/s]\n"
          ]
        },
        {
          "name": "stdout",
          "output_type": "stream",
          "text": [
            "Epoch 4/10, Train Loss: 2.185, Train Acc: 19.80%, Val Loss: 2.145, Val Acc: 20.98%\n"
          ]
        },
        {
          "name": "stderr",
          "output_type": "stream",
          "text": [
            "100%|██████████| 251/251 [01:40<00:00,  2.49it/s]\n",
            "100%|██████████| 63/63 [00:23<00:00,  2.72it/s]\n"
          ]
        },
        {
          "name": "stdout",
          "output_type": "stream",
          "text": [
            "Epoch 5/10, Train Loss: 2.173, Train Acc: 20.27%, Val Loss: 2.115, Val Acc: 22.18%\n"
          ]
        },
        {
          "name": "stderr",
          "output_type": "stream",
          "text": [
            "100%|██████████| 251/251 [01:43<00:00,  2.42it/s]\n",
            "100%|██████████| 63/63 [00:23<00:00,  2.67it/s]\n"
          ]
        },
        {
          "name": "stdout",
          "output_type": "stream",
          "text": [
            "Epoch 6/10, Train Loss: 2.166, Train Acc: 20.32%, Val Loss: 2.120, Val Acc: 23.28%\n"
          ]
        },
        {
          "name": "stderr",
          "output_type": "stream",
          "text": [
            "100%|██████████| 251/251 [01:40<00:00,  2.51it/s]\n",
            "100%|██████████| 63/63 [00:24<00:00,  2.52it/s]\n"
          ]
        },
        {
          "name": "stdout",
          "output_type": "stream",
          "text": [
            "Epoch 7/10, Train Loss: 2.158, Train Acc: 21.22%, Val Loss: 2.112, Val Acc: 23.23%\n"
          ]
        },
        {
          "name": "stderr",
          "output_type": "stream",
          "text": [
            "100%|██████████| 251/251 [01:42<00:00,  2.46it/s]\n",
            "100%|██████████| 63/63 [00:25<00:00,  2.47it/s]\n"
          ]
        },
        {
          "name": "stdout",
          "output_type": "stream",
          "text": [
            "Epoch 8/10, Train Loss: 2.145, Train Acc: 22.01%, Val Loss: 2.095, Val Acc: 24.48%\n"
          ]
        },
        {
          "name": "stderr",
          "output_type": "stream",
          "text": [
            "100%|██████████| 251/251 [01:40<00:00,  2.50it/s]\n",
            "100%|██████████| 63/63 [00:24<00:00,  2.60it/s]\n"
          ]
        },
        {
          "name": "stdout",
          "output_type": "stream",
          "text": [
            "Epoch 9/10, Train Loss: 2.126, Train Acc: 22.48%, Val Loss: 2.104, Val Acc: 24.13%\n"
          ]
        },
        {
          "name": "stderr",
          "output_type": "stream",
          "text": [
            "100%|██████████| 251/251 [01:41<00:00,  2.48it/s]\n",
            "100%|██████████| 63/63 [00:24<00:00,  2.54it/s]"
          ]
        },
        {
          "name": "stdout",
          "output_type": "stream",
          "text": [
            "Epoch 10/10, Train Loss: 2.116, Train Acc: 23.52%, Val Loss: 2.064, Val Acc: 26.67%\n"
          ]
        },
        {
          "name": "stderr",
          "output_type": "stream",
          "text": [
            "\n"
          ]
        },
        {
          "data": {
            "text/html": [],
            "text/plain": [
              "<IPython.core.display.HTML object>"
            ]
          },
          "metadata": {},
          "output_type": "display_data"
        },
        {
          "data": {
            "text/html": [
              "<br>    <style><br>        .wandb-row {<br>            display: flex;<br>            flex-direction: row;<br>            flex-wrap: wrap;<br>            justify-content: flex-start;<br>            width: 100%;<br>        }<br>        .wandb-col {<br>            display: flex;<br>            flex-direction: column;<br>            flex-basis: 100%;<br>            flex: 1;<br>            padding: 10px;<br>        }<br>    </style><br><div class=\"wandb-row\"><div class=\"wandb-col\"><h3>Run history:</h3><br/><table class=\"wandb\"><tr><td>epoch</td><td>▁▂▃▃▄▅▆▆▇█</td></tr><tr><td>train_accuracy</td><td>▁▃▄▅▆▆▆▇▇█</td></tr><tr><td>train_loss</td><td>█▆▄▄▃▃▃▂▁▁</td></tr><tr><td>val_accuracy</td><td>▁</td></tr><tr><td>validation_accuracy</td><td>▁▄▄▅▆▆▆▇▇█</td></tr><tr><td>validation_loss</td><td>█▆▅▄▃▃▃▂▂▁</td></tr></table><br/></div><div class=\"wandb-col\"><h3>Run summary:</h3><br/><table class=\"wandb\"><tr><td>epoch</td><td>9</td></tr><tr><td>train_accuracy</td><td>23.51986</td></tr><tr><td>train_loss</td><td>2.11574</td></tr><tr><td>val_accuracy</td><td>26.67333</td></tr><tr><td>validation_accuracy</td><td>26.67333</td></tr><tr><td>validation_loss</td><td>2.06434</td></tr></table><br/></div></div>"
            ],
            "text/plain": [
              "<IPython.core.display.HTML object>"
            ]
          },
          "metadata": {},
          "output_type": "display_data"
        },
        {
          "data": {
            "text/html": [
              " View run <strong style=\"color:#cdcd00\">activation_leaky_relu_filters_equal16_lr_0.0001_kernel_increasing_fc_size_2048</strong> at: <a href='https://wandb.ai/da24m021-indian-institute-of-technology-madras/da24m021_da6401_assignment2/runs/abtwupgs' target=\"_blank\">https://wandb.ai/da24m021-indian-institute-of-technology-madras/da24m021_da6401_assignment2/runs/abtwupgs</a><br> View project at: <a href='https://wandb.ai/da24m021-indian-institute-of-technology-madras/da24m021_da6401_assignment2' target=\"_blank\">https://wandb.ai/da24m021-indian-institute-of-technology-madras/da24m021_da6401_assignment2</a><br>Synced 5 W&B file(s), 0 media file(s), 0 artifact file(s) and 0 other file(s)"
            ],
            "text/plain": [
              "<IPython.core.display.HTML object>"
            ]
          },
          "metadata": {},
          "output_type": "display_data"
        },
        {
          "data": {
            "text/html": [
              "Find logs at: <code>./wandb/run-20250402_194545-abtwupgs/logs</code>"
            ],
            "text/plain": [
              "<IPython.core.display.HTML object>"
            ]
          },
          "metadata": {},
          "output_type": "display_data"
        },
        {
          "name": "stderr",
          "output_type": "stream",
          "text": [
            "\u001b[34m\u001b[1mwandb\u001b[0m: Agent Starting Run: 9u4a9al4 with config:\n",
            "\u001b[34m\u001b[1mwandb\u001b[0m: \tactivation: gelu\n",
            "\u001b[34m\u001b[1mwandb\u001b[0m: \tbatch_norm: False\n",
            "\u001b[34m\u001b[1mwandb\u001b[0m: \tbatch_size: 16\n",
            "\u001b[34m\u001b[1mwandb\u001b[0m: \tdata_augment: False\n",
            "\u001b[34m\u001b[1mwandb\u001b[0m: \tdropout: 0\n",
            "\u001b[34m\u001b[1mwandb\u001b[0m: \tfc_layer_size: 1024\n",
            "\u001b[34m\u001b[1mwandb\u001b[0m: \tkernel_size: increasing\n",
            "\u001b[34m\u001b[1mwandb\u001b[0m: \tlearning_rate: 0.0001\n",
            "\u001b[34m\u001b[1mwandb\u001b[0m: \tnum_filters: doubling32\n"
          ]
        },
        {
          "data": {
            "text/html": [
              "Tracking run with wandb version 0.19.8"
            ],
            "text/plain": [
              "<IPython.core.display.HTML object>"
            ]
          },
          "metadata": {},
          "output_type": "display_data"
        },
        {
          "data": {
            "text/html": [
              "Run data is saved locally in <code>/content/wandb/run-20250402_200706-9u4a9al4</code>"
            ],
            "text/plain": [
              "<IPython.core.display.HTML object>"
            ]
          },
          "metadata": {},
          "output_type": "display_data"
        },
        {
          "data": {
            "text/html": [
              "Syncing run <strong><a href='https://wandb.ai/da24m021-indian-institute-of-technology-madras/da24m021_da6401_assignment2/runs/9u4a9al4' target=\"_blank\">leafy-sweep-5</a></strong> to <a href='https://wandb.ai/da24m021-indian-institute-of-technology-madras/da24m021_da6401_assignment2' target=\"_blank\">Weights & Biases</a> (<a href='https://wandb.me/developer-guide' target=\"_blank\">docs</a>)<br>Sweep page: <a href='https://wandb.ai/da24m021-indian-institute-of-technology-madras/da24m021_da6401_assignment2/sweeps/k2txx1xm' target=\"_blank\">https://wandb.ai/da24m021-indian-institute-of-technology-madras/da24m021_da6401_assignment2/sweeps/k2txx1xm</a>"
            ],
            "text/plain": [
              "<IPython.core.display.HTML object>"
            ]
          },
          "metadata": {},
          "output_type": "display_data"
        },
        {
          "data": {
            "text/html": [
              " View project at <a href='https://wandb.ai/da24m021-indian-institute-of-technology-madras/da24m021_da6401_assignment2' target=\"_blank\">https://wandb.ai/da24m021-indian-institute-of-technology-madras/da24m021_da6401_assignment2</a>"
            ],
            "text/plain": [
              "<IPython.core.display.HTML object>"
            ]
          },
          "metadata": {},
          "output_type": "display_data"
        },
        {
          "data": {
            "text/html": [
              " View sweep at <a href='https://wandb.ai/da24m021-indian-institute-of-technology-madras/da24m021_da6401_assignment2/sweeps/k2txx1xm' target=\"_blank\">https://wandb.ai/da24m021-indian-institute-of-technology-madras/da24m021_da6401_assignment2/sweeps/k2txx1xm</a>"
            ],
            "text/plain": [
              "<IPython.core.display.HTML object>"
            ]
          },
          "metadata": {},
          "output_type": "display_data"
        },
        {
          "data": {
            "text/html": [
              " View run at <a href='https://wandb.ai/da24m021-indian-institute-of-technology-madras/da24m021_da6401_assignment2/runs/9u4a9al4' target=\"_blank\">https://wandb.ai/da24m021-indian-institute-of-technology-madras/da24m021_da6401_assignment2/runs/9u4a9al4</a>"
            ],
            "text/plain": [
              "<IPython.core.display.HTML object>"
            ]
          },
          "metadata": {},
          "output_type": "display_data"
        },
        {
          "name": "stderr",
          "output_type": "stream",
          "text": [
            "100%|██████████| 501/501 [01:52<00:00,  4.45it/s]\n",
            "100%|██████████| 126/126 [00:24<00:00,  5.07it/s]\n"
          ]
        },
        {
          "name": "stdout",
          "output_type": "stream",
          "text": [
            "Epoch 1/10, Train Loss: 2.153, Train Acc: 20.91%, Val Loss: 2.037, Val Acc: 25.62%\n"
          ]
        },
        {
          "name": "stderr",
          "output_type": "stream",
          "text": [
            "100%|██████████| 501/501 [01:47<00:00,  4.67it/s]\n",
            "100%|██████████| 126/126 [00:25<00:00,  4.88it/s]\n"
          ]
        },
        {
          "name": "stdout",
          "output_type": "stream",
          "text": [
            "Epoch 2/10, Train Loss: 1.994, Train Acc: 28.23%, Val Loss: 1.965, Val Acc: 31.77%\n"
          ]
        },
        {
          "name": "stderr",
          "output_type": "stream",
          "text": [
            "100%|██████████| 501/501 [01:45<00:00,  4.75it/s]\n",
            "100%|██████████| 126/126 [00:27<00:00,  4.53it/s]\n"
          ]
        },
        {
          "name": "stdout",
          "output_type": "stream",
          "text": [
            "Epoch 3/10, Train Loss: 1.927, Train Acc: 31.89%, Val Loss: 1.917, Val Acc: 34.27%\n"
          ]
        },
        {
          "name": "stderr",
          "output_type": "stream",
          "text": [
            "100%|██████████| 501/501 [01:45<00:00,  4.74it/s]\n",
            "100%|██████████| 126/126 [00:26<00:00,  4.83it/s]\n"
          ]
        },
        {
          "name": "stdout",
          "output_type": "stream",
          "text": [
            "Epoch 4/10, Train Loss: 1.860, Train Acc: 34.36%, Val Loss: 1.884, Val Acc: 35.01%\n"
          ]
        },
        {
          "name": "stderr",
          "output_type": "stream",
          "text": [
            "100%|██████████| 501/501 [01:47<00:00,  4.65it/s]\n",
            "100%|██████████| 126/126 [00:25<00:00,  4.94it/s]\n"
          ]
        },
        {
          "name": "stdout",
          "output_type": "stream",
          "text": [
            "Epoch 5/10, Train Loss: 1.798, Train Acc: 36.93%, Val Loss: 1.892, Val Acc: 33.52%\n"
          ]
        },
        {
          "name": "stderr",
          "output_type": "stream",
          "text": [
            "100%|██████████| 501/501 [01:47<00:00,  4.67it/s]\n",
            "100%|██████████| 126/126 [00:23<00:00,  5.26it/s]\n"
          ]
        },
        {
          "name": "stdout",
          "output_type": "stream",
          "text": [
            "Epoch 6/10, Train Loss: 1.707, Train Acc: 40.17%, Val Loss: 1.883, Val Acc: 34.42%\n"
          ]
        },
        {
          "name": "stderr",
          "output_type": "stream",
          "text": [
            "100%|██████████| 501/501 [01:48<00:00,  4.61it/s]\n",
            "100%|██████████| 126/126 [00:25<00:00,  4.86it/s]\n"
          ]
        },
        {
          "name": "stdout",
          "output_type": "stream",
          "text": [
            "Epoch 7/10, Train Loss: 1.590, Train Acc: 43.92%, Val Loss: 1.926, Val Acc: 35.26%\n"
          ]
        },
        {
          "name": "stderr",
          "output_type": "stream",
          "text": [
            "100%|██████████| 501/501 [01:45<00:00,  4.77it/s]\n",
            "100%|██████████| 126/126 [00:25<00:00,  4.87it/s]\n"
          ]
        },
        {
          "name": "stdout",
          "output_type": "stream",
          "text": [
            "Epoch 8/10, Train Loss: 1.422, Train Acc: 49.79%, Val Loss: 2.083, Val Acc: 34.82%\n"
          ]
        },
        {
          "name": "stderr",
          "output_type": "stream",
          "text": [
            "100%|██████████| 501/501 [01:47<00:00,  4.66it/s]\n",
            "100%|██████████| 126/126 [00:25<00:00,  4.87it/s]\n"
          ]
        },
        {
          "name": "stdout",
          "output_type": "stream",
          "text": [
            "Epoch 9/10, Train Loss: 1.197, Train Acc: 58.36%, Val Loss: 2.098, Val Acc: 35.41%\n"
          ]
        },
        {
          "name": "stderr",
          "output_type": "stream",
          "text": [
            "100%|██████████| 501/501 [01:44<00:00,  4.78it/s]\n",
            "100%|██████████| 126/126 [00:27<00:00,  4.59it/s]"
          ]
        },
        {
          "name": "stdout",
          "output_type": "stream",
          "text": [
            "Epoch 10/10, Train Loss: 0.913, Train Acc: 68.62%, Val Loss: 2.385, Val Acc: 33.52%\n"
          ]
        },
        {
          "name": "stderr",
          "output_type": "stream",
          "text": [
            "\n"
          ]
        },
        {
          "data": {
            "text/html": [],
            "text/plain": [
              "<IPython.core.display.HTML object>"
            ]
          },
          "metadata": {},
          "output_type": "display_data"
        },
        {
          "data": {
            "text/html": [
              "<br>    <style><br>        .wandb-row {<br>            display: flex;<br>            flex-direction: row;<br>            flex-wrap: wrap;<br>            justify-content: flex-start;<br>            width: 100%;<br>        }<br>        .wandb-col {<br>            display: flex;<br>            flex-direction: column;<br>            flex-basis: 100%;<br>            flex: 1;<br>            padding: 10px;<br>        }<br>    </style><br><div class=\"wandb-row\"><div class=\"wandb-col\"><h3>Run history:</h3><br/><table class=\"wandb\"><tr><td>epoch</td><td>▁▂▃▃▄▅▆▆▇█</td></tr><tr><td>train_accuracy</td><td>▁▂▃▃▃▄▄▅▆█</td></tr><tr><td>train_loss</td><td>█▇▇▆▆▅▅▄▃▁</td></tr><tr><td>val_accuracy</td><td>▁</td></tr><tr><td>validation_accuracy</td><td>▁▅▇█▇▇███▇</td></tr><tr><td>validation_loss</td><td>▃▂▁▁▁▁▂▄▄█</td></tr></table><br/></div><div class=\"wandb-col\"><h3>Run summary:</h3><br/><table class=\"wandb\"><tr><td>epoch</td><td>9</td></tr><tr><td>train_accuracy</td><td>68.62353</td></tr><tr><td>train_loss</td><td>0.91266</td></tr><tr><td>val_accuracy</td><td>33.51648</td></tr><tr><td>validation_accuracy</td><td>33.51648</td></tr><tr><td>validation_loss</td><td>2.38495</td></tr></table><br/></div></div>"
            ],
            "text/plain": [
              "<IPython.core.display.HTML object>"
            ]
          },
          "metadata": {},
          "output_type": "display_data"
        },
        {
          "data": {
            "text/html": [
              " View run <strong style=\"color:#cdcd00\">activation_gelu_filters_doubling32_lr_0.0001_kernel_increasing_fc_size_1024</strong> at: <a href='https://wandb.ai/da24m021-indian-institute-of-technology-madras/da24m021_da6401_assignment2/runs/9u4a9al4' target=\"_blank\">https://wandb.ai/da24m021-indian-institute-of-technology-madras/da24m021_da6401_assignment2/runs/9u4a9al4</a><br> View project at: <a href='https://wandb.ai/da24m021-indian-institute-of-technology-madras/da24m021_da6401_assignment2' target=\"_blank\">https://wandb.ai/da24m021-indian-institute-of-technology-madras/da24m021_da6401_assignment2</a><br>Synced 5 W&B file(s), 0 media file(s), 0 artifact file(s) and 0 other file(s)"
            ],
            "text/plain": [
              "<IPython.core.display.HTML object>"
            ]
          },
          "metadata": {},
          "output_type": "display_data"
        },
        {
          "data": {
            "text/html": [
              "Find logs at: <code>./wandb/run-20250402_200706-9u4a9al4/logs</code>"
            ],
            "text/plain": [
              "<IPython.core.display.HTML object>"
            ]
          },
          "metadata": {},
          "output_type": "display_data"
        },
        {
          "name": "stderr",
          "output_type": "stream",
          "text": [
            "\u001b[34m\u001b[1mwandb\u001b[0m: Agent Starting Run: l8cbhw5y with config:\n",
            "\u001b[34m\u001b[1mwandb\u001b[0m: \tactivation: mish\n",
            "\u001b[34m\u001b[1mwandb\u001b[0m: \tbatch_norm: True\n",
            "\u001b[34m\u001b[1mwandb\u001b[0m: \tbatch_size: 32\n",
            "\u001b[34m\u001b[1mwandb\u001b[0m: \tdata_augment: True\n",
            "\u001b[34m\u001b[1mwandb\u001b[0m: \tdropout: 0.2\n",
            "\u001b[34m\u001b[1mwandb\u001b[0m: \tfc_layer_size: 1024\n",
            "\u001b[34m\u001b[1mwandb\u001b[0m: \tkernel_size: increasing\n",
            "\u001b[34m\u001b[1mwandb\u001b[0m: \tlearning_rate: 0.0001\n",
            "\u001b[34m\u001b[1mwandb\u001b[0m: \tnum_filters: doubling16\n"
          ]
        },
        {
          "data": {
            "text/html": [
              "Tracking run with wandb version 0.19.8"
            ],
            "text/plain": [
              "<IPython.core.display.HTML object>"
            ]
          },
          "metadata": {},
          "output_type": "display_data"
        },
        {
          "data": {
            "text/html": [
              "Run data is saved locally in <code>/content/wandb/run-20250402_202927-l8cbhw5y</code>"
            ],
            "text/plain": [
              "<IPython.core.display.HTML object>"
            ]
          },
          "metadata": {},
          "output_type": "display_data"
        },
        {
          "data": {
            "text/html": [
              "Syncing run <strong><a href='https://wandb.ai/da24m021-indian-institute-of-technology-madras/da24m021_da6401_assignment2/runs/l8cbhw5y' target=\"_blank\">solar-sweep-6</a></strong> to <a href='https://wandb.ai/da24m021-indian-institute-of-technology-madras/da24m021_da6401_assignment2' target=\"_blank\">Weights & Biases</a> (<a href='https://wandb.me/developer-guide' target=\"_blank\">docs</a>)<br>Sweep page: <a href='https://wandb.ai/da24m021-indian-institute-of-technology-madras/da24m021_da6401_assignment2/sweeps/k2txx1xm' target=\"_blank\">https://wandb.ai/da24m021-indian-institute-of-technology-madras/da24m021_da6401_assignment2/sweeps/k2txx1xm</a>"
            ],
            "text/plain": [
              "<IPython.core.display.HTML object>"
            ]
          },
          "metadata": {},
          "output_type": "display_data"
        },
        {
          "data": {
            "text/html": [
              " View project at <a href='https://wandb.ai/da24m021-indian-institute-of-technology-madras/da24m021_da6401_assignment2' target=\"_blank\">https://wandb.ai/da24m021-indian-institute-of-technology-madras/da24m021_da6401_assignment2</a>"
            ],
            "text/plain": [
              "<IPython.core.display.HTML object>"
            ]
          },
          "metadata": {},
          "output_type": "display_data"
        },
        {
          "data": {
            "text/html": [
              " View sweep at <a href='https://wandb.ai/da24m021-indian-institute-of-technology-madras/da24m021_da6401_assignment2/sweeps/k2txx1xm' target=\"_blank\">https://wandb.ai/da24m021-indian-institute-of-technology-madras/da24m021_da6401_assignment2/sweeps/k2txx1xm</a>"
            ],
            "text/plain": [
              "<IPython.core.display.HTML object>"
            ]
          },
          "metadata": {},
          "output_type": "display_data"
        },
        {
          "data": {
            "text/html": [
              " View run at <a href='https://wandb.ai/da24m021-indian-institute-of-technology-madras/da24m021_da6401_assignment2/runs/l8cbhw5y' target=\"_blank\">https://wandb.ai/da24m021-indian-institute-of-technology-madras/da24m021_da6401_assignment2/runs/l8cbhw5y</a>"
            ],
            "text/plain": [
              "<IPython.core.display.HTML object>"
            ]
          },
          "metadata": {},
          "output_type": "display_data"
        },
        {
          "name": "stderr",
          "output_type": "stream",
          "text": [
            "100%|██████████| 251/251 [02:11<00:00,  1.91it/s]\n",
            "100%|██████████| 63/63 [00:31<00:00,  2.03it/s]\n"
          ]
        },
        {
          "name": "stdout",
          "output_type": "stream",
          "text": [
            "Epoch 1/10, Train Loss: 2.267, Train Acc: 17.85%, Val Loss: 2.180, Val Acc: 20.13%\n"
          ]
        },
        {
          "name": "stderr",
          "output_type": "stream",
          "text": [
            "100%|██████████| 251/251 [02:09<00:00,  1.93it/s]\n",
            "100%|██████████| 63/63 [00:31<00:00,  2.01it/s]\n"
          ]
        },
        {
          "name": "stdout",
          "output_type": "stream",
          "text": [
            "Epoch 2/10, Train Loss: 2.166, Train Acc: 21.71%, Val Loss: 2.122, Val Acc: 23.63%\n"
          ]
        },
        {
          "name": "stderr",
          "output_type": "stream",
          "text": [
            "100%|██████████| 251/251 [02:09<00:00,  1.94it/s]\n",
            "100%|██████████| 63/63 [00:31<00:00,  2.01it/s]\n"
          ]
        },
        {
          "name": "stdout",
          "output_type": "stream",
          "text": [
            "Epoch 3/10, Train Loss: 2.121, Train Acc: 23.17%, Val Loss: 2.083, Val Acc: 24.53%\n"
          ]
        },
        {
          "name": "stderr",
          "output_type": "stream",
          "text": [
            "100%|██████████| 251/251 [02:05<00:00,  2.00it/s]\n",
            "100%|██████████| 63/63 [00:30<00:00,  2.04it/s]\n"
          ]
        },
        {
          "name": "stdout",
          "output_type": "stream",
          "text": [
            "Epoch 4/10, Train Loss: 2.104, Train Acc: 24.33%, Val Loss: 2.070, Val Acc: 25.07%\n"
          ]
        },
        {
          "name": "stderr",
          "output_type": "stream",
          "text": [
            "100%|██████████| 251/251 [02:09<00:00,  1.94it/s]\n",
            "100%|██████████| 63/63 [00:30<00:00,  2.06it/s]\n"
          ]
        },
        {
          "name": "stdout",
          "output_type": "stream",
          "text": [
            "Epoch 5/10, Train Loss: 2.080, Train Acc: 24.92%, Val Loss: 2.023, Val Acc: 27.02%\n"
          ]
        },
        {
          "name": "stderr",
          "output_type": "stream",
          "text": [
            "100%|██████████| 251/251 [02:09<00:00,  1.94it/s]\n",
            "100%|██████████| 63/63 [00:31<00:00,  2.03it/s]\n"
          ]
        },
        {
          "name": "stdout",
          "output_type": "stream",
          "text": [
            "Epoch 6/10, Train Loss: 2.047, Train Acc: 26.89%, Val Loss: 2.031, Val Acc: 27.87%\n"
          ]
        },
        {
          "name": "stderr",
          "output_type": "stream",
          "text": [
            "100%|██████████| 251/251 [02:07<00:00,  1.97it/s]\n",
            "100%|██████████| 63/63 [00:33<00:00,  1.88it/s]\n"
          ]
        },
        {
          "name": "stdout",
          "output_type": "stream",
          "text": [
            "Epoch 7/10, Train Loss: 2.031, Train Acc: 27.04%, Val Loss: 1.995, Val Acc: 28.42%\n"
          ]
        },
        {
          "name": "stderr",
          "output_type": "stream",
          "text": [
            "100%|██████████| 251/251 [02:06<00:00,  1.99it/s]\n",
            "100%|██████████| 63/63 [00:31<00:00,  2.02it/s]\n"
          ]
        },
        {
          "name": "stdout",
          "output_type": "stream",
          "text": [
            "Epoch 8/10, Train Loss: 2.006, Train Acc: 28.23%, Val Loss: 1.998, Val Acc: 28.22%\n"
          ]
        },
        {
          "name": "stderr",
          "output_type": "stream",
          "text": [
            "100%|██████████| 251/251 [02:07<00:00,  1.96it/s]\n",
            "100%|██████████| 63/63 [00:30<00:00,  2.05it/s]\n"
          ]
        },
        {
          "name": "stdout",
          "output_type": "stream",
          "text": [
            "Epoch 9/10, Train Loss: 1.989, Train Acc: 29.00%, Val Loss: 1.974, Val Acc: 30.32%\n"
          ]
        },
        {
          "name": "stderr",
          "output_type": "stream",
          "text": [
            "100%|██████████| 251/251 [02:08<00:00,  1.95it/s]\n",
            "100%|██████████| 63/63 [00:30<00:00,  2.04it/s]"
          ]
        },
        {
          "name": "stdout",
          "output_type": "stream",
          "text": [
            "Epoch 10/10, Train Loss: 1.950, Train Acc: 30.58%, Val Loss: 1.942, Val Acc: 30.72%\n"
          ]
        },
        {
          "name": "stderr",
          "output_type": "stream",
          "text": [
            "\n"
          ]
        },
        {
          "data": {
            "text/html": [],
            "text/plain": [
              "<IPython.core.display.HTML object>"
            ]
          },
          "metadata": {},
          "output_type": "display_data"
        },
        {
          "data": {
            "text/html": [
              "<br>    <style><br>        .wandb-row {<br>            display: flex;<br>            flex-direction: row;<br>            flex-wrap: wrap;<br>            justify-content: flex-start;<br>            width: 100%;<br>        }<br>        .wandb-col {<br>            display: flex;<br>            flex-direction: column;<br>            flex-basis: 100%;<br>            flex: 1;<br>            padding: 10px;<br>        }<br>    </style><br><div class=\"wandb-row\"><div class=\"wandb-col\"><h3>Run history:</h3><br/><table class=\"wandb\"><tr><td>epoch</td><td>▁▂▃▃▄▅▆▆▇█</td></tr><tr><td>train_accuracy</td><td>▁▃▄▅▅▆▆▇▇█</td></tr><tr><td>train_loss</td><td>█▆▅▄▄▃▃▂▂▁</td></tr><tr><td>val_accuracy</td><td>▁</td></tr><tr><td>validation_accuracy</td><td>▁▃▄▄▆▆▆▆██</td></tr><tr><td>validation_loss</td><td>█▆▅▅▃▄▃▃▂▁</td></tr></table><br/></div><div class=\"wandb-col\"><h3>Run summary:</h3><br/><table class=\"wandb\"><tr><td>epoch</td><td>9</td></tr><tr><td>train_accuracy</td><td>30.57707</td></tr><tr><td>train_loss</td><td>1.95039</td></tr><tr><td>val_accuracy</td><td>30.71928</td></tr><tr><td>validation_accuracy</td><td>30.71928</td></tr><tr><td>validation_loss</td><td>1.9416</td></tr></table><br/></div></div>"
            ],
            "text/plain": [
              "<IPython.core.display.HTML object>"
            ]
          },
          "metadata": {},
          "output_type": "display_data"
        },
        {
          "data": {
            "text/html": [
              " View run <strong style=\"color:#cdcd00\">activation_mish_filters_doubling16_lr_0.0001_kernel_increasing_fc_size_1024</strong> at: <a href='https://wandb.ai/da24m021-indian-institute-of-technology-madras/da24m021_da6401_assignment2/runs/l8cbhw5y' target=\"_blank\">https://wandb.ai/da24m021-indian-institute-of-technology-madras/da24m021_da6401_assignment2/runs/l8cbhw5y</a><br> View project at: <a href='https://wandb.ai/da24m021-indian-institute-of-technology-madras/da24m021_da6401_assignment2' target=\"_blank\">https://wandb.ai/da24m021-indian-institute-of-technology-madras/da24m021_da6401_assignment2</a><br>Synced 5 W&B file(s), 0 media file(s), 0 artifact file(s) and 0 other file(s)"
            ],
            "text/plain": [
              "<IPython.core.display.HTML object>"
            ]
          },
          "metadata": {},
          "output_type": "display_data"
        },
        {
          "data": {
            "text/html": [
              "Find logs at: <code>./wandb/run-20250402_202927-l8cbhw5y/logs</code>"
            ],
            "text/plain": [
              "<IPython.core.display.HTML object>"
            ]
          },
          "metadata": {},
          "output_type": "display_data"
        },
        {
          "name": "stderr",
          "output_type": "stream",
          "text": [
            "\u001b[34m\u001b[1mwandb\u001b[0m: Agent Starting Run: 1vhdz6j8 with config:\n",
            "\u001b[34m\u001b[1mwandb\u001b[0m: \tactivation: mish\n",
            "\u001b[34m\u001b[1mwandb\u001b[0m: \tbatch_norm: False\n",
            "\u001b[34m\u001b[1mwandb\u001b[0m: \tbatch_size: 8\n",
            "\u001b[34m\u001b[1mwandb\u001b[0m: \tdata_augment: True\n",
            "\u001b[34m\u001b[1mwandb\u001b[0m: \tdropout: 0.2\n",
            "\u001b[34m\u001b[1mwandb\u001b[0m: \tfc_layer_size: 2048\n",
            "\u001b[34m\u001b[1mwandb\u001b[0m: \tkernel_size: increasing\n",
            "\u001b[34m\u001b[1mwandb\u001b[0m: \tlearning_rate: 0.0001\n",
            "\u001b[34m\u001b[1mwandb\u001b[0m: \tnum_filters: doubling16\n"
          ]
        },
        {
          "data": {
            "text/html": [
              "Tracking run with wandb version 0.19.8"
            ],
            "text/plain": [
              "<IPython.core.display.HTML object>"
            ]
          },
          "metadata": {},
          "output_type": "display_data"
        },
        {
          "data": {
            "text/html": [
              "Run data is saved locally in <code>/content/wandb/run-20250402_205609-1vhdz6j8</code>"
            ],
            "text/plain": [
              "<IPython.core.display.HTML object>"
            ]
          },
          "metadata": {},
          "output_type": "display_data"
        },
        {
          "data": {
            "text/html": [
              "Syncing run <strong><a href='https://wandb.ai/da24m021-indian-institute-of-technology-madras/da24m021_da6401_assignment2/runs/1vhdz6j8' target=\"_blank\">ethereal-sweep-7</a></strong> to <a href='https://wandb.ai/da24m021-indian-institute-of-technology-madras/da24m021_da6401_assignment2' target=\"_blank\">Weights & Biases</a> (<a href='https://wandb.me/developer-guide' target=\"_blank\">docs</a>)<br>Sweep page: <a href='https://wandb.ai/da24m021-indian-institute-of-technology-madras/da24m021_da6401_assignment2/sweeps/k2txx1xm' target=\"_blank\">https://wandb.ai/da24m021-indian-institute-of-technology-madras/da24m021_da6401_assignment2/sweeps/k2txx1xm</a>"
            ],
            "text/plain": [
              "<IPython.core.display.HTML object>"
            ]
          },
          "metadata": {},
          "output_type": "display_data"
        },
        {
          "data": {
            "text/html": [
              " View project at <a href='https://wandb.ai/da24m021-indian-institute-of-technology-madras/da24m021_da6401_assignment2' target=\"_blank\">https://wandb.ai/da24m021-indian-institute-of-technology-madras/da24m021_da6401_assignment2</a>"
            ],
            "text/plain": [
              "<IPython.core.display.HTML object>"
            ]
          },
          "metadata": {},
          "output_type": "display_data"
        },
        {
          "data": {
            "text/html": [
              " View sweep at <a href='https://wandb.ai/da24m021-indian-institute-of-technology-madras/da24m021_da6401_assignment2/sweeps/k2txx1xm' target=\"_blank\">https://wandb.ai/da24m021-indian-institute-of-technology-madras/da24m021_da6401_assignment2/sweeps/k2txx1xm</a>"
            ],
            "text/plain": [
              "<IPython.core.display.HTML object>"
            ]
          },
          "metadata": {},
          "output_type": "display_data"
        },
        {
          "data": {
            "text/html": [
              " View run at <a href='https://wandb.ai/da24m021-indian-institute-of-technology-madras/da24m021_da6401_assignment2/runs/1vhdz6j8' target=\"_blank\">https://wandb.ai/da24m021-indian-institute-of-technology-madras/da24m021_da6401_assignment2/runs/1vhdz6j8</a>"
            ],
            "text/plain": [
              "<IPython.core.display.HTML object>"
            ]
          },
          "metadata": {},
          "output_type": "display_data"
        },
        {
          "name": "stderr",
          "output_type": "stream",
          "text": [
            "100%|██████████| 1001/1001 [02:18<00:00,  7.25it/s]\n",
            "100%|██████████| 251/251 [00:34<00:00,  7.37it/s]\n"
          ]
        },
        {
          "name": "stdout",
          "output_type": "stream",
          "text": [
            "Epoch 1/10, Train Loss: 2.231, Train Acc: 17.64%, Val Loss: 2.170, Val Acc: 19.93%\n"
          ]
        },
        {
          "name": "stderr",
          "output_type": "stream",
          "text": [
            "100%|██████████| 1001/1001 [02:13<00:00,  7.50it/s]\n",
            "100%|██████████| 251/251 [00:31<00:00,  7.90it/s]\n"
          ]
        },
        {
          "name": "stdout",
          "output_type": "stream",
          "text": [
            "Epoch 2/10, Train Loss: 2.145, Train Acc: 22.33%, Val Loss: 2.091, Val Acc: 27.67%\n"
          ]
        },
        {
          "name": "stderr",
          "output_type": "stream",
          "text": [
            "100%|██████████| 1001/1001 [02:14<00:00,  7.46it/s]\n",
            "100%|██████████| 251/251 [00:31<00:00,  7.98it/s]\n"
          ]
        },
        {
          "name": "stdout",
          "output_type": "stream",
          "text": [
            "Epoch 3/10, Train Loss: 2.118, Train Acc: 23.67%, Val Loss: 2.080, Val Acc: 26.37%\n"
          ]
        },
        {
          "name": "stderr",
          "output_type": "stream",
          "text": [
            "100%|██████████| 1001/1001 [02:15<00:00,  7.38it/s]\n",
            "100%|██████████| 251/251 [00:31<00:00,  7.92it/s]\n"
          ]
        },
        {
          "name": "stdout",
          "output_type": "stream",
          "text": [
            "Epoch 4/10, Train Loss: 2.092, Train Acc: 25.07%, Val Loss: 2.050, Val Acc: 26.92%\n"
          ]
        },
        {
          "name": "stderr",
          "output_type": "stream",
          "text": [
            "100%|██████████| 1001/1001 [02:13<00:00,  7.51it/s]\n",
            "100%|██████████| 251/251 [00:31<00:00,  7.98it/s]\n"
          ]
        },
        {
          "name": "stdout",
          "output_type": "stream",
          "text": [
            "Epoch 5/10, Train Loss: 2.065, Train Acc: 25.78%, Val Loss: 1.999, Val Acc: 30.17%\n"
          ]
        },
        {
          "name": "stderr",
          "output_type": "stream",
          "text": [
            "100%|██████████| 1001/1001 [02:11<00:00,  7.59it/s]\n",
            "100%|██████████| 251/251 [00:33<00:00,  7.58it/s]\n"
          ]
        },
        {
          "name": "stdout",
          "output_type": "stream",
          "text": [
            "Epoch 6/10, Train Loss: 2.056, Train Acc: 26.61%, Val Loss: 2.012, Val Acc: 28.87%\n"
          ]
        },
        {
          "name": "stderr",
          "output_type": "stream",
          "text": [
            "100%|██████████| 1001/1001 [02:14<00:00,  7.42it/s]\n",
            "100%|██████████| 251/251 [00:31<00:00,  7.94it/s]\n"
          ]
        },
        {
          "name": "stdout",
          "output_type": "stream",
          "text": [
            "Epoch 7/10, Train Loss: 2.039, Train Acc: 27.65%, Val Loss: 1.996, Val Acc: 27.82%\n"
          ]
        },
        {
          "name": "stderr",
          "output_type": "stream",
          "text": [
            "100%|██████████| 1001/1001 [02:14<00:00,  7.45it/s]\n",
            "100%|██████████| 251/251 [00:31<00:00,  7.94it/s]\n"
          ]
        },
        {
          "name": "stdout",
          "output_type": "stream",
          "text": [
            "Epoch 8/10, Train Loss: 2.020, Train Acc: 27.37%, Val Loss: 1.999, Val Acc: 29.12%\n"
          ]
        },
        {
          "name": "stderr",
          "output_type": "stream",
          "text": [
            "100%|██████████| 1001/1001 [02:15<00:00,  7.37it/s]\n",
            "100%|██████████| 251/251 [00:31<00:00,  7.99it/s]\n"
          ]
        },
        {
          "name": "stdout",
          "output_type": "stream",
          "text": [
            "Epoch 9/10, Train Loss: 1.995, Train Acc: 28.74%, Val Loss: 1.955, Val Acc: 31.22%\n"
          ]
        },
        {
          "name": "stderr",
          "output_type": "stream",
          "text": [
            "100%|██████████| 1001/1001 [02:11<00:00,  7.59it/s]\n",
            "100%|██████████| 251/251 [00:33<00:00,  7.46it/s]"
          ]
        },
        {
          "name": "stdout",
          "output_type": "stream",
          "text": [
            "Epoch 10/10, Train Loss: 1.970, Train Acc: 29.55%, Val Loss: 1.942, Val Acc: 31.27%\n"
          ]
        },
        {
          "name": "stderr",
          "output_type": "stream",
          "text": [
            "\n"
          ]
        },
        {
          "data": {
            "text/html": [],
            "text/plain": [
              "<IPython.core.display.HTML object>"
            ]
          },
          "metadata": {},
          "output_type": "display_data"
        },
        {
          "data": {
            "text/html": [
              "<br>    <style><br>        .wandb-row {<br>            display: flex;<br>            flex-direction: row;<br>            flex-wrap: wrap;<br>            justify-content: flex-start;<br>            width: 100%;<br>        }<br>        .wandb-col {<br>            display: flex;<br>            flex-direction: column;<br>            flex-basis: 100%;<br>            flex: 1;<br>            padding: 10px;<br>        }<br>    </style><br><div class=\"wandb-row\"><div class=\"wandb-col\"><h3>Run history:</h3><br/><table class=\"wandb\"><tr><td>epoch</td><td>▁▂▃▃▄▅▆▆▇█</td></tr><tr><td>train_accuracy</td><td>▁▄▅▅▆▆▇▇██</td></tr><tr><td>train_loss</td><td>█▆▅▄▄▃▃▂▂▁</td></tr><tr><td>val_accuracy</td><td>▁</td></tr><tr><td>validation_accuracy</td><td>▁▆▅▅▇▇▆▇██</td></tr><tr><td>validation_loss</td><td>█▆▅▄▃▃▃▃▁▁</td></tr></table><br/></div><div class=\"wandb-col\"><h3>Run summary:</h3><br/><table class=\"wandb\"><tr><td>epoch</td><td>9</td></tr><tr><td>train_accuracy</td><td>29.55284</td></tr><tr><td>train_loss</td><td>1.97031</td></tr><tr><td>val_accuracy</td><td>31.26873</td></tr><tr><td>validation_accuracy</td><td>31.26873</td></tr><tr><td>validation_loss</td><td>1.94177</td></tr></table><br/></div></div>"
            ],
            "text/plain": [
              "<IPython.core.display.HTML object>"
            ]
          },
          "metadata": {},
          "output_type": "display_data"
        },
        {
          "data": {
            "text/html": [
              " View run <strong style=\"color:#cdcd00\">activation_mish_filters_doubling16_lr_0.0001_kernel_increasing_fc_size_2048</strong> at: <a href='https://wandb.ai/da24m021-indian-institute-of-technology-madras/da24m021_da6401_assignment2/runs/1vhdz6j8' target=\"_blank\">https://wandb.ai/da24m021-indian-institute-of-technology-madras/da24m021_da6401_assignment2/runs/1vhdz6j8</a><br> View project at: <a href='https://wandb.ai/da24m021-indian-institute-of-technology-madras/da24m021_da6401_assignment2' target=\"_blank\">https://wandb.ai/da24m021-indian-institute-of-technology-madras/da24m021_da6401_assignment2</a><br>Synced 5 W&B file(s), 0 media file(s), 0 artifact file(s) and 0 other file(s)"
            ],
            "text/plain": [
              "<IPython.core.display.HTML object>"
            ]
          },
          "metadata": {},
          "output_type": "display_data"
        },
        {
          "data": {
            "text/html": [
              "Find logs at: <code>./wandb/run-20250402_205609-1vhdz6j8/logs</code>"
            ],
            "text/plain": [
              "<IPython.core.display.HTML object>"
            ]
          },
          "metadata": {},
          "output_type": "display_data"
        },
        {
          "name": "stderr",
          "output_type": "stream",
          "text": [
            "\u001b[34m\u001b[1mwandb\u001b[0m: Agent Starting Run: rkd1hnpr with config:\n",
            "\u001b[34m\u001b[1mwandb\u001b[0m: \tactivation: mish\n",
            "\u001b[34m\u001b[1mwandb\u001b[0m: \tbatch_norm: True\n",
            "\u001b[34m\u001b[1mwandb\u001b[0m: \tbatch_size: 16\n",
            "\u001b[34m\u001b[1mwandb\u001b[0m: \tdata_augment: True\n",
            "\u001b[34m\u001b[1mwandb\u001b[0m: \tdropout: 0\n",
            "\u001b[34m\u001b[1mwandb\u001b[0m: \tfc_layer_size: 2048\n",
            "\u001b[34m\u001b[1mwandb\u001b[0m: \tkernel_size: decreasing\n",
            "\u001b[34m\u001b[1mwandb\u001b[0m: \tlearning_rate: 0.0001\n",
            "\u001b[34m\u001b[1mwandb\u001b[0m: \tnum_filters: equal32\n"
          ]
        },
        {
          "data": {
            "text/html": [
              "Tracking run with wandb version 0.19.8"
            ],
            "text/plain": [
              "<IPython.core.display.HTML object>"
            ]
          },
          "metadata": {},
          "output_type": "display_data"
        },
        {
          "data": {
            "text/html": [
              "Run data is saved locally in <code>/content/wandb/run-20250402_212402-rkd1hnpr</code>"
            ],
            "text/plain": [
              "<IPython.core.display.HTML object>"
            ]
          },
          "metadata": {},
          "output_type": "display_data"
        },
        {
          "data": {
            "text/html": [
              "Syncing run <strong><a href='https://wandb.ai/da24m021-indian-institute-of-technology-madras/da24m021_da6401_assignment2/runs/rkd1hnpr' target=\"_blank\">autumn-sweep-8</a></strong> to <a href='https://wandb.ai/da24m021-indian-institute-of-technology-madras/da24m021_da6401_assignment2' target=\"_blank\">Weights & Biases</a> (<a href='https://wandb.me/developer-guide' target=\"_blank\">docs</a>)<br>Sweep page: <a href='https://wandb.ai/da24m021-indian-institute-of-technology-madras/da24m021_da6401_assignment2/sweeps/k2txx1xm' target=\"_blank\">https://wandb.ai/da24m021-indian-institute-of-technology-madras/da24m021_da6401_assignment2/sweeps/k2txx1xm</a>"
            ],
            "text/plain": [
              "<IPython.core.display.HTML object>"
            ]
          },
          "metadata": {},
          "output_type": "display_data"
        },
        {
          "data": {
            "text/html": [
              " View project at <a href='https://wandb.ai/da24m021-indian-institute-of-technology-madras/da24m021_da6401_assignment2' target=\"_blank\">https://wandb.ai/da24m021-indian-institute-of-technology-madras/da24m021_da6401_assignment2</a>"
            ],
            "text/plain": [
              "<IPython.core.display.HTML object>"
            ]
          },
          "metadata": {},
          "output_type": "display_data"
        },
        {
          "data": {
            "text/html": [
              " View sweep at <a href='https://wandb.ai/da24m021-indian-institute-of-technology-madras/da24m021_da6401_assignment2/sweeps/k2txx1xm' target=\"_blank\">https://wandb.ai/da24m021-indian-institute-of-technology-madras/da24m021_da6401_assignment2/sweeps/k2txx1xm</a>"
            ],
            "text/plain": [
              "<IPython.core.display.HTML object>"
            ]
          },
          "metadata": {},
          "output_type": "display_data"
        },
        {
          "data": {
            "text/html": [
              " View run at <a href='https://wandb.ai/da24m021-indian-institute-of-technology-madras/da24m021_da6401_assignment2/runs/rkd1hnpr' target=\"_blank\">https://wandb.ai/da24m021-indian-institute-of-technology-madras/da24m021_da6401_assignment2/runs/rkd1hnpr</a>"
            ],
            "text/plain": [
              "<IPython.core.display.HTML object>"
            ]
          },
          "metadata": {},
          "output_type": "display_data"
        },
        {
          "name": "stderr",
          "output_type": "stream",
          "text": [
            "100%|██████████| 501/501 [02:15<00:00,  3.70it/s]\n",
            "100%|██████████| 126/126 [00:31<00:00,  4.05it/s]\n"
          ]
        },
        {
          "name": "stdout",
          "output_type": "stream",
          "text": [
            "Epoch 1/10, Train Loss: 2.102, Train Acc: 24.88%, Val Loss: 2.025, Val Acc: 26.22%\n"
          ]
        },
        {
          "name": "stderr",
          "output_type": "stream",
          "text": [
            "100%|██████████| 501/501 [02:11<00:00,  3.80it/s]\n",
            "100%|██████████| 126/126 [00:32<00:00,  3.88it/s]\n"
          ]
        },
        {
          "name": "stdout",
          "output_type": "stream",
          "text": [
            "Epoch 2/10, Train Loss: 1.954, Train Acc: 31.49%, Val Loss: 1.971, Val Acc: 29.82%\n"
          ]
        },
        {
          "name": "stderr",
          "output_type": "stream",
          "text": [
            "100%|██████████| 501/501 [02:11<00:00,  3.80it/s]\n",
            "100%|██████████| 126/126 [00:31<00:00,  4.03it/s]\n"
          ]
        },
        {
          "name": "stdout",
          "output_type": "stream",
          "text": [
            "Epoch 3/10, Train Loss: 1.878, Train Acc: 34.40%, Val Loss: 1.917, Val Acc: 32.57%\n"
          ]
        },
        {
          "name": "stderr",
          "output_type": "stream",
          "text": [
            "100%|██████████| 501/501 [02:12<00:00,  3.79it/s]\n",
            "100%|██████████| 126/126 [00:31<00:00,  4.02it/s]\n"
          ]
        },
        {
          "name": "stdout",
          "output_type": "stream",
          "text": [
            "Epoch 4/10, Train Loss: 1.825, Train Acc: 36.10%, Val Loss: 1.905, Val Acc: 34.17%\n"
          ]
        },
        {
          "name": "stderr",
          "output_type": "stream",
          "text": [
            "100%|██████████| 501/501 [02:13<00:00,  3.77it/s]\n",
            "100%|██████████| 126/126 [00:30<00:00,  4.08it/s]\n"
          ]
        },
        {
          "name": "stdout",
          "output_type": "stream",
          "text": [
            "Epoch 5/10, Train Loss: 1.778, Train Acc: 37.58%, Val Loss: 1.886, Val Acc: 36.11%\n"
          ]
        },
        {
          "name": "stderr",
          "output_type": "stream",
          "text": [
            "100%|██████████| 501/501 [02:10<00:00,  3.84it/s]\n",
            "100%|██████████| 126/126 [00:33<00:00,  3.76it/s]\n"
          ]
        },
        {
          "name": "stdout",
          "output_type": "stream",
          "text": [
            "Epoch 6/10, Train Loss: 1.742, Train Acc: 38.52%, Val Loss: 1.877, Val Acc: 34.62%\n"
          ]
        },
        {
          "name": "stderr",
          "output_type": "stream",
          "text": [
            "100%|██████████| 501/501 [02:08<00:00,  3.88it/s]\n",
            "100%|██████████| 126/126 [00:32<00:00,  3.84it/s]\n"
          ]
        },
        {
          "name": "stdout",
          "output_type": "stream",
          "text": [
            "Epoch 7/10, Train Loss: 1.693, Train Acc: 40.84%, Val Loss: 1.851, Val Acc: 35.76%\n"
          ]
        },
        {
          "name": "stderr",
          "output_type": "stream",
          "text": [
            "100%|██████████| 501/501 [02:14<00:00,  3.71it/s]\n",
            "100%|██████████| 126/126 [00:31<00:00,  4.00it/s]\n"
          ]
        },
        {
          "name": "stdout",
          "output_type": "stream",
          "text": [
            "Epoch 8/10, Train Loss: 1.657, Train Acc: 42.29%, Val Loss: 1.876, Val Acc: 35.61%\n"
          ]
        },
        {
          "name": "stderr",
          "output_type": "stream",
          "text": [
            "100%|██████████| 501/501 [02:12<00:00,  3.78it/s]\n",
            "100%|██████████| 126/126 [00:32<00:00,  3.83it/s]\n"
          ]
        },
        {
          "name": "stdout",
          "output_type": "stream",
          "text": [
            "Epoch 9/10, Train Loss: 1.616, Train Acc: 44.03%, Val Loss: 1.858, Val Acc: 36.36%\n"
          ]
        },
        {
          "name": "stderr",
          "output_type": "stream",
          "text": [
            "100%|██████████| 501/501 [02:12<00:00,  3.79it/s]\n",
            "100%|██████████| 126/126 [00:31<00:00,  4.02it/s]"
          ]
        },
        {
          "name": "stdout",
          "output_type": "stream",
          "text": [
            "Epoch 10/10, Train Loss: 1.593, Train Acc: 43.99%, Val Loss: 1.844, Val Acc: 36.71%\n"
          ]
        },
        {
          "name": "stderr",
          "output_type": "stream",
          "text": [
            "\n"
          ]
        },
        {
          "data": {
            "text/html": [],
            "text/plain": [
              "<IPython.core.display.HTML object>"
            ]
          },
          "metadata": {},
          "output_type": "display_data"
        },
        {
          "data": {
            "text/html": [
              "<br>    <style><br>        .wandb-row {<br>            display: flex;<br>            flex-direction: row;<br>            flex-wrap: wrap;<br>            justify-content: flex-start;<br>            width: 100%;<br>        }<br>        .wandb-col {<br>            display: flex;<br>            flex-direction: column;<br>            flex-basis: 100%;<br>            flex: 1;<br>            padding: 10px;<br>        }<br>    </style><br><div class=\"wandb-row\"><div class=\"wandb-col\"><h3>Run history:</h3><br/><table class=\"wandb\"><tr><td>epoch</td><td>▁▂▃▃▄▅▆▆▇█</td></tr><tr><td>train_accuracy</td><td>▁▃▄▅▆▆▇▇██</td></tr><tr><td>train_loss</td><td>█▆▅▄▄▃▂▂▁▁</td></tr><tr><td>val_accuracy</td><td>▁</td></tr><tr><td>validation_accuracy</td><td>▁▃▅▆█▇▇▇██</td></tr><tr><td>validation_loss</td><td>█▆▄▃▃▂▁▂▂▁</td></tr></table><br/></div><div class=\"wandb-col\"><h3>Run summary:</h3><br/><table class=\"wandb\"><tr><td>epoch</td><td>9</td></tr><tr><td>train_accuracy</td><td>43.99201</td></tr><tr><td>train_loss</td><td>1.59254</td></tr><tr><td>val_accuracy</td><td>36.71329</td></tr><tr><td>validation_accuracy</td><td>36.71329</td></tr><tr><td>validation_loss</td><td>1.84438</td></tr></table><br/></div></div>"
            ],
            "text/plain": [
              "<IPython.core.display.HTML object>"
            ]
          },
          "metadata": {},
          "output_type": "display_data"
        },
        {
          "data": {
            "text/html": [
              " View run <strong style=\"color:#cdcd00\">activation_mish_filters_equal32_lr_0.0001_kernel_decreasing_fc_size_2048</strong> at: <a href='https://wandb.ai/da24m021-indian-institute-of-technology-madras/da24m021_da6401_assignment2/runs/rkd1hnpr' target=\"_blank\">https://wandb.ai/da24m021-indian-institute-of-technology-madras/da24m021_da6401_assignment2/runs/rkd1hnpr</a><br> View project at: <a href='https://wandb.ai/da24m021-indian-institute-of-technology-madras/da24m021_da6401_assignment2' target=\"_blank\">https://wandb.ai/da24m021-indian-institute-of-technology-madras/da24m021_da6401_assignment2</a><br>Synced 5 W&B file(s), 0 media file(s), 0 artifact file(s) and 0 other file(s)"
            ],
            "text/plain": [
              "<IPython.core.display.HTML object>"
            ]
          },
          "metadata": {},
          "output_type": "display_data"
        },
        {
          "data": {
            "text/html": [
              "Find logs at: <code>./wandb/run-20250402_212402-rkd1hnpr/logs</code>"
            ],
            "text/plain": [
              "<IPython.core.display.HTML object>"
            ]
          },
          "metadata": {},
          "output_type": "display_data"
        },
        {
          "name": "stderr",
          "output_type": "stream",
          "text": [
            "\u001b[34m\u001b[1mwandb\u001b[0m: Sweep Agent: Waiting for job.\n",
            "\u001b[34m\u001b[1mwandb\u001b[0m: Job received.\n",
            "\u001b[34m\u001b[1mwandb\u001b[0m: Agent Starting Run: bkdy8d1w with config:\n",
            "\u001b[34m\u001b[1mwandb\u001b[0m: \tactivation: mish\n",
            "\u001b[34m\u001b[1mwandb\u001b[0m: \tbatch_norm: False\n",
            "\u001b[34m\u001b[1mwandb\u001b[0m: \tbatch_size: 32\n",
            "\u001b[34m\u001b[1mwandb\u001b[0m: \tdata_augment: False\n",
            "\u001b[34m\u001b[1mwandb\u001b[0m: \tdropout: 0\n",
            "\u001b[34m\u001b[1mwandb\u001b[0m: \tfc_layer_size: 2048\n",
            "\u001b[34m\u001b[1mwandb\u001b[0m: \tkernel_size: increasing\n",
            "\u001b[34m\u001b[1mwandb\u001b[0m: \tlearning_rate: 0.0001\n",
            "\u001b[34m\u001b[1mwandb\u001b[0m: \tnum_filters: equal64\n"
          ]
        },
        {
          "data": {
            "text/html": [
              "Tracking run with wandb version 0.19.8"
            ],
            "text/plain": [
              "<IPython.core.display.HTML object>"
            ]
          },
          "metadata": {},
          "output_type": "display_data"
        },
        {
          "data": {
            "text/html": [
              "Run data is saved locally in <code>/content/wandb/run-20250402_215229-bkdy8d1w</code>"
            ],
            "text/plain": [
              "<IPython.core.display.HTML object>"
            ]
          },
          "metadata": {},
          "output_type": "display_data"
        },
        {
          "data": {
            "text/html": [
              "Syncing run <strong><a href='https://wandb.ai/da24m021-indian-institute-of-technology-madras/da24m021_da6401_assignment2/runs/bkdy8d1w' target=\"_blank\">sandy-sweep-9</a></strong> to <a href='https://wandb.ai/da24m021-indian-institute-of-technology-madras/da24m021_da6401_assignment2' target=\"_blank\">Weights & Biases</a> (<a href='https://wandb.me/developer-guide' target=\"_blank\">docs</a>)<br>Sweep page: <a href='https://wandb.ai/da24m021-indian-institute-of-technology-madras/da24m021_da6401_assignment2/sweeps/k2txx1xm' target=\"_blank\">https://wandb.ai/da24m021-indian-institute-of-technology-madras/da24m021_da6401_assignment2/sweeps/k2txx1xm</a>"
            ],
            "text/plain": [
              "<IPython.core.display.HTML object>"
            ]
          },
          "metadata": {},
          "output_type": "display_data"
        },
        {
          "data": {
            "text/html": [
              " View project at <a href='https://wandb.ai/da24m021-indian-institute-of-technology-madras/da24m021_da6401_assignment2' target=\"_blank\">https://wandb.ai/da24m021-indian-institute-of-technology-madras/da24m021_da6401_assignment2</a>"
            ],
            "text/plain": [
              "<IPython.core.display.HTML object>"
            ]
          },
          "metadata": {},
          "output_type": "display_data"
        },
        {
          "data": {
            "text/html": [
              " View sweep at <a href='https://wandb.ai/da24m021-indian-institute-of-technology-madras/da24m021_da6401_assignment2/sweeps/k2txx1xm' target=\"_blank\">https://wandb.ai/da24m021-indian-institute-of-technology-madras/da24m021_da6401_assignment2/sweeps/k2txx1xm</a>"
            ],
            "text/plain": [
              "<IPython.core.display.HTML object>"
            ]
          },
          "metadata": {},
          "output_type": "display_data"
        },
        {
          "data": {
            "text/html": [
              " View run at <a href='https://wandb.ai/da24m021-indian-institute-of-technology-madras/da24m021_da6401_assignment2/runs/bkdy8d1w' target=\"_blank\">https://wandb.ai/da24m021-indian-institute-of-technology-madras/da24m021_da6401_assignment2/runs/bkdy8d1w</a>"
            ],
            "text/plain": [
              "<IPython.core.display.HTML object>"
            ]
          },
          "metadata": {},
          "output_type": "display_data"
        },
        {
          "name": "stderr",
          "output_type": "stream",
          "text": [
            "100%|██████████| 251/251 [01:51<00:00,  2.26it/s]\n",
            "100%|██████████| 63/63 [00:24<00:00,  2.56it/s]\n"
          ]
        },
        {
          "name": "stdout",
          "output_type": "stream",
          "text": [
            "Epoch 1/10, Train Loss: 2.175, Train Acc: 19.56%, Val Loss: 2.082, Val Acc: 24.08%\n"
          ]
        },
        {
          "name": "stderr",
          "output_type": "stream",
          "text": [
            "100%|██████████| 251/251 [01:44<00:00,  2.40it/s]\n",
            "100%|██████████| 63/63 [00:26<00:00,  2.39it/s]\n"
          ]
        },
        {
          "name": "stdout",
          "output_type": "stream",
          "text": [
            "Epoch 2/10, Train Loss: 2.050, Train Acc: 26.03%, Val Loss: 2.029, Val Acc: 26.62%\n"
          ]
        },
        {
          "name": "stderr",
          "output_type": "stream",
          "text": [
            "100%|██████████| 251/251 [01:44<00:00,  2.40it/s]\n",
            "100%|██████████| 63/63 [00:24<00:00,  2.60it/s]\n"
          ]
        },
        {
          "name": "stdout",
          "output_type": "stream",
          "text": [
            "Epoch 3/10, Train Loss: 1.982, Train Acc: 29.18%, Val Loss: 1.970, Val Acc: 30.97%\n"
          ]
        },
        {
          "name": "stderr",
          "output_type": "stream",
          "text": [
            "100%|██████████| 251/251 [01:47<00:00,  2.33it/s]\n",
            "100%|██████████| 63/63 [00:24<00:00,  2.62it/s]\n"
          ]
        },
        {
          "name": "stdout",
          "output_type": "stream",
          "text": [
            "Epoch 4/10, Train Loss: 1.927, Train Acc: 31.91%, Val Loss: 1.936, Val Acc: 31.62%\n"
          ]
        },
        {
          "name": "stderr",
          "output_type": "stream",
          "text": [
            "100%|██████████| 251/251 [01:44<00:00,  2.40it/s]\n",
            "100%|██████████| 63/63 [00:25<00:00,  2.46it/s]\n"
          ]
        },
        {
          "name": "stdout",
          "output_type": "stream",
          "text": [
            "Epoch 5/10, Train Loss: 1.885, Train Acc: 33.46%, Val Loss: 1.926, Val Acc: 32.12%\n"
          ]
        },
        {
          "name": "stderr",
          "output_type": "stream",
          "text": [
            "100%|██████████| 251/251 [01:43<00:00,  2.42it/s]\n",
            "100%|██████████| 63/63 [00:24<00:00,  2.53it/s]\n"
          ]
        },
        {
          "name": "stdout",
          "output_type": "stream",
          "text": [
            "Epoch 6/10, Train Loss: 1.844, Train Acc: 34.75%, Val Loss: 1.906, Val Acc: 32.87%\n"
          ]
        },
        {
          "name": "stderr",
          "output_type": "stream",
          "text": [
            "100%|██████████| 251/251 [01:47<00:00,  2.33it/s]\n",
            "100%|██████████| 63/63 [00:24<00:00,  2.62it/s]\n"
          ]
        },
        {
          "name": "stdout",
          "output_type": "stream",
          "text": [
            "Epoch 7/10, Train Loss: 1.800, Train Acc: 36.62%, Val Loss: 1.880, Val Acc: 34.17%\n"
          ]
        },
        {
          "name": "stderr",
          "output_type": "stream",
          "text": [
            "100%|██████████| 251/251 [01:46<00:00,  2.35it/s]\n",
            "100%|██████████| 63/63 [00:23<00:00,  2.66it/s]\n"
          ]
        },
        {
          "name": "stdout",
          "output_type": "stream",
          "text": [
            "Epoch 8/10, Train Loss: 1.757, Train Acc: 38.21%, Val Loss: 1.886, Val Acc: 33.37%\n"
          ]
        },
        {
          "name": "stderr",
          "output_type": "stream",
          "text": [
            "100%|██████████| 251/251 [01:45<00:00,  2.37it/s]\n",
            "100%|██████████| 63/63 [00:23<00:00,  2.65it/s]\n"
          ]
        },
        {
          "name": "stdout",
          "output_type": "stream",
          "text": [
            "Epoch 9/10, Train Loss: 1.715, Train Acc: 40.44%, Val Loss: 1.884, Val Acc: 34.02%\n"
          ]
        },
        {
          "name": "stderr",
          "output_type": "stream",
          "text": [
            "100%|██████████| 251/251 [01:44<00:00,  2.39it/s]\n",
            "100%|██████████| 63/63 [00:25<00:00,  2.52it/s]"
          ]
        },
        {
          "name": "stdout",
          "output_type": "stream",
          "text": [
            "Epoch 10/10, Train Loss: 1.647, Train Acc: 42.49%, Val Loss: 1.929, Val Acc: 35.16%\n"
          ]
        },
        {
          "name": "stderr",
          "output_type": "stream",
          "text": [
            "\n"
          ]
        },
        {
          "data": {
            "text/html": [],
            "text/plain": [
              "<IPython.core.display.HTML object>"
            ]
          },
          "metadata": {},
          "output_type": "display_data"
        },
        {
          "data": {
            "text/html": [
              "<br>    <style><br>        .wandb-row {<br>            display: flex;<br>            flex-direction: row;<br>            flex-wrap: wrap;<br>            justify-content: flex-start;<br>            width: 100%;<br>        }<br>        .wandb-col {<br>            display: flex;<br>            flex-direction: column;<br>            flex-basis: 100%;<br>            flex: 1;<br>            padding: 10px;<br>        }<br>    </style><br><div class=\"wandb-row\"><div class=\"wandb-col\"><h3>Run history:</h3><br/><table class=\"wandb\"><tr><td>epoch</td><td>▁▂▃▃▄▅▆▆▇█</td></tr><tr><td>train_accuracy</td><td>▁▃▄▅▅▆▆▇▇█</td></tr><tr><td>train_loss</td><td>█▆▅▅▄▄▃▂▂▁</td></tr><tr><td>val_accuracy</td><td>▁</td></tr><tr><td>validation_accuracy</td><td>▁▃▅▆▆▇▇▇▇█</td></tr><tr><td>validation_loss</td><td>█▆▄▃▃▂▁▁▁▃</td></tr></table><br/></div><div class=\"wandb-col\"><h3>Run summary:</h3><br/><table class=\"wandb\"><tr><td>epoch</td><td>9</td></tr><tr><td>train_accuracy</td><td>42.49313</td></tr><tr><td>train_loss</td><td>1.64702</td></tr><tr><td>val_accuracy</td><td>35.16484</td></tr><tr><td>validation_accuracy</td><td>35.16484</td></tr><tr><td>validation_loss</td><td>1.92854</td></tr></table><br/></div></div>"
            ],
            "text/plain": [
              "<IPython.core.display.HTML object>"
            ]
          },
          "metadata": {},
          "output_type": "display_data"
        },
        {
          "data": {
            "text/html": [
              " View run <strong style=\"color:#cdcd00\">activation_mish_filters_equal64_lr_0.0001_kernel_increasing_fc_size_2048</strong> at: <a href='https://wandb.ai/da24m021-indian-institute-of-technology-madras/da24m021_da6401_assignment2/runs/bkdy8d1w' target=\"_blank\">https://wandb.ai/da24m021-indian-institute-of-technology-madras/da24m021_da6401_assignment2/runs/bkdy8d1w</a><br> View project at: <a href='https://wandb.ai/da24m021-indian-institute-of-technology-madras/da24m021_da6401_assignment2' target=\"_blank\">https://wandb.ai/da24m021-indian-institute-of-technology-madras/da24m021_da6401_assignment2</a><br>Synced 5 W&B file(s), 0 media file(s), 0 artifact file(s) and 0 other file(s)"
            ],
            "text/plain": [
              "<IPython.core.display.HTML object>"
            ]
          },
          "metadata": {},
          "output_type": "display_data"
        },
        {
          "data": {
            "text/html": [
              "Find logs at: <code>./wandb/run-20250402_215229-bkdy8d1w/logs</code>"
            ],
            "text/plain": [
              "<IPython.core.display.HTML object>"
            ]
          },
          "metadata": {},
          "output_type": "display_data"
        },
        {
          "name": "stderr",
          "output_type": "stream",
          "text": [
            "\u001b[34m\u001b[1mwandb\u001b[0m: Agent Starting Run: bw5494y3 with config:\n",
            "\u001b[34m\u001b[1mwandb\u001b[0m: \tactivation: mish\n",
            "\u001b[34m\u001b[1mwandb\u001b[0m: \tbatch_norm: True\n",
            "\u001b[34m\u001b[1mwandb\u001b[0m: \tbatch_size: 32\n",
            "\u001b[34m\u001b[1mwandb\u001b[0m: \tdata_augment: False\n",
            "\u001b[34m\u001b[1mwandb\u001b[0m: \tdropout: 0\n",
            "\u001b[34m\u001b[1mwandb\u001b[0m: \tfc_layer_size: 1024\n",
            "\u001b[34m\u001b[1mwandb\u001b[0m: \tkernel_size: increasing\n",
            "\u001b[34m\u001b[1mwandb\u001b[0m: \tlearning_rate: 0.0001\n",
            "\u001b[34m\u001b[1mwandb\u001b[0m: \tnum_filters: equal32\n"
          ]
        },
        {
          "data": {
            "text/html": [
              "Tracking run with wandb version 0.19.8"
            ],
            "text/plain": [
              "<IPython.core.display.HTML object>"
            ]
          },
          "metadata": {},
          "output_type": "display_data"
        },
        {
          "data": {
            "text/html": [
              "Run data is saved locally in <code>/content/wandb/run-20250402_221426-bw5494y3</code>"
            ],
            "text/plain": [
              "<IPython.core.display.HTML object>"
            ]
          },
          "metadata": {},
          "output_type": "display_data"
        },
        {
          "data": {
            "text/html": [
              "Syncing run <strong><a href='https://wandb.ai/da24m021-indian-institute-of-technology-madras/da24m021_da6401_assignment2/runs/bw5494y3' target=\"_blank\">eternal-sweep-10</a></strong> to <a href='https://wandb.ai/da24m021-indian-institute-of-technology-madras/da24m021_da6401_assignment2' target=\"_blank\">Weights & Biases</a> (<a href='https://wandb.me/developer-guide' target=\"_blank\">docs</a>)<br>Sweep page: <a href='https://wandb.ai/da24m021-indian-institute-of-technology-madras/da24m021_da6401_assignment2/sweeps/k2txx1xm' target=\"_blank\">https://wandb.ai/da24m021-indian-institute-of-technology-madras/da24m021_da6401_assignment2/sweeps/k2txx1xm</a>"
            ],
            "text/plain": [
              "<IPython.core.display.HTML object>"
            ]
          },
          "metadata": {},
          "output_type": "display_data"
        },
        {
          "data": {
            "text/html": [
              " View project at <a href='https://wandb.ai/da24m021-indian-institute-of-technology-madras/da24m021_da6401_assignment2' target=\"_blank\">https://wandb.ai/da24m021-indian-institute-of-technology-madras/da24m021_da6401_assignment2</a>"
            ],
            "text/plain": [
              "<IPython.core.display.HTML object>"
            ]
          },
          "metadata": {},
          "output_type": "display_data"
        },
        {
          "data": {
            "text/html": [
              " View sweep at <a href='https://wandb.ai/da24m021-indian-institute-of-technology-madras/da24m021_da6401_assignment2/sweeps/k2txx1xm' target=\"_blank\">https://wandb.ai/da24m021-indian-institute-of-technology-madras/da24m021_da6401_assignment2/sweeps/k2txx1xm</a>"
            ],
            "text/plain": [
              "<IPython.core.display.HTML object>"
            ]
          },
          "metadata": {},
          "output_type": "display_data"
        },
        {
          "data": {
            "text/html": [
              " View run at <a href='https://wandb.ai/da24m021-indian-institute-of-technology-madras/da24m021_da6401_assignment2/runs/bw5494y3' target=\"_blank\">https://wandb.ai/da24m021-indian-institute-of-technology-madras/da24m021_da6401_assignment2/runs/bw5494y3</a>"
            ],
            "text/plain": [
              "<IPython.core.display.HTML object>"
            ]
          },
          "metadata": {},
          "output_type": "display_data"
        },
        {
          "name": "stderr",
          "output_type": "stream",
          "text": [
            "100%|██████████| 251/251 [01:48<00:00,  2.31it/s]\n",
            "100%|██████████| 63/63 [00:25<00:00,  2.48it/s]\n"
          ]
        },
        {
          "name": "stdout",
          "output_type": "stream",
          "text": [
            "Epoch 1/10, Train Loss: 2.071, Train Acc: 24.98%, Val Loss: 1.956, Val Acc: 30.87%\n"
          ]
        },
        {
          "name": "stderr",
          "output_type": "stream",
          "text": [
            "100%|██████████| 251/251 [01:42<00:00,  2.45it/s]\n",
            "100%|██████████| 63/63 [00:25<00:00,  2.46it/s]\n"
          ]
        },
        {
          "name": "stdout",
          "output_type": "stream",
          "text": [
            "Epoch 2/10, Train Loss: 1.880, Train Acc: 33.51%, Val Loss: 1.921, Val Acc: 32.12%\n"
          ]
        },
        {
          "name": "stderr",
          "output_type": "stream",
          "text": [
            "100%|██████████| 251/251 [01:44<00:00,  2.41it/s]\n",
            "100%|██████████| 63/63 [00:25<00:00,  2.48it/s]\n"
          ]
        },
        {
          "name": "stdout",
          "output_type": "stream",
          "text": [
            "Epoch 3/10, Train Loss: 1.782, Train Acc: 37.72%, Val Loss: 1.901, Val Acc: 34.37%\n"
          ]
        },
        {
          "name": "stderr",
          "output_type": "stream",
          "text": [
            "100%|██████████| 251/251 [01:43<00:00,  2.43it/s]\n",
            "100%|██████████| 63/63 [00:25<00:00,  2.50it/s]\n"
          ]
        },
        {
          "name": "stdout",
          "output_type": "stream",
          "text": [
            "Epoch 4/10, Train Loss: 1.697, Train Acc: 41.08%, Val Loss: 1.884, Val Acc: 34.27%\n"
          ]
        },
        {
          "name": "stderr",
          "output_type": "stream",
          "text": [
            "100%|██████████| 251/251 [01:42<00:00,  2.46it/s]\n",
            "100%|██████████| 63/63 [00:27<00:00,  2.31it/s]\n"
          ]
        },
        {
          "name": "stdout",
          "output_type": "stream",
          "text": [
            "Epoch 5/10, Train Loss: 1.598, Train Acc: 45.27%, Val Loss: 1.889, Val Acc: 33.27%\n"
          ]
        },
        {
          "name": "stderr",
          "output_type": "stream",
          "text": [
            "100%|██████████| 251/251 [01:42<00:00,  2.45it/s]\n",
            "100%|██████████| 63/63 [00:24<00:00,  2.54it/s]\n"
          ]
        },
        {
          "name": "stdout",
          "output_type": "stream",
          "text": [
            "Epoch 6/10, Train Loss: 1.511, Train Acc: 48.68%, Val Loss: 1.883, Val Acc: 34.17%\n"
          ]
        },
        {
          "name": "stderr",
          "output_type": "stream",
          "text": [
            "100%|██████████| 251/251 [01:43<00:00,  2.42it/s]\n",
            "100%|██████████| 63/63 [00:23<00:00,  2.65it/s]\n"
          ]
        },
        {
          "name": "stdout",
          "output_type": "stream",
          "text": [
            "Epoch 7/10, Train Loss: 1.400, Train Acc: 53.46%, Val Loss: 1.928, Val Acc: 35.11%\n"
          ]
        },
        {
          "name": "stderr",
          "output_type": "stream",
          "text": [
            "100%|██████████| 251/251 [01:44<00:00,  2.41it/s]\n",
            "100%|██████████| 63/63 [00:25<00:00,  2.52it/s]\n"
          ]
        },
        {
          "name": "stdout",
          "output_type": "stream",
          "text": [
            "Epoch 8/10, Train Loss: 1.296, Train Acc: 57.72%, Val Loss: 1.941, Val Acc: 34.42%\n"
          ]
        },
        {
          "name": "stderr",
          "output_type": "stream",
          "text": [
            "100%|██████████| 251/251 [01:41<00:00,  2.47it/s]\n",
            "100%|██████████| 63/63 [00:25<00:00,  2.51it/s]\n"
          ]
        },
        {
          "name": "stdout",
          "output_type": "stream",
          "text": [
            "Epoch 9/10, Train Loss: 1.180, Train Acc: 61.14%, Val Loss: 2.030, Val Acc: 32.42%\n"
          ]
        },
        {
          "name": "stderr",
          "output_type": "stream",
          "text": [
            "100%|██████████| 251/251 [01:44<00:00,  2.41it/s]\n",
            "100%|██████████| 63/63 [00:25<00:00,  2.47it/s]"
          ]
        },
        {
          "name": "stdout",
          "output_type": "stream",
          "text": [
            "Epoch 10/10, Train Loss: 1.071, Train Acc: 66.25%, Val Loss: 2.069, Val Acc: 31.87%\n"
          ]
        },
        {
          "name": "stderr",
          "output_type": "stream",
          "text": [
            "\n"
          ]
        },
        {
          "data": {
            "text/html": [],
            "text/plain": [
              "<IPython.core.display.HTML object>"
            ]
          },
          "metadata": {},
          "output_type": "display_data"
        },
        {
          "data": {
            "text/html": [
              "<br>    <style><br>        .wandb-row {<br>            display: flex;<br>            flex-direction: row;<br>            flex-wrap: wrap;<br>            justify-content: flex-start;<br>            width: 100%;<br>        }<br>        .wandb-col {<br>            display: flex;<br>            flex-direction: column;<br>            flex-basis: 100%;<br>            flex: 1;<br>            padding: 10px;<br>        }<br>    </style><br><div class=\"wandb-row\"><div class=\"wandb-col\"><h3>Run history:</h3><br/><table class=\"wandb\"><tr><td>epoch</td><td>▁▂▃▃▄▅▆▆▇█</td></tr><tr><td>train_accuracy</td><td>▁▂▃▄▄▅▆▇▇█</td></tr><tr><td>train_loss</td><td>█▇▆▅▅▄▃▃▂▁</td></tr><tr><td>val_accuracy</td><td>▁</td></tr><tr><td>validation_accuracy</td><td>▁▃▇▇▅▆█▇▄▃</td></tr><tr><td>validation_loss</td><td>▄▂▂▁▁▁▃▃▇█</td></tr></table><br/></div><div class=\"wandb-col\"><h3>Run summary:</h3><br/><table class=\"wandb\"><tr><td>epoch</td><td>9</td></tr><tr><td>train_accuracy</td><td>66.25031</td></tr><tr><td>train_loss</td><td>1.07097</td></tr><tr><td>val_accuracy</td><td>31.86813</td></tr><tr><td>validation_accuracy</td><td>31.86813</td></tr><tr><td>validation_loss</td><td>2.06859</td></tr></table><br/></div></div>"
            ],
            "text/plain": [
              "<IPython.core.display.HTML object>"
            ]
          },
          "metadata": {},
          "output_type": "display_data"
        },
        {
          "data": {
            "text/html": [
              " View run <strong style=\"color:#cdcd00\">activation_mish_filters_equal32_lr_0.0001_kernel_increasing_fc_size_1024</strong> at: <a href='https://wandb.ai/da24m021-indian-institute-of-technology-madras/da24m021_da6401_assignment2/runs/bw5494y3' target=\"_blank\">https://wandb.ai/da24m021-indian-institute-of-technology-madras/da24m021_da6401_assignment2/runs/bw5494y3</a><br> View project at: <a href='https://wandb.ai/da24m021-indian-institute-of-technology-madras/da24m021_da6401_assignment2' target=\"_blank\">https://wandb.ai/da24m021-indian-institute-of-technology-madras/da24m021_da6401_assignment2</a><br>Synced 5 W&B file(s), 0 media file(s), 0 artifact file(s) and 0 other file(s)"
            ],
            "text/plain": [
              "<IPython.core.display.HTML object>"
            ]
          },
          "metadata": {},
          "output_type": "display_data"
        },
        {
          "data": {
            "text/html": [
              "Find logs at: <code>./wandb/run-20250402_221426-bw5494y3/logs</code>"
            ],
            "text/plain": [
              "<IPython.core.display.HTML object>"
            ]
          },
          "metadata": {},
          "output_type": "display_data"
        },
        {
          "name": "stderr",
          "output_type": "stream",
          "text": [
            "\u001b[34m\u001b[1mwandb\u001b[0m: Agent Starting Run: ok79fpgb with config:\n",
            "\u001b[34m\u001b[1mwandb\u001b[0m: \tactivation: mish\n",
            "\u001b[34m\u001b[1mwandb\u001b[0m: \tbatch_norm: True\n",
            "\u001b[34m\u001b[1mwandb\u001b[0m: \tbatch_size: 16\n",
            "\u001b[34m\u001b[1mwandb\u001b[0m: \tdata_augment: False\n",
            "\u001b[34m\u001b[1mwandb\u001b[0m: \tdropout: 0\n",
            "\u001b[34m\u001b[1mwandb\u001b[0m: \tfc_layer_size: 2048\n",
            "\u001b[34m\u001b[1mwandb\u001b[0m: \tkernel_size: decreasing\n",
            "\u001b[34m\u001b[1mwandb\u001b[0m: \tlearning_rate: 0.0001\n",
            "\u001b[34m\u001b[1mwandb\u001b[0m: \tnum_filters: doubling32\n"
          ]
        },
        {
          "data": {
            "text/html": [
              "Tracking run with wandb version 0.19.8"
            ],
            "text/plain": [
              "<IPython.core.display.HTML object>"
            ]
          },
          "metadata": {},
          "output_type": "display_data"
        },
        {
          "data": {
            "text/html": [
              "Run data is saved locally in <code>/content/wandb/run-20250402_223606-ok79fpgb</code>"
            ],
            "text/plain": [
              "<IPython.core.display.HTML object>"
            ]
          },
          "metadata": {},
          "output_type": "display_data"
        },
        {
          "data": {
            "text/html": [
              "Syncing run <strong><a href='https://wandb.ai/da24m021-indian-institute-of-technology-madras/da24m021_da6401_assignment2/runs/ok79fpgb' target=\"_blank\">splendid-sweep-11</a></strong> to <a href='https://wandb.ai/da24m021-indian-institute-of-technology-madras/da24m021_da6401_assignment2' target=\"_blank\">Weights & Biases</a> (<a href='https://wandb.me/developer-guide' target=\"_blank\">docs</a>)<br>Sweep page: <a href='https://wandb.ai/da24m021-indian-institute-of-technology-madras/da24m021_da6401_assignment2/sweeps/k2txx1xm' target=\"_blank\">https://wandb.ai/da24m021-indian-institute-of-technology-madras/da24m021_da6401_assignment2/sweeps/k2txx1xm</a>"
            ],
            "text/plain": [
              "<IPython.core.display.HTML object>"
            ]
          },
          "metadata": {},
          "output_type": "display_data"
        },
        {
          "data": {
            "text/html": [
              " View project at <a href='https://wandb.ai/da24m021-indian-institute-of-technology-madras/da24m021_da6401_assignment2' target=\"_blank\">https://wandb.ai/da24m021-indian-institute-of-technology-madras/da24m021_da6401_assignment2</a>"
            ],
            "text/plain": [
              "<IPython.core.display.HTML object>"
            ]
          },
          "metadata": {},
          "output_type": "display_data"
        },
        {
          "data": {
            "text/html": [
              " View sweep at <a href='https://wandb.ai/da24m021-indian-institute-of-technology-madras/da24m021_da6401_assignment2/sweeps/k2txx1xm' target=\"_blank\">https://wandb.ai/da24m021-indian-institute-of-technology-madras/da24m021_da6401_assignment2/sweeps/k2txx1xm</a>"
            ],
            "text/plain": [
              "<IPython.core.display.HTML object>"
            ]
          },
          "metadata": {},
          "output_type": "display_data"
        },
        {
          "data": {
            "text/html": [
              " View run at <a href='https://wandb.ai/da24m021-indian-institute-of-technology-madras/da24m021_da6401_assignment2/runs/ok79fpgb' target=\"_blank\">https://wandb.ai/da24m021-indian-institute-of-technology-madras/da24m021_da6401_assignment2/runs/ok79fpgb</a>"
            ],
            "text/plain": [
              "<IPython.core.display.HTML object>"
            ]
          },
          "metadata": {},
          "output_type": "display_data"
        },
        {
          "name": "stderr",
          "output_type": "stream",
          "text": [
            "100%|██████████| 501/501 [01:54<00:00,  4.39it/s]\n",
            "100%|██████████| 126/126 [00:25<00:00,  4.96it/s]\n"
          ]
        },
        {
          "name": "stdout",
          "output_type": "stream",
          "text": [
            "Epoch 1/10, Train Loss: 2.088, Train Acc: 27.05%, Val Loss: 1.965, Val Acc: 31.22%\n"
          ]
        },
        {
          "name": "stderr",
          "output_type": "stream",
          "text": [
            "100%|██████████| 501/501 [01:47<00:00,  4.65it/s]\n",
            "100%|██████████| 126/126 [00:27<00:00,  4.64it/s]\n"
          ]
        },
        {
          "name": "stdout",
          "output_type": "stream",
          "text": [
            "Epoch 2/10, Train Loss: 1.845, Train Acc: 35.54%, Val Loss: 1.901, Val Acc: 33.77%\n"
          ]
        },
        {
          "name": "stderr",
          "output_type": "stream",
          "text": [
            "100%|██████████| 501/501 [01:47<00:00,  4.67it/s]\n",
            "100%|██████████| 126/126 [00:26<00:00,  4.81it/s]\n"
          ]
        },
        {
          "name": "stdout",
          "output_type": "stream",
          "text": [
            "Epoch 3/10, Train Loss: 1.634, Train Acc: 43.43%, Val Loss: 2.038, Val Acc: 31.47%\n"
          ]
        },
        {
          "name": "stderr",
          "output_type": "stream",
          "text": [
            "100%|██████████| 501/501 [01:48<00:00,  4.62it/s]\n",
            "100%|██████████| 126/126 [00:25<00:00,  4.88it/s]\n"
          ]
        },
        {
          "name": "stdout",
          "output_type": "stream",
          "text": [
            "Epoch 4/10, Train Loss: 1.315, Train Acc: 54.47%, Val Loss: 2.038, Val Acc: 35.06%\n"
          ]
        },
        {
          "name": "stderr",
          "output_type": "stream",
          "text": [
            "100%|██████████| 501/501 [01:48<00:00,  4.60it/s]\n",
            "100%|██████████| 126/126 [00:25<00:00,  5.03it/s]\n"
          ]
        },
        {
          "name": "stdout",
          "output_type": "stream",
          "text": [
            "Epoch 5/10, Train Loss: 0.798, Train Acc: 73.87%, Val Loss: 2.296, Val Acc: 34.07%\n"
          ]
        },
        {
          "name": "stderr",
          "output_type": "stream",
          "text": [
            "100%|██████████| 501/501 [01:47<00:00,  4.66it/s]\n",
            "100%|██████████| 126/126 [00:27<00:00,  4.65it/s]\n"
          ]
        },
        {
          "name": "stdout",
          "output_type": "stream",
          "text": [
            "Epoch 6/10, Train Loss: 0.432, Train Acc: 86.32%, Val Loss: 2.567, Val Acc: 32.62%\n"
          ]
        },
        {
          "name": "stderr",
          "output_type": "stream",
          "text": [
            "100%|██████████| 501/501 [01:46<00:00,  4.70it/s]\n",
            "100%|██████████| 126/126 [00:26<00:00,  4.81it/s]\n"
          ]
        },
        {
          "name": "stdout",
          "output_type": "stream",
          "text": [
            "Epoch 7/10, Train Loss: 0.256, Train Acc: 92.34%, Val Loss: 2.942, Val Acc: 30.37%\n"
          ]
        },
        {
          "name": "stderr",
          "output_type": "stream",
          "text": [
            "100%|██████████| 501/501 [01:48<00:00,  4.63it/s]\n",
            "100%|██████████| 126/126 [00:25<00:00,  4.85it/s]\n"
          ]
        },
        {
          "name": "stdout",
          "output_type": "stream",
          "text": [
            "Epoch 8/10, Train Loss: 0.176, Train Acc: 94.69%, Val Loss: 3.024, Val Acc: 32.17%\n"
          ]
        },
        {
          "name": "stderr",
          "output_type": "stream",
          "text": [
            "100%|██████████| 501/501 [01:47<00:00,  4.66it/s]\n",
            "100%|██████████| 126/126 [00:26<00:00,  4.82it/s]\n"
          ]
        },
        {
          "name": "stdout",
          "output_type": "stream",
          "text": [
            "Epoch 9/10, Train Loss: 0.133, Train Acc: 96.44%, Val Loss: 3.056, Val Acc: 32.37%\n"
          ]
        },
        {
          "name": "stderr",
          "output_type": "stream",
          "text": [
            "100%|██████████| 501/501 [01:47<00:00,  4.68it/s]\n",
            "100%|██████████| 126/126 [00:27<00:00,  4.62it/s]"
          ]
        },
        {
          "name": "stdout",
          "output_type": "stream",
          "text": [
            "Epoch 10/10, Train Loss: 0.144, Train Acc: 95.89%, Val Loss: 3.353, Val Acc: 29.47%\n"
          ]
        },
        {
          "name": "stderr",
          "output_type": "stream",
          "text": [
            "\n"
          ]
        },
        {
          "data": {
            "text/html": [],
            "text/plain": [
              "<IPython.core.display.HTML object>"
            ]
          },
          "metadata": {},
          "output_type": "display_data"
        },
        {
          "data": {
            "text/html": [
              "<br>    <style><br>        .wandb-row {<br>            display: flex;<br>            flex-direction: row;<br>            flex-wrap: wrap;<br>            justify-content: flex-start;<br>            width: 100%;<br>        }<br>        .wandb-col {<br>            display: flex;<br>            flex-direction: column;<br>            flex-basis: 100%;<br>            flex: 1;<br>            padding: 10px;<br>        }<br>    </style><br><div class=\"wandb-row\"><div class=\"wandb-col\"><h3>Run history:</h3><br/><table class=\"wandb\"><tr><td>epoch</td><td>▁▂▃▃▄▅▆▆▇█</td></tr><tr><td>train_accuracy</td><td>▁▂▃▄▆▇████</td></tr><tr><td>train_loss</td><td>█▇▆▅▃▂▁▁▁▁</td></tr><tr><td>val_accuracy</td><td>▁</td></tr><tr><td>validation_accuracy</td><td>▃▆▃█▇▅▂▄▅▁</td></tr><tr><td>validation_loss</td><td>▁▁▂▂▃▄▆▆▇█</td></tr></table><br/></div><div class=\"wandb-col\"><h3>Run summary:</h3><br/><table class=\"wandb\"><tr><td>epoch</td><td>9</td></tr><tr><td>train_accuracy</td><td>95.89058</td></tr><tr><td>train_loss</td><td>0.14419</td></tr><tr><td>val_accuracy</td><td>29.47053</td></tr><tr><td>validation_accuracy</td><td>29.47053</td></tr><tr><td>validation_loss</td><td>3.35302</td></tr></table><br/></div></div>"
            ],
            "text/plain": [
              "<IPython.core.display.HTML object>"
            ]
          },
          "metadata": {},
          "output_type": "display_data"
        },
        {
          "data": {
            "text/html": [
              " View run <strong style=\"color:#cdcd00\">activation_mish_filters_doubling32_lr_0.0001_kernel_decreasing_fc_size_2048</strong> at: <a href='https://wandb.ai/da24m021-indian-institute-of-technology-madras/da24m021_da6401_assignment2/runs/ok79fpgb' target=\"_blank\">https://wandb.ai/da24m021-indian-institute-of-technology-madras/da24m021_da6401_assignment2/runs/ok79fpgb</a><br> View project at: <a href='https://wandb.ai/da24m021-indian-institute-of-technology-madras/da24m021_da6401_assignment2' target=\"_blank\">https://wandb.ai/da24m021-indian-institute-of-technology-madras/da24m021_da6401_assignment2</a><br>Synced 5 W&B file(s), 0 media file(s), 0 artifact file(s) and 0 other file(s)"
            ],
            "text/plain": [
              "<IPython.core.display.HTML object>"
            ]
          },
          "metadata": {},
          "output_type": "display_data"
        },
        {
          "data": {
            "text/html": [
              "Find logs at: <code>./wandb/run-20250402_223606-ok79fpgb/logs</code>"
            ],
            "text/plain": [
              "<IPython.core.display.HTML object>"
            ]
          },
          "metadata": {},
          "output_type": "display_data"
        },
        {
          "name": "stderr",
          "output_type": "stream",
          "text": [
            "\u001b[34m\u001b[1mwandb\u001b[0m: Agent Starting Run: e0p549g0 with config:\n",
            "\u001b[34m\u001b[1mwandb\u001b[0m: \tactivation: mish\n",
            "\u001b[34m\u001b[1mwandb\u001b[0m: \tbatch_norm: False\n",
            "\u001b[34m\u001b[1mwandb\u001b[0m: \tbatch_size: 32\n",
            "\u001b[34m\u001b[1mwandb\u001b[0m: \tdata_augment: False\n",
            "\u001b[34m\u001b[1mwandb\u001b[0m: \tdropout: 0\n",
            "\u001b[34m\u001b[1mwandb\u001b[0m: \tfc_layer_size: 2048\n",
            "\u001b[34m\u001b[1mwandb\u001b[0m: \tkernel_size: decreasing\n",
            "\u001b[34m\u001b[1mwandb\u001b[0m: \tlearning_rate: 0.0001\n",
            "\u001b[34m\u001b[1mwandb\u001b[0m: \tnum_filters: equal64\n"
          ]
        },
        {
          "data": {
            "text/html": [
              "Tracking run with wandb version 0.19.8"
            ],
            "text/plain": [
              "<IPython.core.display.HTML object>"
            ]
          },
          "metadata": {},
          "output_type": "display_data"
        },
        {
          "data": {
            "text/html": [
              "Run data is saved locally in <code>/content/wandb/run-20250402_225843-e0p549g0</code>"
            ],
            "text/plain": [
              "<IPython.core.display.HTML object>"
            ]
          },
          "metadata": {},
          "output_type": "display_data"
        },
        {
          "data": {
            "text/html": [
              "Syncing run <strong><a href='https://wandb.ai/da24m021-indian-institute-of-technology-madras/da24m021_da6401_assignment2/runs/e0p549g0' target=\"_blank\">royal-sweep-12</a></strong> to <a href='https://wandb.ai/da24m021-indian-institute-of-technology-madras/da24m021_da6401_assignment2' target=\"_blank\">Weights & Biases</a> (<a href='https://wandb.me/developer-guide' target=\"_blank\">docs</a>)<br>Sweep page: <a href='https://wandb.ai/da24m021-indian-institute-of-technology-madras/da24m021_da6401_assignment2/sweeps/k2txx1xm' target=\"_blank\">https://wandb.ai/da24m021-indian-institute-of-technology-madras/da24m021_da6401_assignment2/sweeps/k2txx1xm</a>"
            ],
            "text/plain": [
              "<IPython.core.display.HTML object>"
            ]
          },
          "metadata": {},
          "output_type": "display_data"
        },
        {
          "data": {
            "text/html": [
              " View project at <a href='https://wandb.ai/da24m021-indian-institute-of-technology-madras/da24m021_da6401_assignment2' target=\"_blank\">https://wandb.ai/da24m021-indian-institute-of-technology-madras/da24m021_da6401_assignment2</a>"
            ],
            "text/plain": [
              "<IPython.core.display.HTML object>"
            ]
          },
          "metadata": {},
          "output_type": "display_data"
        },
        {
          "data": {
            "text/html": [
              " View sweep at <a href='https://wandb.ai/da24m021-indian-institute-of-technology-madras/da24m021_da6401_assignment2/sweeps/k2txx1xm' target=\"_blank\">https://wandb.ai/da24m021-indian-institute-of-technology-madras/da24m021_da6401_assignment2/sweeps/k2txx1xm</a>"
            ],
            "text/plain": [
              "<IPython.core.display.HTML object>"
            ]
          },
          "metadata": {},
          "output_type": "display_data"
        },
        {
          "data": {
            "text/html": [
              " View run at <a href='https://wandb.ai/da24m021-indian-institute-of-technology-madras/da24m021_da6401_assignment2/runs/e0p549g0' target=\"_blank\">https://wandb.ai/da24m021-indian-institute-of-technology-madras/da24m021_da6401_assignment2/runs/e0p549g0</a>"
            ],
            "text/plain": [
              "<IPython.core.display.HTML object>"
            ]
          },
          "metadata": {},
          "output_type": "display_data"
        },
        {
          "name": "stderr",
          "output_type": "stream",
          "text": [
            "100%|██████████| 251/251 [01:50<00:00,  2.26it/s]\n",
            "100%|██████████| 63/63 [00:25<00:00,  2.45it/s]\n"
          ]
        },
        {
          "name": "stdout",
          "output_type": "stream",
          "text": [
            "Epoch 1/10, Train Loss: 2.159, Train Acc: 20.63%, Val Loss: 2.052, Val Acc: 25.67%\n"
          ]
        },
        {
          "name": "stderr",
          "output_type": "stream",
          "text": [
            "100%|██████████| 251/251 [01:45<00:00,  2.37it/s]\n",
            "100%|██████████| 63/63 [00:25<00:00,  2.46it/s]\n"
          ]
        },
        {
          "name": "stdout",
          "output_type": "stream",
          "text": [
            "Epoch 2/10, Train Loss: 2.003, Train Acc: 28.44%, Val Loss: 1.961, Val Acc: 29.77%\n"
          ]
        },
        {
          "name": "stderr",
          "output_type": "stream",
          "text": [
            "100%|██████████| 251/251 [01:46<00:00,  2.36it/s]\n",
            "100%|██████████| 63/63 [00:25<00:00,  2.45it/s]\n"
          ]
        },
        {
          "name": "stdout",
          "output_type": "stream",
          "text": [
            "Epoch 3/10, Train Loss: 1.917, Train Acc: 32.24%, Val Loss: 1.930, Val Acc: 31.12%\n"
          ]
        },
        {
          "name": "stderr",
          "output_type": "stream",
          "text": [
            "100%|██████████| 251/251 [01:46<00:00,  2.35it/s]\n",
            "100%|██████████| 63/63 [00:25<00:00,  2.43it/s]\n"
          ]
        },
        {
          "name": "stdout",
          "output_type": "stream",
          "text": [
            "Epoch 4/10, Train Loss: 1.851, Train Acc: 33.97%, Val Loss: 1.891, Val Acc: 34.37%\n"
          ]
        },
        {
          "name": "stderr",
          "output_type": "stream",
          "text": [
            "100%|██████████| 251/251 [01:47<00:00,  2.33it/s]\n",
            "100%|██████████| 63/63 [00:26<00:00,  2.41it/s]\n"
          ]
        },
        {
          "name": "stdout",
          "output_type": "stream",
          "text": [
            "Epoch 5/10, Train Loss: 1.805, Train Acc: 36.27%, Val Loss: 1.881, Val Acc: 34.22%\n"
          ]
        },
        {
          "name": "stderr",
          "output_type": "stream",
          "text": [
            "100%|██████████| 251/251 [01:47<00:00,  2.33it/s]\n",
            "100%|██████████| 63/63 [00:25<00:00,  2.44it/s]\n"
          ]
        },
        {
          "name": "stdout",
          "output_type": "stream",
          "text": [
            "Epoch 6/10, Train Loss: 1.756, Train Acc: 38.50%, Val Loss: 1.836, Val Acc: 36.11%\n"
          ]
        },
        {
          "name": "stderr",
          "output_type": "stream",
          "text": [
            "100%|██████████| 251/251 [01:47<00:00,  2.34it/s]\n",
            "100%|██████████| 63/63 [00:25<00:00,  2.46it/s]\n"
          ]
        },
        {
          "name": "stdout",
          "output_type": "stream",
          "text": [
            "Epoch 7/10, Train Loss: 1.707, Train Acc: 39.86%, Val Loss: 1.836, Val Acc: 36.31%\n"
          ]
        },
        {
          "name": "stderr",
          "output_type": "stream",
          "text": [
            "100%|██████████| 251/251 [01:46<00:00,  2.36it/s]\n",
            "100%|██████████| 63/63 [00:25<00:00,  2.45it/s]\n"
          ]
        },
        {
          "name": "stdout",
          "output_type": "stream",
          "text": [
            "Epoch 8/10, Train Loss: 1.643, Train Acc: 41.87%, Val Loss: 1.862, Val Acc: 35.71%\n"
          ]
        },
        {
          "name": "stderr",
          "output_type": "stream",
          "text": [
            "100%|██████████| 251/251 [01:44<00:00,  2.40it/s]\n",
            "100%|██████████| 63/63 [00:25<00:00,  2.47it/s]\n"
          ]
        },
        {
          "name": "stdout",
          "output_type": "stream",
          "text": [
            "Epoch 9/10, Train Loss: 1.585, Train Acc: 44.29%, Val Loss: 1.831, Val Acc: 36.66%\n"
          ]
        },
        {
          "name": "stderr",
          "output_type": "stream",
          "text": [
            "100%|██████████| 251/251 [01:46<00:00,  2.36it/s]\n",
            "100%|██████████| 63/63 [00:25<00:00,  2.45it/s]"
          ]
        },
        {
          "name": "stdout",
          "output_type": "stream",
          "text": [
            "Epoch 10/10, Train Loss: 1.500, Train Acc: 47.16%, Val Loss: 1.847, Val Acc: 36.11%\n"
          ]
        },
        {
          "name": "stderr",
          "output_type": "stream",
          "text": [
            "\n"
          ]
        },
        {
          "data": {
            "text/html": [],
            "text/plain": [
              "<IPython.core.display.HTML object>"
            ]
          },
          "metadata": {},
          "output_type": "display_data"
        },
        {
          "data": {
            "text/html": [
              "<br>    <style><br>        .wandb-row {<br>            display: flex;<br>            flex-direction: row;<br>            flex-wrap: wrap;<br>            justify-content: flex-start;<br>            width: 100%;<br>        }<br>        .wandb-col {<br>            display: flex;<br>            flex-direction: column;<br>            flex-basis: 100%;<br>            flex: 1;<br>            padding: 10px;<br>        }<br>    </style><br><div class=\"wandb-row\"><div class=\"wandb-col\"><h3>Run history:</h3><br/><table class=\"wandb\"><tr><td>epoch</td><td>▁▂▃▃▄▅▆▆▇█</td></tr><tr><td>train_accuracy</td><td>▁▃▄▅▅▆▆▇▇█</td></tr><tr><td>train_loss</td><td>█▆▅▅▄▄▃▃▂▁</td></tr><tr><td>val_accuracy</td><td>▁</td></tr><tr><td>validation_accuracy</td><td>▁▄▄▇▆██▇██</td></tr><tr><td>validation_loss</td><td>█▅▄▃▃▁▁▂▁▁</td></tr></table><br/></div><div class=\"wandb-col\"><h3>Run summary:</h3><br/><table class=\"wandb\"><tr><td>epoch</td><td>9</td></tr><tr><td>train_accuracy</td><td>47.16463</td></tr><tr><td>train_loss</td><td>1.50012</td></tr><tr><td>val_accuracy</td><td>36.11389</td></tr><tr><td>validation_accuracy</td><td>36.11389</td></tr><tr><td>validation_loss</td><td>1.84692</td></tr></table><br/></div></div>"
            ],
            "text/plain": [
              "<IPython.core.display.HTML object>"
            ]
          },
          "metadata": {},
          "output_type": "display_data"
        },
        {
          "data": {
            "text/html": [
              " View run <strong style=\"color:#cdcd00\">activation_mish_filters_equal64_lr_0.0001_kernel_decreasing_fc_size_2048</strong> at: <a href='https://wandb.ai/da24m021-indian-institute-of-technology-madras/da24m021_da6401_assignment2/runs/e0p549g0' target=\"_blank\">https://wandb.ai/da24m021-indian-institute-of-technology-madras/da24m021_da6401_assignment2/runs/e0p549g0</a><br> View project at: <a href='https://wandb.ai/da24m021-indian-institute-of-technology-madras/da24m021_da6401_assignment2' target=\"_blank\">https://wandb.ai/da24m021-indian-institute-of-technology-madras/da24m021_da6401_assignment2</a><br>Synced 5 W&B file(s), 0 media file(s), 0 artifact file(s) and 0 other file(s)"
            ],
            "text/plain": [
              "<IPython.core.display.HTML object>"
            ]
          },
          "metadata": {},
          "output_type": "display_data"
        },
        {
          "data": {
            "text/html": [
              "Find logs at: <code>./wandb/run-20250402_225843-e0p549g0/logs</code>"
            ],
            "text/plain": [
              "<IPython.core.display.HTML object>"
            ]
          },
          "metadata": {},
          "output_type": "display_data"
        },
        {
          "name": "stderr",
          "output_type": "stream",
          "text": [
            "\u001b[34m\u001b[1mwandb\u001b[0m: Agent Starting Run: u4qycdjq with config:\n",
            "\u001b[34m\u001b[1mwandb\u001b[0m: \tactivation: mish\n",
            "\u001b[34m\u001b[1mwandb\u001b[0m: \tbatch_norm: False\n",
            "\u001b[34m\u001b[1mwandb\u001b[0m: \tbatch_size: 32\n",
            "\u001b[34m\u001b[1mwandb\u001b[0m: \tdata_augment: True\n",
            "\u001b[34m\u001b[1mwandb\u001b[0m: \tdropout: 0\n",
            "\u001b[34m\u001b[1mwandb\u001b[0m: \tfc_layer_size: 2048\n",
            "\u001b[34m\u001b[1mwandb\u001b[0m: \tkernel_size: constant7\n",
            "\u001b[34m\u001b[1mwandb\u001b[0m: \tlearning_rate: 0.0001\n",
            "\u001b[34m\u001b[1mwandb\u001b[0m: \tnum_filters: equal64\n"
          ]
        },
        {
          "data": {
            "text/html": [
              "Tracking run with wandb version 0.19.8"
            ],
            "text/plain": [
              "<IPython.core.display.HTML object>"
            ]
          },
          "metadata": {},
          "output_type": "display_data"
        },
        {
          "data": {
            "text/html": [
              "Run data is saved locally in <code>/content/wandb/run-20250402_232058-u4qycdjq</code>"
            ],
            "text/plain": [
              "<IPython.core.display.HTML object>"
            ]
          },
          "metadata": {},
          "output_type": "display_data"
        },
        {
          "data": {
            "text/html": [
              "Syncing run <strong><a href='https://wandb.ai/da24m021-indian-institute-of-technology-madras/da24m021_da6401_assignment2/runs/u4qycdjq' target=\"_blank\">zesty-sweep-13</a></strong> to <a href='https://wandb.ai/da24m021-indian-institute-of-technology-madras/da24m021_da6401_assignment2' target=\"_blank\">Weights & Biases</a> (<a href='https://wandb.me/developer-guide' target=\"_blank\">docs</a>)<br>Sweep page: <a href='https://wandb.ai/da24m021-indian-institute-of-technology-madras/da24m021_da6401_assignment2/sweeps/k2txx1xm' target=\"_blank\">https://wandb.ai/da24m021-indian-institute-of-technology-madras/da24m021_da6401_assignment2/sweeps/k2txx1xm</a>"
            ],
            "text/plain": [
              "<IPython.core.display.HTML object>"
            ]
          },
          "metadata": {},
          "output_type": "display_data"
        },
        {
          "data": {
            "text/html": [
              " View project at <a href='https://wandb.ai/da24m021-indian-institute-of-technology-madras/da24m021_da6401_assignment2' target=\"_blank\">https://wandb.ai/da24m021-indian-institute-of-technology-madras/da24m021_da6401_assignment2</a>"
            ],
            "text/plain": [
              "<IPython.core.display.HTML object>"
            ]
          },
          "metadata": {},
          "output_type": "display_data"
        },
        {
          "data": {
            "text/html": [
              " View sweep at <a href='https://wandb.ai/da24m021-indian-institute-of-technology-madras/da24m021_da6401_assignment2/sweeps/k2txx1xm' target=\"_blank\">https://wandb.ai/da24m021-indian-institute-of-technology-madras/da24m021_da6401_assignment2/sweeps/k2txx1xm</a>"
            ],
            "text/plain": [
              "<IPython.core.display.HTML object>"
            ]
          },
          "metadata": {},
          "output_type": "display_data"
        },
        {
          "data": {
            "text/html": [
              " View run at <a href='https://wandb.ai/da24m021-indian-institute-of-technology-madras/da24m021_da6401_assignment2/runs/u4qycdjq' target=\"_blank\">https://wandb.ai/da24m021-indian-institute-of-technology-madras/da24m021_da6401_assignment2/runs/u4qycdjq</a>"
            ],
            "text/plain": [
              "<IPython.core.display.HTML object>"
            ]
          },
          "metadata": {},
          "output_type": "display_data"
        },
        {
          "name": "stderr",
          "output_type": "stream",
          "text": [
            "100%|██████████| 251/251 [02:20<00:00,  1.79it/s]\n",
            "100%|██████████| 63/63 [00:32<00:00,  1.96it/s]\n"
          ]
        },
        {
          "name": "stdout",
          "output_type": "stream",
          "text": [
            "Epoch 1/10, Train Loss: 2.161, Train Acc: 20.48%, Val Loss: 2.092, Val Acc: 22.43%\n"
          ]
        },
        {
          "name": "stderr",
          "output_type": "stream",
          "text": [
            "100%|██████████| 251/251 [02:16<00:00,  1.84it/s]\n",
            "100%|██████████| 63/63 [00:31<00:00,  2.03it/s]\n"
          ]
        },
        {
          "name": "stdout",
          "output_type": "stream",
          "text": [
            "Epoch 2/10, Train Loss: 2.047, Train Acc: 25.52%, Val Loss: 2.030, Val Acc: 27.47%\n"
          ]
        },
        {
          "name": "stderr",
          "output_type": "stream",
          "text": [
            "100%|██████████| 251/251 [02:15<00:00,  1.86it/s]\n",
            "100%|██████████| 63/63 [00:31<00:00,  1.99it/s]\n"
          ]
        },
        {
          "name": "stdout",
          "output_type": "stream",
          "text": [
            "Epoch 3/10, Train Loss: 1.980, Train Acc: 29.24%, Val Loss: 1.957, Val Acc: 30.72%\n"
          ]
        },
        {
          "name": "stderr",
          "output_type": "stream",
          "text": [
            "100%|██████████| 251/251 [02:16<00:00,  1.84it/s]\n",
            "100%|██████████| 63/63 [00:31<00:00,  2.01it/s]\n"
          ]
        },
        {
          "name": "stdout",
          "output_type": "stream",
          "text": [
            "Epoch 4/10, Train Loss: 1.915, Train Acc: 31.96%, Val Loss: 1.947, Val Acc: 29.82%\n"
          ]
        },
        {
          "name": "stderr",
          "output_type": "stream",
          "text": [
            "100%|██████████| 251/251 [02:17<00:00,  1.83it/s]\n",
            "100%|██████████| 63/63 [00:33<00:00,  1.91it/s]\n"
          ]
        },
        {
          "name": "stdout",
          "output_type": "stream",
          "text": [
            "Epoch 5/10, Train Loss: 1.865, Train Acc: 33.52%, Val Loss: 1.924, Val Acc: 32.27%\n"
          ]
        },
        {
          "name": "stderr",
          "output_type": "stream",
          "text": [
            "100%|██████████| 251/251 [02:15<00:00,  1.85it/s]\n",
            "100%|██████████| 63/63 [00:31<00:00,  2.01it/s]\n"
          ]
        },
        {
          "name": "stdout",
          "output_type": "stream",
          "text": [
            "Epoch 6/10, Train Loss: 1.807, Train Acc: 36.00%, Val Loss: 1.895, Val Acc: 33.62%\n"
          ]
        },
        {
          "name": "stderr",
          "output_type": "stream",
          "text": [
            "100%|██████████| 251/251 [02:15<00:00,  1.85it/s]\n",
            "100%|██████████| 63/63 [00:31<00:00,  2.00it/s]\n"
          ]
        },
        {
          "name": "stdout",
          "output_type": "stream",
          "text": [
            "Epoch 7/10, Train Loss: 1.761, Train Acc: 38.12%, Val Loss: 1.878, Val Acc: 34.52%\n"
          ]
        },
        {
          "name": "stderr",
          "output_type": "stream",
          "text": [
            "100%|██████████| 251/251 [02:14<00:00,  1.86it/s]\n",
            "100%|██████████| 63/63 [00:31<00:00,  1.98it/s]\n"
          ]
        },
        {
          "name": "stdout",
          "output_type": "stream",
          "text": [
            "Epoch 8/10, Train Loss: 1.707, Train Acc: 40.77%, Val Loss: 1.906, Val Acc: 32.87%\n"
          ]
        },
        {
          "name": "stderr",
          "output_type": "stream",
          "text": [
            "100%|██████████| 251/251 [02:15<00:00,  1.85it/s]\n",
            "100%|██████████| 63/63 [00:32<00:00,  1.96it/s]\n"
          ]
        },
        {
          "name": "stdout",
          "output_type": "stream",
          "text": [
            "Epoch 9/10, Train Loss: 1.641, Train Acc: 43.24%, Val Loss: 1.955, Val Acc: 33.12%\n"
          ]
        },
        {
          "name": "stderr",
          "output_type": "stream",
          "text": [
            "100%|██████████| 251/251 [02:16<00:00,  1.84it/s]\n",
            "100%|██████████| 63/63 [00:32<00:00,  1.93it/s]"
          ]
        },
        {
          "name": "stdout",
          "output_type": "stream",
          "text": [
            "Epoch 10/10, Train Loss: 1.609, Train Acc: 43.88%, Val Loss: 1.895, Val Acc: 33.77%\n"
          ]
        },
        {
          "name": "stderr",
          "output_type": "stream",
          "text": [
            "\n"
          ]
        },
        {
          "data": {
            "text/html": [],
            "text/plain": [
              "<IPython.core.display.HTML object>"
            ]
          },
          "metadata": {},
          "output_type": "display_data"
        },
        {
          "data": {
            "text/html": [
              "<br>    <style><br>        .wandb-row {<br>            display: flex;<br>            flex-direction: row;<br>            flex-wrap: wrap;<br>            justify-content: flex-start;<br>            width: 100%;<br>        }<br>        .wandb-col {<br>            display: flex;<br>            flex-direction: column;<br>            flex-basis: 100%;<br>            flex: 1;<br>            padding: 10px;<br>        }<br>    </style><br><div class=\"wandb-row\"><div class=\"wandb-col\"><h3>Run history:</h3><br/><table class=\"wandb\"><tr><td>epoch</td><td>▁▂▃▃▄▅▆▆▇█</td></tr><tr><td>train_accuracy</td><td>▁▃▄▄▅▆▆▇██</td></tr><tr><td>train_loss</td><td>█▇▆▅▄▄▃▂▁▁</td></tr><tr><td>val_accuracy</td><td>▁</td></tr><tr><td>validation_accuracy</td><td>▁▄▆▅▇▇█▇▇█</td></tr><tr><td>validation_loss</td><td>█▆▄▃▃▂▁▂▄▂</td></tr></table><br/></div><div class=\"wandb-col\"><h3>Run summary:</h3><br/><table class=\"wandb\"><tr><td>epoch</td><td>9</td></tr><tr><td>train_accuracy</td><td>43.87959</td></tr><tr><td>train_loss</td><td>1.60939</td></tr><tr><td>val_accuracy</td><td>33.76623</td></tr><tr><td>validation_accuracy</td><td>33.76623</td></tr><tr><td>validation_loss</td><td>1.89494</td></tr></table><br/></div></div>"
            ],
            "text/plain": [
              "<IPython.core.display.HTML object>"
            ]
          },
          "metadata": {},
          "output_type": "display_data"
        },
        {
          "data": {
            "text/html": [
              " View run <strong style=\"color:#cdcd00\">activation_mish_filters_equal64_lr_0.0001_kernel_constant7_fc_size_2048</strong> at: <a href='https://wandb.ai/da24m021-indian-institute-of-technology-madras/da24m021_da6401_assignment2/runs/u4qycdjq' target=\"_blank\">https://wandb.ai/da24m021-indian-institute-of-technology-madras/da24m021_da6401_assignment2/runs/u4qycdjq</a><br> View project at: <a href='https://wandb.ai/da24m021-indian-institute-of-technology-madras/da24m021_da6401_assignment2' target=\"_blank\">https://wandb.ai/da24m021-indian-institute-of-technology-madras/da24m021_da6401_assignment2</a><br>Synced 5 W&B file(s), 0 media file(s), 0 artifact file(s) and 0 other file(s)"
            ],
            "text/plain": [
              "<IPython.core.display.HTML object>"
            ]
          },
          "metadata": {},
          "output_type": "display_data"
        },
        {
          "data": {
            "text/html": [
              "Find logs at: <code>./wandb/run-20250402_232058-u4qycdjq/logs</code>"
            ],
            "text/plain": [
              "<IPython.core.display.HTML object>"
            ]
          },
          "metadata": {},
          "output_type": "display_data"
        },
        {
          "name": "stderr",
          "output_type": "stream",
          "text": [
            "\u001b[34m\u001b[1mwandb\u001b[0m: Agent Starting Run: l09acwk2 with config:\n",
            "\u001b[34m\u001b[1mwandb\u001b[0m: \tactivation: mish\n",
            "\u001b[34m\u001b[1mwandb\u001b[0m: \tbatch_norm: False\n",
            "\u001b[34m\u001b[1mwandb\u001b[0m: \tbatch_size: 32\n",
            "\u001b[34m\u001b[1mwandb\u001b[0m: \tdata_augment: True\n",
            "\u001b[34m\u001b[1mwandb\u001b[0m: \tdropout: 0\n",
            "\u001b[34m\u001b[1mwandb\u001b[0m: \tfc_layer_size: 2048\n",
            "\u001b[34m\u001b[1mwandb\u001b[0m: \tkernel_size: decreasing\n",
            "\u001b[34m\u001b[1mwandb\u001b[0m: \tlearning_rate: 0.0001\n",
            "\u001b[34m\u001b[1mwandb\u001b[0m: \tnum_filters: equal16\n"
          ]
        },
        {
          "data": {
            "text/html": [
              "Tracking run with wandb version 0.19.8"
            ],
            "text/plain": [
              "<IPython.core.display.HTML object>"
            ]
          },
          "metadata": {},
          "output_type": "display_data"
        },
        {
          "data": {
            "text/html": [
              "Run data is saved locally in <code>/content/wandb/run-20250402_234909-l09acwk2</code>"
            ],
            "text/plain": [
              "<IPython.core.display.HTML object>"
            ]
          },
          "metadata": {},
          "output_type": "display_data"
        },
        {
          "data": {
            "text/html": [
              "Syncing run <strong><a href='https://wandb.ai/da24m021-indian-institute-of-technology-madras/da24m021_da6401_assignment2/runs/l09acwk2' target=\"_blank\">frosty-sweep-14</a></strong> to <a href='https://wandb.ai/da24m021-indian-institute-of-technology-madras/da24m021_da6401_assignment2' target=\"_blank\">Weights & Biases</a> (<a href='https://wandb.me/developer-guide' target=\"_blank\">docs</a>)<br>Sweep page: <a href='https://wandb.ai/da24m021-indian-institute-of-technology-madras/da24m021_da6401_assignment2/sweeps/k2txx1xm' target=\"_blank\">https://wandb.ai/da24m021-indian-institute-of-technology-madras/da24m021_da6401_assignment2/sweeps/k2txx1xm</a>"
            ],
            "text/plain": [
              "<IPython.core.display.HTML object>"
            ]
          },
          "metadata": {},
          "output_type": "display_data"
        },
        {
          "data": {
            "text/html": [
              " View project at <a href='https://wandb.ai/da24m021-indian-institute-of-technology-madras/da24m021_da6401_assignment2' target=\"_blank\">https://wandb.ai/da24m021-indian-institute-of-technology-madras/da24m021_da6401_assignment2</a>"
            ],
            "text/plain": [
              "<IPython.core.display.HTML object>"
            ]
          },
          "metadata": {},
          "output_type": "display_data"
        },
        {
          "data": {
            "text/html": [
              " View sweep at <a href='https://wandb.ai/da24m021-indian-institute-of-technology-madras/da24m021_da6401_assignment2/sweeps/k2txx1xm' target=\"_blank\">https://wandb.ai/da24m021-indian-institute-of-technology-madras/da24m021_da6401_assignment2/sweeps/k2txx1xm</a>"
            ],
            "text/plain": [
              "<IPython.core.display.HTML object>"
            ]
          },
          "metadata": {},
          "output_type": "display_data"
        },
        {
          "data": {
            "text/html": [
              " View run at <a href='https://wandb.ai/da24m021-indian-institute-of-technology-madras/da24m021_da6401_assignment2/runs/l09acwk2' target=\"_blank\">https://wandb.ai/da24m021-indian-institute-of-technology-madras/da24m021_da6401_assignment2/runs/l09acwk2</a>"
            ],
            "text/plain": [
              "<IPython.core.display.HTML object>"
            ]
          },
          "metadata": {},
          "output_type": "display_data"
        },
        {
          "name": "stderr",
          "output_type": "stream",
          "text": [
            "100%|██████████| 251/251 [02:12<00:00,  1.89it/s]\n",
            "100%|██████████| 63/63 [00:32<00:00,  1.93it/s]\n"
          ]
        },
        {
          "name": "stdout",
          "output_type": "stream",
          "text": [
            "Epoch 1/10, Train Loss: 2.279, Train Acc: 13.45%, Val Loss: 2.235, Val Acc: 16.13%\n"
          ]
        },
        {
          "name": "stderr",
          "output_type": "stream",
          "text": [
            "100%|██████████| 251/251 [02:09<00:00,  1.94it/s]\n",
            "100%|██████████| 63/63 [00:32<00:00,  1.96it/s]\n"
          ]
        },
        {
          "name": "stdout",
          "output_type": "stream",
          "text": [
            "Epoch 2/10, Train Loss: 2.189, Train Acc: 20.10%, Val Loss: 2.140, Val Acc: 22.43%\n"
          ]
        },
        {
          "name": "stderr",
          "output_type": "stream",
          "text": [
            "100%|██████████| 251/251 [02:09<00:00,  1.94it/s]\n",
            "100%|██████████| 63/63 [00:32<00:00,  1.96it/s]\n"
          ]
        },
        {
          "name": "stdout",
          "output_type": "stream",
          "text": [
            "Epoch 3/10, Train Loss: 2.107, Train Acc: 24.28%, Val Loss: 2.081, Val Acc: 25.27%\n"
          ]
        },
        {
          "name": "stderr",
          "output_type": "stream",
          "text": [
            "100%|██████████| 251/251 [02:09<00:00,  1.94it/s]\n",
            "100%|██████████| 63/63 [00:31<00:00,  1.99it/s]\n"
          ]
        },
        {
          "name": "stdout",
          "output_type": "stream",
          "text": [
            "Epoch 4/10, Train Loss: 2.061, Train Acc: 26.41%, Val Loss: 2.032, Val Acc: 26.92%\n"
          ]
        },
        {
          "name": "stderr",
          "output_type": "stream",
          "text": [
            "100%|██████████| 251/251 [02:07<00:00,  1.97it/s]\n",
            "100%|██████████| 63/63 [00:33<00:00,  1.86it/s]\n"
          ]
        },
        {
          "name": "stdout",
          "output_type": "stream",
          "text": [
            "Epoch 5/10, Train Loss: 2.023, Train Acc: 27.94%, Val Loss: 2.026, Val Acc: 27.82%\n"
          ]
        },
        {
          "name": "stderr",
          "output_type": "stream",
          "text": [
            "100%|██████████| 251/251 [02:07<00:00,  1.97it/s]\n",
            "100%|██████████| 63/63 [00:34<00:00,  1.84it/s]\n"
          ]
        },
        {
          "name": "stdout",
          "output_type": "stream",
          "text": [
            "Epoch 6/10, Train Loss: 1.987, Train Acc: 28.57%, Val Loss: 2.011, Val Acc: 27.82%\n"
          ]
        },
        {
          "name": "stderr",
          "output_type": "stream",
          "text": [
            "100%|██████████| 251/251 [02:08<00:00,  1.95it/s]\n",
            "100%|██████████| 63/63 [00:31<00:00,  2.00it/s]\n"
          ]
        },
        {
          "name": "stdout",
          "output_type": "stream",
          "text": [
            "Epoch 7/10, Train Loss: 1.974, Train Acc: 29.89%, Val Loss: 1.985, Val Acc: 29.17%\n"
          ]
        },
        {
          "name": "stderr",
          "output_type": "stream",
          "text": [
            "100%|██████████| 251/251 [02:09<00:00,  1.94it/s]\n",
            "100%|██████████| 63/63 [00:31<00:00,  2.01it/s]\n"
          ]
        },
        {
          "name": "stdout",
          "output_type": "stream",
          "text": [
            "Epoch 8/10, Train Loss: 1.956, Train Acc: 30.11%, Val Loss: 1.967, Val Acc: 29.52%\n"
          ]
        },
        {
          "name": "stderr",
          "output_type": "stream",
          "text": [
            "100%|██████████| 251/251 [02:06<00:00,  1.98it/s]\n",
            "100%|██████████| 63/63 [00:31<00:00,  1.99it/s]\n"
          ]
        },
        {
          "name": "stdout",
          "output_type": "stream",
          "text": [
            "Epoch 9/10, Train Loss: 1.932, Train Acc: 31.71%, Val Loss: 1.971, Val Acc: 30.77%\n"
          ]
        },
        {
          "name": "stderr",
          "output_type": "stream",
          "text": [
            "100%|██████████| 251/251 [02:07<00:00,  1.97it/s]\n",
            "100%|██████████| 63/63 [00:31<00:00,  2.03it/s]"
          ]
        },
        {
          "name": "stdout",
          "output_type": "stream",
          "text": [
            "Epoch 10/10, Train Loss: 1.922, Train Acc: 32.28%, Val Loss: 1.950, Val Acc: 31.62%\n"
          ]
        },
        {
          "name": "stderr",
          "output_type": "stream",
          "text": [
            "\n"
          ]
        },
        {
          "data": {
            "text/html": [],
            "text/plain": [
              "<IPython.core.display.HTML object>"
            ]
          },
          "metadata": {},
          "output_type": "display_data"
        },
        {
          "data": {
            "text/html": [
              "<br>    <style><br>        .wandb-row {<br>            display: flex;<br>            flex-direction: row;<br>            flex-wrap: wrap;<br>            justify-content: flex-start;<br>            width: 100%;<br>        }<br>        .wandb-col {<br>            display: flex;<br>            flex-direction: column;<br>            flex-basis: 100%;<br>            flex: 1;<br>            padding: 10px;<br>        }<br>    </style><br><div class=\"wandb-row\"><div class=\"wandb-col\"><h3>Run history:</h3><br/><table class=\"wandb\"><tr><td>epoch</td><td>▁▂▃▃▄▅▆▆▇█</td></tr><tr><td>train_accuracy</td><td>▁▃▅▆▆▇▇▇██</td></tr><tr><td>train_loss</td><td>█▆▅▄▃▂▂▂▁▁</td></tr><tr><td>val_accuracy</td><td>▁</td></tr><tr><td>validation_accuracy</td><td>▁▄▅▆▆▆▇▇██</td></tr><tr><td>validation_loss</td><td>█▆▄▃▃▃▂▁▂▁</td></tr></table><br/></div><div class=\"wandb-col\"><h3>Run summary:</h3><br/><table class=\"wandb\"><tr><td>epoch</td><td>9</td></tr><tr><td>train_accuracy</td><td>32.27579</td></tr><tr><td>train_loss</td><td>1.9222</td></tr><tr><td>val_accuracy</td><td>31.61838</td></tr><tr><td>validation_accuracy</td><td>31.61838</td></tr><tr><td>validation_loss</td><td>1.94951</td></tr></table><br/></div></div>"
            ],
            "text/plain": [
              "<IPython.core.display.HTML object>"
            ]
          },
          "metadata": {},
          "output_type": "display_data"
        },
        {
          "data": {
            "text/html": [
              " View run <strong style=\"color:#cdcd00\">activation_mish_filters_equal16_lr_0.0001_kernel_decreasing_fc_size_2048</strong> at: <a href='https://wandb.ai/da24m021-indian-institute-of-technology-madras/da24m021_da6401_assignment2/runs/l09acwk2' target=\"_blank\">https://wandb.ai/da24m021-indian-institute-of-technology-madras/da24m021_da6401_assignment2/runs/l09acwk2</a><br> View project at: <a href='https://wandb.ai/da24m021-indian-institute-of-technology-madras/da24m021_da6401_assignment2' target=\"_blank\">https://wandb.ai/da24m021-indian-institute-of-technology-madras/da24m021_da6401_assignment2</a><br>Synced 5 W&B file(s), 0 media file(s), 0 artifact file(s) and 0 other file(s)"
            ],
            "text/plain": [
              "<IPython.core.display.HTML object>"
            ]
          },
          "metadata": {},
          "output_type": "display_data"
        },
        {
          "data": {
            "text/html": [
              "Find logs at: <code>./wandb/run-20250402_234909-l09acwk2/logs</code>"
            ],
            "text/plain": [
              "<IPython.core.display.HTML object>"
            ]
          },
          "metadata": {},
          "output_type": "display_data"
        },
        {
          "name": "stderr",
          "output_type": "stream",
          "text": [
            "\u001b[34m\u001b[1mwandb\u001b[0m: Agent Starting Run: uif87mlh with config:\n",
            "\u001b[34m\u001b[1mwandb\u001b[0m: \tactivation: mish\n",
            "\u001b[34m\u001b[1mwandb\u001b[0m: \tbatch_norm: False\n",
            "\u001b[34m\u001b[1mwandb\u001b[0m: \tbatch_size: 8\n",
            "\u001b[34m\u001b[1mwandb\u001b[0m: \tdata_augment: True\n",
            "\u001b[34m\u001b[1mwandb\u001b[0m: \tdropout: 0\n",
            "\u001b[34m\u001b[1mwandb\u001b[0m: \tfc_layer_size: 1024\n",
            "\u001b[34m\u001b[1mwandb\u001b[0m: \tkernel_size: increasing\n",
            "\u001b[34m\u001b[1mwandb\u001b[0m: \tlearning_rate: 0.0001\n",
            "\u001b[34m\u001b[1mwandb\u001b[0m: \tnum_filters: equal16\n"
          ]
        },
        {
          "data": {
            "text/html": [
              "Tracking run with wandb version 0.19.8"
            ],
            "text/plain": [
              "<IPython.core.display.HTML object>"
            ]
          },
          "metadata": {},
          "output_type": "display_data"
        },
        {
          "data": {
            "text/html": [
              "Run data is saved locally in <code>/content/wandb/run-20250403_001608-uif87mlh</code>"
            ],
            "text/plain": [
              "<IPython.core.display.HTML object>"
            ]
          },
          "metadata": {},
          "output_type": "display_data"
        },
        {
          "data": {
            "text/html": [
              "Syncing run <strong><a href='https://wandb.ai/da24m021-indian-institute-of-technology-madras/da24m021_da6401_assignment2/runs/uif87mlh' target=\"_blank\">blooming-sweep-15</a></strong> to <a href='https://wandb.ai/da24m021-indian-institute-of-technology-madras/da24m021_da6401_assignment2' target=\"_blank\">Weights & Biases</a> (<a href='https://wandb.me/developer-guide' target=\"_blank\">docs</a>)<br>Sweep page: <a href='https://wandb.ai/da24m021-indian-institute-of-technology-madras/da24m021_da6401_assignment2/sweeps/k2txx1xm' target=\"_blank\">https://wandb.ai/da24m021-indian-institute-of-technology-madras/da24m021_da6401_assignment2/sweeps/k2txx1xm</a>"
            ],
            "text/plain": [
              "<IPython.core.display.HTML object>"
            ]
          },
          "metadata": {},
          "output_type": "display_data"
        },
        {
          "data": {
            "text/html": [
              " View project at <a href='https://wandb.ai/da24m021-indian-institute-of-technology-madras/da24m021_da6401_assignment2' target=\"_blank\">https://wandb.ai/da24m021-indian-institute-of-technology-madras/da24m021_da6401_assignment2</a>"
            ],
            "text/plain": [
              "<IPython.core.display.HTML object>"
            ]
          },
          "metadata": {},
          "output_type": "display_data"
        },
        {
          "data": {
            "text/html": [
              " View sweep at <a href='https://wandb.ai/da24m021-indian-institute-of-technology-madras/da24m021_da6401_assignment2/sweeps/k2txx1xm' target=\"_blank\">https://wandb.ai/da24m021-indian-institute-of-technology-madras/da24m021_da6401_assignment2/sweeps/k2txx1xm</a>"
            ],
            "text/plain": [
              "<IPython.core.display.HTML object>"
            ]
          },
          "metadata": {},
          "output_type": "display_data"
        },
        {
          "data": {
            "text/html": [
              " View run at <a href='https://wandb.ai/da24m021-indian-institute-of-technology-madras/da24m021_da6401_assignment2/runs/uif87mlh' target=\"_blank\">https://wandb.ai/da24m021-indian-institute-of-technology-madras/da24m021_da6401_assignment2/runs/uif87mlh</a>"
            ],
            "text/plain": [
              "<IPython.core.display.HTML object>"
            ]
          },
          "metadata": {},
          "output_type": "display_data"
        },
        {
          "name": "stderr",
          "output_type": "stream",
          "text": [
            "100%|██████████| 1001/1001 [02:17<00:00,  7.29it/s]\n",
            "100%|██████████| 251/251 [00:32<00:00,  7.72it/s]\n"
          ]
        },
        {
          "name": "stdout",
          "output_type": "stream",
          "text": [
            "Epoch 1/10, Train Loss: 2.250, Train Acc: 15.76%, Val Loss: 2.170, Val Acc: 19.88%\n"
          ]
        },
        {
          "name": "stderr",
          "output_type": "stream",
          "text": [
            "100%|██████████| 1001/1001 [02:12<00:00,  7.55it/s]\n",
            "100%|██████████| 251/251 [00:33<00:00,  7.54it/s]\n"
          ]
        },
        {
          "name": "stdout",
          "output_type": "stream",
          "text": [
            "Epoch 2/10, Train Loss: 2.139, Train Acc: 21.48%, Val Loss: 2.112, Val Acc: 22.73%\n"
          ]
        },
        {
          "name": "stderr",
          "output_type": "stream",
          "text": [
            "100%|██████████| 1001/1001 [02:12<00:00,  7.53it/s]\n",
            "100%|██████████| 251/251 [00:32<00:00,  7.71it/s]\n"
          ]
        },
        {
          "name": "stdout",
          "output_type": "stream",
          "text": [
            "Epoch 3/10, Train Loss: 2.091, Train Acc: 23.91%, Val Loss: 2.068, Val Acc: 24.53%\n"
          ]
        },
        {
          "name": "stderr",
          "output_type": "stream",
          "text": [
            "100%|██████████| 1001/1001 [02:12<00:00,  7.54it/s]\n",
            "100%|██████████| 251/251 [00:31<00:00,  7.89it/s]\n"
          ]
        },
        {
          "name": "stdout",
          "output_type": "stream",
          "text": [
            "Epoch 4/10, Train Loss: 2.053, Train Acc: 25.58%, Val Loss: 2.049, Val Acc: 25.22%\n"
          ]
        },
        {
          "name": "stderr",
          "output_type": "stream",
          "text": [
            "100%|██████████| 1001/1001 [02:12<00:00,  7.53it/s]\n",
            "100%|██████████| 251/251 [00:31<00:00,  7.91it/s]\n"
          ]
        },
        {
          "name": "stdout",
          "output_type": "stream",
          "text": [
            "Epoch 5/10, Train Loss: 2.026, Train Acc: 26.57%, Val Loss: 2.026, Val Acc: 27.32%\n"
          ]
        },
        {
          "name": "stderr",
          "output_type": "stream",
          "text": [
            "100%|██████████| 1001/1001 [02:12<00:00,  7.58it/s]\n",
            "100%|██████████| 251/251 [00:31<00:00,  7.98it/s]\n"
          ]
        },
        {
          "name": "stdout",
          "output_type": "stream",
          "text": [
            "Epoch 6/10, Train Loss: 2.010, Train Acc: 27.29%, Val Loss: 2.005, Val Acc: 28.57%\n"
          ]
        },
        {
          "name": "stderr",
          "output_type": "stream",
          "text": [
            "100%|██████████| 1001/1001 [02:10<00:00,  7.65it/s]\n",
            "100%|██████████| 251/251 [00:34<00:00,  7.27it/s]\n"
          ]
        },
        {
          "name": "stdout",
          "output_type": "stream",
          "text": [
            "Epoch 7/10, Train Loss: 1.984, Train Acc: 29.32%, Val Loss: 2.017, Val Acc: 27.82%\n"
          ]
        },
        {
          "name": "stderr",
          "output_type": "stream",
          "text": [
            "100%|██████████| 1001/1001 [02:10<00:00,  7.68it/s]\n",
            "100%|██████████| 251/251 [00:35<00:00,  7.16it/s]\n"
          ]
        },
        {
          "name": "stdout",
          "output_type": "stream",
          "text": [
            "Epoch 8/10, Train Loss: 1.961, Train Acc: 29.47%, Val Loss: 1.979, Val Acc: 29.42%\n"
          ]
        },
        {
          "name": "stderr",
          "output_type": "stream",
          "text": [
            "100%|██████████| 1001/1001 [02:10<00:00,  7.70it/s]\n",
            "100%|██████████| 251/251 [00:31<00:00,  7.96it/s]\n"
          ]
        },
        {
          "name": "stdout",
          "output_type": "stream",
          "text": [
            "Epoch 9/10, Train Loss: 1.950, Train Acc: 30.39%, Val Loss: 1.987, Val Acc: 28.92%\n"
          ]
        },
        {
          "name": "stderr",
          "output_type": "stream",
          "text": [
            "100%|██████████| 1001/1001 [02:12<00:00,  7.55it/s]\n",
            "100%|██████████| 251/251 [00:31<00:00,  7.89it/s]"
          ]
        },
        {
          "name": "stdout",
          "output_type": "stream",
          "text": [
            "Epoch 10/10, Train Loss: 1.935, Train Acc: 31.15%, Val Loss: 1.958, Val Acc: 31.27%\n"
          ]
        },
        {
          "name": "stderr",
          "output_type": "stream",
          "text": [
            "\n"
          ]
        },
        {
          "data": {
            "text/html": [],
            "text/plain": [
              "<IPython.core.display.HTML object>"
            ]
          },
          "metadata": {},
          "output_type": "display_data"
        },
        {
          "data": {
            "text/html": [
              "<br>    <style><br>        .wandb-row {<br>            display: flex;<br>            flex-direction: row;<br>            flex-wrap: wrap;<br>            justify-content: flex-start;<br>            width: 100%;<br>        }<br>        .wandb-col {<br>            display: flex;<br>            flex-direction: column;<br>            flex-basis: 100%;<br>            flex: 1;<br>            padding: 10px;<br>        }<br>    </style><br><div class=\"wandb-row\"><div class=\"wandb-col\"><h3>Run history:</h3><br/><table class=\"wandb\"><tr><td>epoch</td><td>▁▂▃▃▄▅▆▆▇█</td></tr><tr><td>train_accuracy</td><td>▁▄▅▅▆▆▇▇██</td></tr><tr><td>train_loss</td><td>█▆▄▄▃▃▂▂▁▁</td></tr><tr><td>val_accuracy</td><td>▁</td></tr><tr><td>validation_accuracy</td><td>▁▃▄▄▆▆▆▇▇█</td></tr><tr><td>validation_loss</td><td>█▆▅▄▃▃▃▂▂▁</td></tr></table><br/></div><div class=\"wandb-col\"><h3>Run summary:</h3><br/><table class=\"wandb\"><tr><td>epoch</td><td>9</td></tr><tr><td>train_accuracy</td><td>31.15164</td></tr><tr><td>train_loss</td><td>1.9353</td></tr><tr><td>val_accuracy</td><td>31.26873</td></tr><tr><td>validation_accuracy</td><td>31.26873</td></tr><tr><td>validation_loss</td><td>1.95756</td></tr></table><br/></div></div>"
            ],
            "text/plain": [
              "<IPython.core.display.HTML object>"
            ]
          },
          "metadata": {},
          "output_type": "display_data"
        },
        {
          "data": {
            "text/html": [
              " View run <strong style=\"color:#cdcd00\">activation_mish_filters_equal16_lr_0.0001_kernel_increasing_fc_size_1024</strong> at: <a href='https://wandb.ai/da24m021-indian-institute-of-technology-madras/da24m021_da6401_assignment2/runs/uif87mlh' target=\"_blank\">https://wandb.ai/da24m021-indian-institute-of-technology-madras/da24m021_da6401_assignment2/runs/uif87mlh</a><br> View project at: <a href='https://wandb.ai/da24m021-indian-institute-of-technology-madras/da24m021_da6401_assignment2' target=\"_blank\">https://wandb.ai/da24m021-indian-institute-of-technology-madras/da24m021_da6401_assignment2</a><br>Synced 5 W&B file(s), 0 media file(s), 0 artifact file(s) and 0 other file(s)"
            ],
            "text/plain": [
              "<IPython.core.display.HTML object>"
            ]
          },
          "metadata": {},
          "output_type": "display_data"
        },
        {
          "data": {
            "text/html": [
              "Find logs at: <code>./wandb/run-20250403_001608-uif87mlh/logs</code>"
            ],
            "text/plain": [
              "<IPython.core.display.HTML object>"
            ]
          },
          "metadata": {},
          "output_type": "display_data"
        },
        {
          "name": "stderr",
          "output_type": "stream",
          "text": [
            "\u001b[34m\u001b[1mwandb\u001b[0m: Agent Starting Run: q6hii2jb with config:\n",
            "\u001b[34m\u001b[1mwandb\u001b[0m: \tactivation: mish\n",
            "\u001b[34m\u001b[1mwandb\u001b[0m: \tbatch_norm: False\n",
            "\u001b[34m\u001b[1mwandb\u001b[0m: \tbatch_size: 16\n",
            "\u001b[34m\u001b[1mwandb\u001b[0m: \tdata_augment: True\n",
            "\u001b[34m\u001b[1mwandb\u001b[0m: \tdropout: 0\n",
            "\u001b[34m\u001b[1mwandb\u001b[0m: \tfc_layer_size: 2048\n",
            "\u001b[34m\u001b[1mwandb\u001b[0m: \tkernel_size: constant7\n",
            "\u001b[34m\u001b[1mwandb\u001b[0m: \tlearning_rate: 0.0001\n",
            "\u001b[34m\u001b[1mwandb\u001b[0m: \tnum_filters: equal16\n"
          ]
        },
        {
          "data": {
            "text/html": [
              "Tracking run with wandb version 0.19.8"
            ],
            "text/plain": [
              "<IPython.core.display.HTML object>"
            ]
          },
          "metadata": {},
          "output_type": "display_data"
        },
        {
          "data": {
            "text/html": [
              "Run data is saved locally in <code>/content/wandb/run-20250403_004347-q6hii2jb</code>"
            ],
            "text/plain": [
              "<IPython.core.display.HTML object>"
            ]
          },
          "metadata": {},
          "output_type": "display_data"
        },
        {
          "data": {
            "text/html": [
              "Syncing run <strong><a href='https://wandb.ai/da24m021-indian-institute-of-technology-madras/da24m021_da6401_assignment2/runs/q6hii2jb' target=\"_blank\">dulcet-sweep-16</a></strong> to <a href='https://wandb.ai/da24m021-indian-institute-of-technology-madras/da24m021_da6401_assignment2' target=\"_blank\">Weights & Biases</a> (<a href='https://wandb.me/developer-guide' target=\"_blank\">docs</a>)<br>Sweep page: <a href='https://wandb.ai/da24m021-indian-institute-of-technology-madras/da24m021_da6401_assignment2/sweeps/k2txx1xm' target=\"_blank\">https://wandb.ai/da24m021-indian-institute-of-technology-madras/da24m021_da6401_assignment2/sweeps/k2txx1xm</a>"
            ],
            "text/plain": [
              "<IPython.core.display.HTML object>"
            ]
          },
          "metadata": {},
          "output_type": "display_data"
        },
        {
          "data": {
            "text/html": [
              " View project at <a href='https://wandb.ai/da24m021-indian-institute-of-technology-madras/da24m021_da6401_assignment2' target=\"_blank\">https://wandb.ai/da24m021-indian-institute-of-technology-madras/da24m021_da6401_assignment2</a>"
            ],
            "text/plain": [
              "<IPython.core.display.HTML object>"
            ]
          },
          "metadata": {},
          "output_type": "display_data"
        },
        {
          "data": {
            "text/html": [
              " View sweep at <a href='https://wandb.ai/da24m021-indian-institute-of-technology-madras/da24m021_da6401_assignment2/sweeps/k2txx1xm' target=\"_blank\">https://wandb.ai/da24m021-indian-institute-of-technology-madras/da24m021_da6401_assignment2/sweeps/k2txx1xm</a>"
            ],
            "text/plain": [
              "<IPython.core.display.HTML object>"
            ]
          },
          "metadata": {},
          "output_type": "display_data"
        },
        {
          "data": {
            "text/html": [
              " View run at <a href='https://wandb.ai/da24m021-indian-institute-of-technology-madras/da24m021_da6401_assignment2/runs/q6hii2jb' target=\"_blank\">https://wandb.ai/da24m021-indian-institute-of-technology-madras/da24m021_da6401_assignment2/runs/q6hii2jb</a>"
            ],
            "text/plain": [
              "<IPython.core.display.HTML object>"
            ]
          },
          "metadata": {},
          "output_type": "display_data"
        },
        {
          "name": "stderr",
          "output_type": "stream",
          "text": [
            "100%|██████████| 501/501 [02:16<00:00,  3.68it/s]\n",
            "100%|██████████| 126/126 [00:31<00:00,  4.01it/s]\n"
          ]
        },
        {
          "name": "stdout",
          "output_type": "stream",
          "text": [
            "Epoch 1/10, Train Loss: 2.225, Train Acc: 16.33%, Val Loss: 2.178, Val Acc: 18.58%\n"
          ]
        },
        {
          "name": "stderr",
          "output_type": "stream",
          "text": [
            "100%|██████████| 501/501 [02:10<00:00,  3.83it/s]\n",
            "100%|██████████| 126/126 [00:31<00:00,  3.99it/s]\n"
          ]
        },
        {
          "name": "stdout",
          "output_type": "stream",
          "text": [
            "Epoch 2/10, Train Loss: 2.130, Train Acc: 21.36%, Val Loss: 2.111, Val Acc: 21.98%\n"
          ]
        },
        {
          "name": "stderr",
          "output_type": "stream",
          "text": [
            "100%|██████████| 501/501 [02:10<00:00,  3.83it/s]\n",
            "100%|██████████| 126/126 [00:31<00:00,  4.04it/s]\n"
          ]
        },
        {
          "name": "stdout",
          "output_type": "stream",
          "text": [
            "Epoch 3/10, Train Loss: 2.073, Train Acc: 24.17%, Val Loss: 2.068, Val Acc: 25.52%\n"
          ]
        },
        {
          "name": "stderr",
          "output_type": "stream",
          "text": [
            "100%|██████████| 501/501 [02:11<00:00,  3.82it/s]\n",
            "100%|██████████| 126/126 [00:32<00:00,  3.89it/s]\n"
          ]
        },
        {
          "name": "stdout",
          "output_type": "stream",
          "text": [
            "Epoch 4/10, Train Loss: 2.033, Train Acc: 25.89%, Val Loss: 2.030, Val Acc: 27.32%\n"
          ]
        },
        {
          "name": "stderr",
          "output_type": "stream",
          "text": [
            "100%|██████████| 501/501 [02:10<00:00,  3.84it/s]\n",
            "100%|██████████| 126/126 [00:32<00:00,  3.91it/s]\n"
          ]
        },
        {
          "name": "stdout",
          "output_type": "stream",
          "text": [
            "Epoch 5/10, Train Loss: 2.003, Train Acc: 27.49%, Val Loss: 2.019, Val Acc: 27.72%\n"
          ]
        },
        {
          "name": "stderr",
          "output_type": "stream",
          "text": [
            "100%|██████████| 501/501 [02:08<00:00,  3.89it/s]\n",
            "100%|██████████| 126/126 [00:34<00:00,  3.68it/s]\n"
          ]
        },
        {
          "name": "stdout",
          "output_type": "stream",
          "text": [
            "Epoch 6/10, Train Loss: 1.981, Train Acc: 28.69%, Val Loss: 1.995, Val Acc: 28.67%\n"
          ]
        },
        {
          "name": "stderr",
          "output_type": "stream",
          "text": [
            "100%|██████████| 501/501 [02:09<00:00,  3.87it/s]\n",
            "100%|██████████| 126/126 [00:33<00:00,  3.81it/s]\n"
          ]
        },
        {
          "name": "stdout",
          "output_type": "stream",
          "text": [
            "Epoch 7/10, Train Loss: 1.957, Train Acc: 29.99%, Val Loss: 1.982, Val Acc: 30.12%\n"
          ]
        },
        {
          "name": "stderr",
          "output_type": "stream",
          "text": [
            "100%|██████████| 501/501 [02:08<00:00,  3.89it/s]\n",
            "100%|██████████| 126/126 [00:31<00:00,  4.02it/s]\n"
          ]
        },
        {
          "name": "stdout",
          "output_type": "stream",
          "text": [
            "Epoch 8/10, Train Loss: 1.941, Train Acc: 30.41%, Val Loss: 1.956, Val Acc: 30.92%\n"
          ]
        },
        {
          "name": "stderr",
          "output_type": "stream",
          "text": [
            "100%|██████████| 501/501 [02:10<00:00,  3.85it/s]\n",
            "100%|██████████| 126/126 [00:31<00:00,  4.02it/s]\n"
          ]
        },
        {
          "name": "stdout",
          "output_type": "stream",
          "text": [
            "Epoch 9/10, Train Loss: 1.919, Train Acc: 31.73%, Val Loss: 1.987, Val Acc: 29.92%\n"
          ]
        },
        {
          "name": "stderr",
          "output_type": "stream",
          "text": [
            "100%|██████████| 501/501 [02:10<00:00,  3.85it/s]\n",
            "100%|██████████| 126/126 [00:32<00:00,  3.94it/s]"
          ]
        },
        {
          "name": "stdout",
          "output_type": "stream",
          "text": [
            "Epoch 10/10, Train Loss: 1.901, Train Acc: 32.41%, Val Loss: 1.975, Val Acc: 30.47%\n"
          ]
        },
        {
          "name": "stderr",
          "output_type": "stream",
          "text": [
            "\n"
          ]
        },
        {
          "data": {
            "text/html": [],
            "text/plain": [
              "<IPython.core.display.HTML object>"
            ]
          },
          "metadata": {},
          "output_type": "display_data"
        },
        {
          "data": {
            "text/html": [
              "<br>    <style><br>        .wandb-row {<br>            display: flex;<br>            flex-direction: row;<br>            flex-wrap: wrap;<br>            justify-content: flex-start;<br>            width: 100%;<br>        }<br>        .wandb-col {<br>            display: flex;<br>            flex-direction: column;<br>            flex-basis: 100%;<br>            flex: 1;<br>            padding: 10px;<br>        }<br>    </style><br><div class=\"wandb-row\"><div class=\"wandb-col\"><h3>Run history:</h3><br/><table class=\"wandb\"><tr><td>epoch</td><td>▁▂▃▃▄▅▆▆▇█</td></tr><tr><td>train_accuracy</td><td>▁▃▄▅▆▆▇▇██</td></tr><tr><td>train_loss</td><td>█▆▅▄▃▃▂▂▁▁</td></tr><tr><td>val_accuracy</td><td>▁</td></tr><tr><td>validation_accuracy</td><td>▁▃▅▆▆▇██▇█</td></tr><tr><td>validation_loss</td><td>█▆▅▃▃▂▂▁▂▂</td></tr></table><br/></div><div class=\"wandb-col\"><h3>Run summary:</h3><br/><table class=\"wandb\"><tr><td>epoch</td><td>9</td></tr><tr><td>train_accuracy</td><td>32.41319</td></tr><tr><td>train_loss</td><td>1.90146</td></tr><tr><td>val_accuracy</td><td>30.46953</td></tr><tr><td>validation_accuracy</td><td>30.46953</td></tr><tr><td>validation_loss</td><td>1.97538</td></tr></table><br/></div></div>"
            ],
            "text/plain": [
              "<IPython.core.display.HTML object>"
            ]
          },
          "metadata": {},
          "output_type": "display_data"
        },
        {
          "data": {
            "text/html": [
              " View run <strong style=\"color:#cdcd00\">activation_mish_filters_equal16_lr_0.0001_kernel_constant7_fc_size_2048</strong> at: <a href='https://wandb.ai/da24m021-indian-institute-of-technology-madras/da24m021_da6401_assignment2/runs/q6hii2jb' target=\"_blank\">https://wandb.ai/da24m021-indian-institute-of-technology-madras/da24m021_da6401_assignment2/runs/q6hii2jb</a><br> View project at: <a href='https://wandb.ai/da24m021-indian-institute-of-technology-madras/da24m021_da6401_assignment2' target=\"_blank\">https://wandb.ai/da24m021-indian-institute-of-technology-madras/da24m021_da6401_assignment2</a><br>Synced 5 W&B file(s), 0 media file(s), 0 artifact file(s) and 0 other file(s)"
            ],
            "text/plain": [
              "<IPython.core.display.HTML object>"
            ]
          },
          "metadata": {},
          "output_type": "display_data"
        },
        {
          "data": {
            "text/html": [
              "Find logs at: <code>./wandb/run-20250403_004347-q6hii2jb/logs</code>"
            ],
            "text/plain": [
              "<IPython.core.display.HTML object>"
            ]
          },
          "metadata": {},
          "output_type": "display_data"
        },
        {
          "name": "stderr",
          "output_type": "stream",
          "text": [
            "\u001b[34m\u001b[1mwandb\u001b[0m: Agent Starting Run: kfnecoz5 with config:\n",
            "\u001b[34m\u001b[1mwandb\u001b[0m: \tactivation: gelu\n",
            "\u001b[34m\u001b[1mwandb\u001b[0m: \tbatch_norm: True\n",
            "\u001b[34m\u001b[1mwandb\u001b[0m: \tbatch_size: 32\n",
            "\u001b[34m\u001b[1mwandb\u001b[0m: \tdata_augment: False\n",
            "\u001b[34m\u001b[1mwandb\u001b[0m: \tdropout: 0\n",
            "\u001b[34m\u001b[1mwandb\u001b[0m: \tfc_layer_size: 2048\n",
            "\u001b[34m\u001b[1mwandb\u001b[0m: \tkernel_size: increasing\n",
            "\u001b[34m\u001b[1mwandb\u001b[0m: \tlearning_rate: 0.0001\n",
            "\u001b[34m\u001b[1mwandb\u001b[0m: \tnum_filters: doubling16\n"
          ]
        },
        {
          "data": {
            "text/html": [
              "Tracking run with wandb version 0.19.8"
            ],
            "text/plain": [
              "<IPython.core.display.HTML object>"
            ]
          },
          "metadata": {},
          "output_type": "display_data"
        },
        {
          "data": {
            "text/html": [
              "Run data is saved locally in <code>/content/wandb/run-20250403_011101-kfnecoz5</code>"
            ],
            "text/plain": [
              "<IPython.core.display.HTML object>"
            ]
          },
          "metadata": {},
          "output_type": "display_data"
        },
        {
          "data": {
            "text/html": [
              "Syncing run <strong><a href='https://wandb.ai/da24m021-indian-institute-of-technology-madras/da24m021_da6401_assignment2/runs/kfnecoz5' target=\"_blank\">wobbly-sweep-17</a></strong> to <a href='https://wandb.ai/da24m021-indian-institute-of-technology-madras/da24m021_da6401_assignment2' target=\"_blank\">Weights & Biases</a> (<a href='https://wandb.me/developer-guide' target=\"_blank\">docs</a>)<br>Sweep page: <a href='https://wandb.ai/da24m021-indian-institute-of-technology-madras/da24m021_da6401_assignment2/sweeps/k2txx1xm' target=\"_blank\">https://wandb.ai/da24m021-indian-institute-of-technology-madras/da24m021_da6401_assignment2/sweeps/k2txx1xm</a>"
            ],
            "text/plain": [
              "<IPython.core.display.HTML object>"
            ]
          },
          "metadata": {},
          "output_type": "display_data"
        },
        {
          "data": {
            "text/html": [
              " View project at <a href='https://wandb.ai/da24m021-indian-institute-of-technology-madras/da24m021_da6401_assignment2' target=\"_blank\">https://wandb.ai/da24m021-indian-institute-of-technology-madras/da24m021_da6401_assignment2</a>"
            ],
            "text/plain": [
              "<IPython.core.display.HTML object>"
            ]
          },
          "metadata": {},
          "output_type": "display_data"
        },
        {
          "data": {
            "text/html": [
              " View sweep at <a href='https://wandb.ai/da24m021-indian-institute-of-technology-madras/da24m021_da6401_assignment2/sweeps/k2txx1xm' target=\"_blank\">https://wandb.ai/da24m021-indian-institute-of-technology-madras/da24m021_da6401_assignment2/sweeps/k2txx1xm</a>"
            ],
            "text/plain": [
              "<IPython.core.display.HTML object>"
            ]
          },
          "metadata": {},
          "output_type": "display_data"
        },
        {
          "data": {
            "text/html": [
              " View run at <a href='https://wandb.ai/da24m021-indian-institute-of-technology-madras/da24m021_da6401_assignment2/runs/kfnecoz5' target=\"_blank\">https://wandb.ai/da24m021-indian-institute-of-technology-madras/da24m021_da6401_assignment2/runs/kfnecoz5</a>"
            ],
            "text/plain": [
              "<IPython.core.display.HTML object>"
            ]
          },
          "metadata": {},
          "output_type": "display_data"
        },
        {
          "name": "stderr",
          "output_type": "stream",
          "text": [
            "100%|██████████| 251/251 [01:49<00:00,  2.30it/s]\n",
            " 78%|███████▊  | 49/63 [00:20<00:05,  2.55it/s]"
          ]
        }
      ],
      "source": [
        "sweep_config = {\n",
        "    \"method\" : \"bayes\",\n",
        "    \"metric\" : {\"name\": \"val_accuracy\", \"goal\": \"maximize\"},\n",
        "    \"parameters\" : {\n",
        "        \"data_augment\" : {\"values\" : [True, False]},\n",
        "        \"batch_norm\" : {\"values\" : [True, False]},\n",
        "        \"dropout\" : {\"values\" : [0.0, 0.2, 0.4]},\n",
        "        \"learning_rate\" : {\"values\" : [0.01, 0.001, 0.0005, 0.0001]},\n",
        "        \"activation\" : {\"values\" : [\"relu\", \"leaky_relu\", \"parametric_relu\",\n",
        "                                    \"gelu\", \"silu\", \"mish\"]},\n",
        "        \"num_filters\" : {\"values\" : [\"equal16\", \"equal32\", \"equal64\", \"doubling16\", \"doubling32\", \"halving256\"]},\n",
        "        \"kernel_size\" : {\"values\" : [\"constant3\", \"constant5\", \"constant7\", \"decreasing\", \"increasing\"]},\n",
        "        \"fc_layer_size\" : {\"values\": [2048, 1024, 512]},\n",
        "        \"batch_size\": {\"values\": [8, 16, 32]}\n",
        "    }\n",
        "}\n",
        "\n",
        "sweep_id = wandb.sweep(sweep_config, project = \"da24m021_da6401_assignment2\")\n",
        "wandb.agent(sweep_id, function = sweep_hyperparameters, count = 50)"
      ]
    },
    {
      "cell_type": "markdown",
      "metadata": {
        "id": "Tp4kXct2-Fq0"
      },
      "source": [
        "## **NOTE :-** The hyperparameter sweep was set for 50 experiments. But due to colab rate limits, the sweep got disconnected after 16 runs. But we got to see some satisfactory results within these 16 runs.\n",
        "\n",
        "\n"
      ]
    },
    {
      "cell_type": "markdown",
      "metadata": {
        "id": "YAUYQE9U8nW1"
      },
      "source": [
        "## The best validation accuracy I was able to get by hyperparameter tuning is 36.713.\n",
        "\n",
        "Best hyperparameters among these are:-\n",
        "\n",
        "| Rank | Activation | Batch Norm | Batch Size | Data Augment | Dropout | FC Layer Size | Kernel Size  | Learning Rate | Num Filters | Train Acc | Val Acc | Train Loss | Val Loss |\n",
        "|------|------------|------------|------------|--------------|---------|---------------|--------------|---------------|-------------|-----------|---------|------------|---------|\n",
        "| 1st  | Mish       | True       | 16         | True         | 0       | 2048          | Decreasing   | 0.0001        | Equal32     | 43.99%    | 36.71%  | 1.59254    | 1.84438 |\n",
        "| 2nd  | Mish       | False      | 32         | False        | 0       | 2048          | Decreasing   | 0.0001        | Equal64     | 47.16%    | 36.11%  | 1.50012    | 1.84692 |\n",
        "| 3rd  | Mish       | False      | 32         | False        | 0       | 2048          | Increasing   | 0.0001        | Equal64     | 36.62%    | 34.17%  | 1.80000    | 1.88000 |\n",
        "\n",
        "\n",
        "## Observation:-\n",
        "In one of the run I was also able to attain 95.89% accuracy on the train dataset with only 29.47% accuracy on validation set signifying considerable overfitting."
      ]
    },
    {
      "cell_type": "markdown",
      "metadata": {
        "id": "5BkNQHbaCETE"
      },
      "source": [
        "## I. BEST MODEL TRAINING AND EVALUATION"
      ]
    },
    {
      "cell_type": "code",
      "execution_count": 18,
      "metadata": {
        "colab": {
          "base_uri": "https://localhost:8080/"
        },
        "id": "6fTHKc-iSXpG",
        "outputId": "07f3abfd-2672-4b74-c8a9-bf9b695cdcf4"
      },
      "outputs": [
        {
          "name": "stderr",
          "output_type": "stream",
          "text": [
            "100%|██████████| 626/626 [33:50<00:00,  3.24s/it]\n"
          ]
        },
        {
          "name": "stdout",
          "output_type": "stream",
          "text": [
            "Epoch 1/10, Train Loss: 2.102, Train Acc: 25.41%\n"
          ]
        },
        {
          "name": "stderr",
          "output_type": "stream",
          "text": [
            "100%|██████████| 626/626 [02:41<00:00,  3.87it/s]\n"
          ]
        },
        {
          "name": "stdout",
          "output_type": "stream",
          "text": [
            "Epoch 2/10, Train Loss: 1.953, Train Acc: 31.23%\n"
          ]
        },
        {
          "name": "stderr",
          "output_type": "stream",
          "text": [
            "100%|██████████| 626/626 [02:39<00:00,  3.92it/s]\n"
          ]
        },
        {
          "name": "stdout",
          "output_type": "stream",
          "text": [
            "Epoch 3/10, Train Loss: 1.875, Train Acc: 33.98%\n"
          ]
        },
        {
          "name": "stderr",
          "output_type": "stream",
          "text": [
            "100%|██████████| 626/626 [02:37<00:00,  3.98it/s]\n"
          ]
        },
        {
          "name": "stdout",
          "output_type": "stream",
          "text": [
            "Epoch 4/10, Train Loss: 1.831, Train Acc: 35.46%\n"
          ]
        },
        {
          "name": "stderr",
          "output_type": "stream",
          "text": [
            "100%|██████████| 626/626 [02:39<00:00,  3.93it/s]\n"
          ]
        },
        {
          "name": "stdout",
          "output_type": "stream",
          "text": [
            "Epoch 5/10, Train Loss: 1.770, Train Acc: 38.20%\n"
          ]
        },
        {
          "name": "stderr",
          "output_type": "stream",
          "text": [
            "100%|██████████| 626/626 [02:39<00:00,  3.92it/s]\n"
          ]
        },
        {
          "name": "stdout",
          "output_type": "stream",
          "text": [
            "Epoch 6/10, Train Loss: 1.739, Train Acc: 39.61%\n"
          ]
        },
        {
          "name": "stderr",
          "output_type": "stream",
          "text": [
            "100%|██████████| 626/626 [02:38<00:00,  3.95it/s]\n"
          ]
        },
        {
          "name": "stdout",
          "output_type": "stream",
          "text": [
            "Epoch 7/10, Train Loss: 1.712, Train Acc: 40.48%\n"
          ]
        },
        {
          "name": "stderr",
          "output_type": "stream",
          "text": [
            "100%|██████████| 626/626 [02:36<00:00,  3.99it/s]\n"
          ]
        },
        {
          "name": "stdout",
          "output_type": "stream",
          "text": [
            "Epoch 8/10, Train Loss: 1.665, Train Acc: 42.26%\n"
          ]
        },
        {
          "name": "stderr",
          "output_type": "stream",
          "text": [
            "100%|██████████| 626/626 [02:37<00:00,  3.98it/s]\n"
          ]
        },
        {
          "name": "stdout",
          "output_type": "stream",
          "text": [
            "Epoch 9/10, Train Loss: 1.647, Train Acc: 42.84%\n"
          ]
        },
        {
          "name": "stderr",
          "output_type": "stream",
          "text": [
            "100%|██████████| 626/626 [02:36<00:00,  4.00it/s]"
          ]
        },
        {
          "name": "stdout",
          "output_type": "stream",
          "text": [
            "Epoch 10/10, Train Loss: 1.608, Train Acc: 44.47%\n"
          ]
        },
        {
          "name": "stderr",
          "output_type": "stream",
          "text": [
            "\n"
          ]
        }
      ],
      "source": [
        "# Image resize size\n",
        "image_size = (224, 224)\n",
        "\n",
        "\n",
        "# Get the trainloader with complete train dataset (No validation set)\n",
        "trainloader, _, classnames = get_train_and_val_dataloaders(TRAIN_DATA_DIR, image_size=image_size, valset_size=0, data_augment=True, batch_size=16)\n",
        "\n",
        "\n",
        "# Define the model and move to the device\n",
        "best_model = CNNModel(image_size, num_filters=get_num_filters(\"equal32\"), kernel_size=get_kernel_size(\"decreasing\"),\n",
        "                     activation_fn=get_activation_function(\"mish\"), batchnorm=True, dropout=0, fc_layer_size=2048)\n",
        "best_model.to(device)\n",
        "\n",
        "# Define the criterion and optimizer\n",
        "criterion = nn.CrossEntropyLoss()\n",
        "optimizer = optim.Adam(best_model.parameters(), lr=0.0001)\n",
        "\n",
        "\n",
        "epochs = 10\n",
        "\n",
        "# Training Loops\n",
        "for epoch in range(epochs):\n",
        "\n",
        "  # Set the model in train mode\n",
        "  best_model.train()\n",
        "\n",
        "  # Metrics to keep track of\n",
        "  running_loss = 0\n",
        "  correct = 0\n",
        "  total = 0\n",
        "\n",
        "  for data in tqdm(trainloader):\n",
        "\n",
        "    inputs, labels = data[0].to(device), data[1].to(device)\n",
        "\n",
        "    optimizer.zero_grad()\n",
        "\n",
        "    outputs = best_model(inputs)\n",
        "\n",
        "    loss = criterion(outputs, labels)\n",
        "\n",
        "    loss.backward()\n",
        "    optimizer.step()\n",
        "\n",
        "    # Metric update\n",
        "    running_loss += loss.item() * inputs.size(0)\n",
        "    total += inputs.size(0)\n",
        "    correct += torch.sum(labels == torch.argmax(outputs, dim=1)).item()\n",
        "\n",
        "  train_epoch_loss = running_loss / total\n",
        "  train_epoch_accuracy = 100 * correct / total\n",
        "\n",
        "  print(f\"Epoch {epoch+1}/{epochs}, Train Loss: {train_epoch_loss:.3f}, Train Acc: {train_epoch_accuracy:.2f}%\")"
      ]
    },
    {
      "cell_type": "code",
      "execution_count": 28,
      "metadata": {
        "colab": {
          "base_uri": "https://localhost:8080/"
        },
        "id": "IVBvqFUt_eo2",
        "outputId": "0c210901-60d1-478a-8362-28855671f5f9"
      },
      "outputs": [
        {
          "name": "stderr",
          "output_type": "stream",
          "text": [
            "100%|██████████| 125/125 [00:24<00:00,  5.10it/s]"
          ]
        },
        {
          "name": "stdout",
          "output_type": "stream",
          "text": [
            "\n",
            "Test Loss: 1.756, Test Acc: 40.50%\n"
          ]
        },
        {
          "name": "stderr",
          "output_type": "stream",
          "text": [
            "\n"
          ]
        }
      ],
      "source": [
        "# Best model evaluation\n",
        "\n",
        "# Load the test dataset\n",
        "testloader = get_test_dataloader(TEST_DATA_DIR, image_size=image_size, batch_size=16)\n",
        "\n",
        "# Set the model in evaluation mode\n",
        "best_model.eval()\n",
        "\n",
        "# Values to keep track of\n",
        "running_loss = 0\n",
        "correct = 0\n",
        "total = 0\n",
        "\n",
        "with torch.no_grad():\n",
        "  for data in tqdm(testloader):\n",
        "\n",
        "    inputs, labels = data[0].to(device), data[1].to(device)\n",
        "    outputs = best_model(inputs)\n",
        "    loss = criterion(outputs, labels)\n",
        "\n",
        "    running_loss += loss.item() * inputs.size(0)\n",
        "    total += inputs.size(0)\n",
        "    correct += torch.sum(labels == torch.argmax(outputs, dim=1)).item()\n",
        "\n",
        "test_loss = running_loss / total\n",
        "test_accuracy = (correct / total) * 100\n",
        "\n",
        "print(f\"\\nTest Loss: {test_loss:.3f}, Test Acc: {test_accuracy:.2f}%\")"
      ]
    },
    {
      "cell_type": "markdown",
      "metadata": {
        "id": "Px__PvNaDH6I"
      },
      "source": [
        "## Metrics of the best model :-\n",
        "## Test Loss of best model :- 1.756\n",
        "## Test Accuracy of best model :- 40.50%"
      ]
    },
    {
      "cell_type": "markdown",
      "metadata": {
        "id": "LKK7nWYVDgLk"
      },
      "source": [
        "## J. SAVE THE MODEL FOR FURTHER USE"
      ]
    },
    {
      "cell_type": "code",
      "execution_count": 24,
      "metadata": {
        "id": "MxRkZ9PnzUZW"
      },
      "outputs": [],
      "source": [
        "model_path = \"/content/drive/MyDrive/Data/models/da6401_2_best_model.pth\"\n",
        "torch.save(best_model, model_path)"
      ]
    },
    {
      "cell_type": "code",
      "execution_count": 26,
      "metadata": {
        "id": "PBGVhZv_0jJM"
      },
      "outputs": [],
      "source": [
        "best_model = torch.load(model_path, weights_only=False)"
      ]
    },
    {
      "cell_type": "markdown",
      "metadata": {
        "id": "Y2E54CKvDunT"
      },
      "source": [
        "## K. Create the Prediction Table"
      ]
    },
    {
      "cell_type": "code",
      "execution_count": 33,
      "metadata": {
        "id": "qhrEMlsz_kNR"
      },
      "outputs": [],
      "source": [
        "# Get 10 random samples from test dataset\n",
        "num_samples = 10\n",
        "indices = random.sample(range(len(testloader.dataset)), num_samples)\n",
        "sample_images = [testloader.dataset[i] for i in indices]\n",
        "\n",
        "images = []\n",
        "labels = []\n",
        "predictions = []\n",
        "\n",
        "for data in sample_images:\n",
        "  input, label = data[0].to(device), data[1]\n",
        "  input = input.unsqueeze(0)\n",
        "\n",
        "  output = best_model(input)\n",
        "  prediction = output.argmax(dim=1).item()\n",
        "\n",
        "  # Undo image transformations\n",
        "  image = input.squeeze(0).cpu().numpy()\n",
        "  image = image.transpose(1, 2, 0)\n",
        "  image = image * np.array([0.229, 0.224, 0.225]) + np.array([0.485, 0.456, 0.406])\n",
        "  image = np.clip(image, 0, 1)\n",
        "\n",
        "  images.append(image)\n",
        "  labels.append(classnames[label])\n",
        "  predictions.append(classnames[prediction])\n",
        "\n",
        "wandb.init(project = \"da24m021_da6401_assignment2\", name=\"prediction_visualization\")\n",
        "columns = [\"Image\", \"True Label\", \"Predicted Label\"]\n",
        "prediction_table = wandb.Table(columns=columns)\n",
        "\n",
        "for i in range(num_samples):\n",
        "  img = wandb.Image(images[i])\n",
        "\n",
        "  true_label = labels[i]\n",
        "  pred_label = predictions[i]\n",
        "  prediction_table.add_data(\n",
        "      img,\n",
        "      true_label,\n",
        "      pred_label\n",
        "  )\n",
        "\n",
        "# Log the table to wandb\n",
        "wandb.log({\"Prediction Samples\": prediction_table})"
      ]
    }
  ],
  "metadata": {
    "colab": {
      "provenance": []
    },
    "kernelspec": {
      "display_name": ".da6401_2_venv",
      "language": "python",
      "name": "python3"
    },
    "language_info": {
      "codemirror_mode": {
        "name": "ipython",
        "version": 3
      },
      "file_extension": ".py",
      "mimetype": "text/x-python",
      "name": "python",
      "nbconvert_exporter": "python",
      "pygments_lexer": "ipython3",
      "version": "3.12.8"
    }
  },
  "nbformat": 4,
  "nbformat_minor": 0
}
